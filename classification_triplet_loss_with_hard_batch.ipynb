{
  "nbformat": 4,
  "nbformat_minor": 0,
  "metadata": {
    "colab": {
      "name": "classification_triplet_loss_with_hard_batch.ipynb",
      "provenance": [],
      "collapsed_sections": []
    },
    "kernelspec": {
      "name": "python3",
      "display_name": "Python 3"
    },
    "language_info": {
      "name": "python"
    }
  },
  "cells": [
    {
      "cell_type": "code",
      "execution_count": null,
      "metadata": {
        "id": "9b8q7Zfn9A5i"
      },
      "outputs": [],
      "source": [
        "import os\n",
        "import pandas as pd\n",
        "import numpy as np\n",
        "import random\n",
        "from tqdm import tqdm\n",
        "\n",
        "\n",
        "from keras.layers import Input, Lambda, Dense\n",
        "from keras.models import Model, Sequential\n",
        "from keras.regularizers import l2\n",
        "from keras import backend as K\n",
        "import tensorflow as tf\n",
        "import tensorflow_addons as tfa\n",
        "import tensorflow_datasets as tfds\n",
        "\n",
        "from tensorflow.keras.optimizers import Adam\n",
        "from tensorflow.keras.optimizers import SGD\n",
        "import numpy as np\n",
        "import pandas as pd\n",
        "import random\n",
        "from sklearn.preprocessing import MinMaxScaler\n",
        "from sklearn.model_selection import train_test_split\n",
        "from imblearn.over_sampling import RandomOverSampler\n",
        "from collections import Counter\n",
        "from sklearn.preprocessing import LabelEncoder\n",
        "from keras.utils import np_utils\n",
        "from sklearn.metrics import classification_report, confusion_matrix"
      ]
    },
    {
      "cell_type": "code",
      "source": [
        "!pip install -q -U tensorflow-addons"
      ],
      "metadata": {
        "colab": {
          "base_uri": "https://localhost:8080/"
        },
        "id": "fORAz9Lr-S98",
        "outputId": "cbfba4a1-0927-4c39-c00a-e33dc55e4755"
      },
      "execution_count": null,
      "outputs": [
        {
          "output_type": "stream",
          "name": "stdout",
          "text": [
            "\u001b[?25l\r\u001b[K     |▎                               | 10 kB 23.2 MB/s eta 0:00:01\r\u001b[K     |▋                               | 20 kB 15.3 MB/s eta 0:00:01\r\u001b[K     |▉                               | 30 kB 10.2 MB/s eta 0:00:01\r\u001b[K     |█▏                              | 40 kB 4.5 MB/s eta 0:00:01\r\u001b[K     |█▌                              | 51 kB 4.6 MB/s eta 0:00:01\r\u001b[K     |█▊                              | 61 kB 5.4 MB/s eta 0:00:01\r\u001b[K     |██                              | 71 kB 5.4 MB/s eta 0:00:01\r\u001b[K     |██▍                             | 81 kB 4.1 MB/s eta 0:00:01\r\u001b[K     |██▋                             | 92 kB 4.6 MB/s eta 0:00:01\r\u001b[K     |███                             | 102 kB 5.1 MB/s eta 0:00:01\r\u001b[K     |███▏                            | 112 kB 5.1 MB/s eta 0:00:01\r\u001b[K     |███▌                            | 122 kB 5.1 MB/s eta 0:00:01\r\u001b[K     |███▉                            | 133 kB 5.1 MB/s eta 0:00:01\r\u001b[K     |████                            | 143 kB 5.1 MB/s eta 0:00:01\r\u001b[K     |████▍                           | 153 kB 5.1 MB/s eta 0:00:01\r\u001b[K     |████▊                           | 163 kB 5.1 MB/s eta 0:00:01\r\u001b[K     |█████                           | 174 kB 5.1 MB/s eta 0:00:01\r\u001b[K     |█████▎                          | 184 kB 5.1 MB/s eta 0:00:01\r\u001b[K     |█████▌                          | 194 kB 5.1 MB/s eta 0:00:01\r\u001b[K     |█████▉                          | 204 kB 5.1 MB/s eta 0:00:01\r\u001b[K     |██████▏                         | 215 kB 5.1 MB/s eta 0:00:01\r\u001b[K     |██████▍                         | 225 kB 5.1 MB/s eta 0:00:01\r\u001b[K     |██████▊                         | 235 kB 5.1 MB/s eta 0:00:01\r\u001b[K     |███████                         | 245 kB 5.1 MB/s eta 0:00:01\r\u001b[K     |███████▎                        | 256 kB 5.1 MB/s eta 0:00:01\r\u001b[K     |███████▋                        | 266 kB 5.1 MB/s eta 0:00:01\r\u001b[K     |███████▉                        | 276 kB 5.1 MB/s eta 0:00:01\r\u001b[K     |████████▏                       | 286 kB 5.1 MB/s eta 0:00:01\r\u001b[K     |████████▌                       | 296 kB 5.1 MB/s eta 0:00:01\r\u001b[K     |████████▊                       | 307 kB 5.1 MB/s eta 0:00:01\r\u001b[K     |█████████                       | 317 kB 5.1 MB/s eta 0:00:01\r\u001b[K     |█████████▍                      | 327 kB 5.1 MB/s eta 0:00:01\r\u001b[K     |█████████▋                      | 337 kB 5.1 MB/s eta 0:00:01\r\u001b[K     |██████████                      | 348 kB 5.1 MB/s eta 0:00:01\r\u001b[K     |██████████▏                     | 358 kB 5.1 MB/s eta 0:00:01\r\u001b[K     |██████████▌                     | 368 kB 5.1 MB/s eta 0:00:01\r\u001b[K     |██████████▉                     | 378 kB 5.1 MB/s eta 0:00:01\r\u001b[K     |███████████                     | 389 kB 5.1 MB/s eta 0:00:01\r\u001b[K     |███████████▍                    | 399 kB 5.1 MB/s eta 0:00:01\r\u001b[K     |███████████▊                    | 409 kB 5.1 MB/s eta 0:00:01\r\u001b[K     |████████████                    | 419 kB 5.1 MB/s eta 0:00:01\r\u001b[K     |████████████▎                   | 430 kB 5.1 MB/s eta 0:00:01\r\u001b[K     |████████████▌                   | 440 kB 5.1 MB/s eta 0:00:01\r\u001b[K     |████████████▉                   | 450 kB 5.1 MB/s eta 0:00:01\r\u001b[K     |█████████████▏                  | 460 kB 5.1 MB/s eta 0:00:01\r\u001b[K     |█████████████▍                  | 471 kB 5.1 MB/s eta 0:00:01\r\u001b[K     |█████████████▊                  | 481 kB 5.1 MB/s eta 0:00:01\r\u001b[K     |██████████████                  | 491 kB 5.1 MB/s eta 0:00:01\r\u001b[K     |██████████████▎                 | 501 kB 5.1 MB/s eta 0:00:01\r\u001b[K     |██████████████▋                 | 512 kB 5.1 MB/s eta 0:00:01\r\u001b[K     |██████████████▉                 | 522 kB 5.1 MB/s eta 0:00:01\r\u001b[K     |███████████████▏                | 532 kB 5.1 MB/s eta 0:00:01\r\u001b[K     |███████████████▌                | 542 kB 5.1 MB/s eta 0:00:01\r\u001b[K     |███████████████▊                | 552 kB 5.1 MB/s eta 0:00:01\r\u001b[K     |████████████████                | 563 kB 5.1 MB/s eta 0:00:01\r\u001b[K     |████████████████▍               | 573 kB 5.1 MB/s eta 0:00:01\r\u001b[K     |████████████████▋               | 583 kB 5.1 MB/s eta 0:00:01\r\u001b[K     |█████████████████               | 593 kB 5.1 MB/s eta 0:00:01\r\u001b[K     |█████████████████▏              | 604 kB 5.1 MB/s eta 0:00:01\r\u001b[K     |█████████████████▌              | 614 kB 5.1 MB/s eta 0:00:01\r\u001b[K     |█████████████████▉              | 624 kB 5.1 MB/s eta 0:00:01\r\u001b[K     |██████████████████              | 634 kB 5.1 MB/s eta 0:00:01\r\u001b[K     |██████████████████▍             | 645 kB 5.1 MB/s eta 0:00:01\r\u001b[K     |██████████████████▊             | 655 kB 5.1 MB/s eta 0:00:01\r\u001b[K     |███████████████████             | 665 kB 5.1 MB/s eta 0:00:01\r\u001b[K     |███████████████████▎            | 675 kB 5.1 MB/s eta 0:00:01\r\u001b[K     |███████████████████▌            | 686 kB 5.1 MB/s eta 0:00:01\r\u001b[K     |███████████████████▉            | 696 kB 5.1 MB/s eta 0:00:01\r\u001b[K     |████████████████████▏           | 706 kB 5.1 MB/s eta 0:00:01\r\u001b[K     |████████████████████▍           | 716 kB 5.1 MB/s eta 0:00:01\r\u001b[K     |████████████████████▊           | 727 kB 5.1 MB/s eta 0:00:01\r\u001b[K     |█████████████████████           | 737 kB 5.1 MB/s eta 0:00:01\r\u001b[K     |█████████████████████▎          | 747 kB 5.1 MB/s eta 0:00:01\r\u001b[K     |█████████████████████▋          | 757 kB 5.1 MB/s eta 0:00:01\r\u001b[K     |█████████████████████▉          | 768 kB 5.1 MB/s eta 0:00:01\r\u001b[K     |██████████████████████▏         | 778 kB 5.1 MB/s eta 0:00:01\r\u001b[K     |██████████████████████▌         | 788 kB 5.1 MB/s eta 0:00:01\r\u001b[K     |██████████████████████▊         | 798 kB 5.1 MB/s eta 0:00:01\r\u001b[K     |███████████████████████         | 808 kB 5.1 MB/s eta 0:00:01\r\u001b[K     |███████████████████████▍        | 819 kB 5.1 MB/s eta 0:00:01\r\u001b[K     |███████████████████████▋        | 829 kB 5.1 MB/s eta 0:00:01\r\u001b[K     |████████████████████████        | 839 kB 5.1 MB/s eta 0:00:01\r\u001b[K     |████████████████████████▏       | 849 kB 5.1 MB/s eta 0:00:01\r\u001b[K     |████████████████████████▌       | 860 kB 5.1 MB/s eta 0:00:01\r\u001b[K     |████████████████████████▉       | 870 kB 5.1 MB/s eta 0:00:01\r\u001b[K     |█████████████████████████       | 880 kB 5.1 MB/s eta 0:00:01\r\u001b[K     |█████████████████████████▍      | 890 kB 5.1 MB/s eta 0:00:01\r\u001b[K     |█████████████████████████▊      | 901 kB 5.1 MB/s eta 0:00:01\r\u001b[K     |██████████████████████████      | 911 kB 5.1 MB/s eta 0:00:01\r\u001b[K     |██████████████████████████▎     | 921 kB 5.1 MB/s eta 0:00:01\r\u001b[K     |██████████████████████████▌     | 931 kB 5.1 MB/s eta 0:00:01\r\u001b[K     |██████████████████████████▉     | 942 kB 5.1 MB/s eta 0:00:01\r\u001b[K     |███████████████████████████▏    | 952 kB 5.1 MB/s eta 0:00:01\r\u001b[K     |███████████████████████████▍    | 962 kB 5.1 MB/s eta 0:00:01\r\u001b[K     |███████████████████████████▊    | 972 kB 5.1 MB/s eta 0:00:01\r\u001b[K     |████████████████████████████    | 983 kB 5.1 MB/s eta 0:00:01\r\u001b[K     |████████████████████████████▎   | 993 kB 5.1 MB/s eta 0:00:01\r\u001b[K     |████████████████████████████▋   | 1.0 MB 5.1 MB/s eta 0:00:01\r\u001b[K     |████████████████████████████▉   | 1.0 MB 5.1 MB/s eta 0:00:01\r\u001b[K     |█████████████████████████████▏  | 1.0 MB 5.1 MB/s eta 0:00:01\r\u001b[K     |█████████████████████████████▌  | 1.0 MB 5.1 MB/s eta 0:00:01\r\u001b[K     |█████████████████████████████▊  | 1.0 MB 5.1 MB/s eta 0:00:01\r\u001b[K     |██████████████████████████████  | 1.1 MB 5.1 MB/s eta 0:00:01\r\u001b[K     |██████████████████████████████▍ | 1.1 MB 5.1 MB/s eta 0:00:01\r\u001b[K     |██████████████████████████████▋ | 1.1 MB 5.1 MB/s eta 0:00:01\r\u001b[K     |███████████████████████████████ | 1.1 MB 5.1 MB/s eta 0:00:01\r\u001b[K     |███████████████████████████████▏| 1.1 MB 5.1 MB/s eta 0:00:01\r\u001b[K     |███████████████████████████████▌| 1.1 MB 5.1 MB/s eta 0:00:01\r\u001b[K     |███████████████████████████████▉| 1.1 MB 5.1 MB/s eta 0:00:01\r\u001b[K     |████████████████████████████████| 1.1 MB 5.1 MB/s \n",
            "\u001b[?25h"
          ]
        }
      ]
    },
    {
      "cell_type": "code",
      "source": [
        "uri = open(\".mongodb_token\").read()\n",
        "\n",
        "client = pymongo.MongoClient(uri)\n",
        "db = client['heavymetals']\n",
        "collection = db['heavymetals']"
      ],
      "metadata": {
        "id": "UzbNgwCm9eSt"
      },
      "execution_count": null,
      "outputs": []
    },
    {
      "cell_type": "code",
      "source": [
        "df = pd.DataFrame(list(db.Fe_cor_indexes.find()))\n",
        "df = df.dropna()\n",
        "df['Fe']=df['Fe'].dropna().map(lambda x: classDef(x,Fe))"
      ],
      "metadata": {
        "id": "s7B09UiVV5Ha"
      },
      "execution_count": null,
      "outputs": []
    },
    {
      "cell_type": "code",
      "source": [
        "Al = [200, 400, 800, 1200, 2500, 4000, 8000]\n",
        "Fe = [250, 500, 1000, 1500, 2000, 3000, 4000]\n",
        "V =  [0.5, 1, 2, 4, 6, 8, 10]\n",
        "Ni = [1, 2, 3, 6, 9, 12, 15]\n",
        "Cr = [1, 2, 3, 4, 6, 10, 15]\n",
        "Pb = [1, 2, 4, 8, 12, 16, 20]\n",
        "As = [0.1, 0.2, 0.4, 0.6, 0.9, 1.2, 1.6]\n",
        "\n",
        "def classDef(x,metClassRange):\n",
        "  for i in range(len(metClassRange)):\n",
        "    if (x < metClassRange[i]):\n",
        "      return i\n",
        "    elif (x >= metClassRange[len(metClassRange)-1]):\n",
        "      return len(metClassRange)"
      ],
      "metadata": {
        "id": "MwqJDSBb9fQH"
      },
      "execution_count": null,
      "outputs": []
    },
    {
      "cell_type": "code",
      "source": [
        "df['Fe']=df['Fe'].dropna().map(lambda x: classDef(x,Fe))"
      ],
      "metadata": {
        "id": "djt_1jGDV9Jy"
      },
      "execution_count": null,
      "outputs": []
    },
    {
      "cell_type": "code",
      "source": [
        "df"
      ],
      "metadata": {
        "colab": {
          "base_uri": "https://localhost:8080/",
          "height": 488
        },
        "id": "YjXff_AzZ3W5",
        "outputId": "c2d77488-8748-4bfd-dccd-79ab8040e6b6"
      },
      "execution_count": null,
      "outputs": [
        {
          "output_type": "execute_result",
          "data": {
            "text/plain": [
              "      LC_Type4  SWIRVZA  VNIRVZA    SAA    SZA   TIME  LST_Day_1km  \\\n",
              "0          6.0     73.0     73.0  108.0   77.5  699.0      14864.5   \n",
              "1          6.0     73.0     73.0  108.0   77.5  700.0      15009.0   \n",
              "2          6.0     72.0     72.0  109.0   78.0  701.0      14832.0   \n",
              "3          2.0     73.0     73.0  109.0   79.0  701.0      14846.0   \n",
              "4          4.0     72.0     72.0  109.0   79.0  702.0      14944.5   \n",
              "...        ...      ...      ...    ...    ...    ...          ...   \n",
              "4583       1.0     55.0     55.0  115.0  119.0  573.0      13639.5   \n",
              "4584       1.0     55.0     55.0  116.0  119.0  574.0      13661.5   \n",
              "4585       1.0     52.5     53.0  116.0  118.5  577.0      13615.0   \n",
              "4586       1.0     52.0     52.0  117.0  120.0  579.0      13609.5   \n",
              "4587       1.0     52.0     52.0  117.0  120.0  581.0      13669.0   \n",
              "\n",
              "      Night_view_time  Day_view_time            B5  ...         SZEN  \\\n",
              "0               221.0          110.0  14950.419341  ...  4656.777778   \n",
              "1               221.0          110.0  16227.613449  ...  4638.583333   \n",
              "2               221.0          110.0  16225.441665  ...  4691.875000   \n",
              "3               221.0          110.0  15969.163140  ...  4656.250000   \n",
              "4               221.0          111.0  15577.268577  ...  4595.142857   \n",
              "...               ...            ...           ...  ...          ...   \n",
              "4583            210.0          120.0  13201.465095  ...  6093.250000   \n",
              "4584            209.0          121.0  15632.825340  ...  6104.000000   \n",
              "4585            209.0          121.0  14191.578955  ...  6220.250000   \n",
              "4586            210.0          121.0  13294.281481  ...  6158.250000   \n",
              "4587            209.0          121.0  13645.831507  ...  6139.000000   \n",
              "\n",
              "             VZEN           B11            B6  sur_refl_b07  \\\n",
              "0     3699.500000  22827.816975  13805.278284   1396.500000   \n",
              "1     3693.500000  23251.804882  14170.123809   1687.500000   \n",
              "2     3656.500000  22635.824845  14423.536211   1354.500000   \n",
              "3     3648.541667  22468.118812  12886.915464   1032.000000   \n",
              "4     3599.250000  22547.717038  14246.689616   1336.102642   \n",
              "...           ...           ...           ...           ...   \n",
              "4583  3725.666667  17121.741984   8567.513688    495.000000   \n",
              "4584  3539.285714  17349.935914   9699.876964    691.000000   \n",
              "4585  3822.166667  17169.377438   9159.969833    427.500000   \n",
              "4586  3236.000000  17305.457150   8760.299543    430.000000   \n",
              "4587  3020.200000  16701.841438   8653.484344    513.500000   \n",
              "\n",
              "      BRDF_Albedo_Parameters_Band6_geo  BRDF_Albedo_Parameters_Band6_iso  \\\n",
              "0                                 54.5                        294.500000   \n",
              "1                                 41.5                        334.000000   \n",
              "2                                 57.0                        293.166667   \n",
              "3                                 44.0                        262.000000   \n",
              "4                                 69.0                        317.500000   \n",
              "...                                ...                               ...   \n",
              "4583                              12.5                        130.500000   \n",
              "4584                              26.0                        211.500000   \n",
              "4585                              14.5                        123.000000   \n",
              "4586                              17.0                        139.500000   \n",
              "4587                              16.0                        148.000000   \n",
              "\n",
              "      BRDF_Albedo_Parameters_Band7_geo  BRDF_Albedo_Parameters_Band7_iso  Fe  \n",
              "0                                 44.0                             184.5   1  \n",
              "1                                 31.0                             208.5   2  \n",
              "2                                 39.0                             170.5   0  \n",
              "3                                 33.0                             142.0   1  \n",
              "4                                 46.0                             184.0   2  \n",
              "...                                ...                               ...  ..  \n",
              "4583                               6.0                              57.0   7  \n",
              "4584                              11.0                              93.0   7  \n",
              "4585                               8.0                              51.0   7  \n",
              "4586                               8.0                              60.0   7  \n",
              "4587                               9.5                              68.0   7  \n",
              "\n",
              "[4588 rows x 29 columns]"
            ],
            "text/html": [
              "\n",
              "  <div id=\"df-c407d4ae-1e1a-4ced-ae04-5619e2658d7e\">\n",
              "    <div class=\"colab-df-container\">\n",
              "      <div>\n",
              "<style scoped>\n",
              "    .dataframe tbody tr th:only-of-type {\n",
              "        vertical-align: middle;\n",
              "    }\n",
              "\n",
              "    .dataframe tbody tr th {\n",
              "        vertical-align: top;\n",
              "    }\n",
              "\n",
              "    .dataframe thead th {\n",
              "        text-align: right;\n",
              "    }\n",
              "</style>\n",
              "<table border=\"1\" class=\"dataframe\">\n",
              "  <thead>\n",
              "    <tr style=\"text-align: right;\">\n",
              "      <th></th>\n",
              "      <th>LC_Type4</th>\n",
              "      <th>SWIRVZA</th>\n",
              "      <th>VNIRVZA</th>\n",
              "      <th>SAA</th>\n",
              "      <th>SZA</th>\n",
              "      <th>TIME</th>\n",
              "      <th>LST_Day_1km</th>\n",
              "      <th>Night_view_time</th>\n",
              "      <th>Day_view_time</th>\n",
              "      <th>B5</th>\n",
              "      <th>...</th>\n",
              "      <th>SZEN</th>\n",
              "      <th>VZEN</th>\n",
              "      <th>B11</th>\n",
              "      <th>B6</th>\n",
              "      <th>sur_refl_b07</th>\n",
              "      <th>BRDF_Albedo_Parameters_Band6_geo</th>\n",
              "      <th>BRDF_Albedo_Parameters_Band6_iso</th>\n",
              "      <th>BRDF_Albedo_Parameters_Band7_geo</th>\n",
              "      <th>BRDF_Albedo_Parameters_Band7_iso</th>\n",
              "      <th>Fe</th>\n",
              "    </tr>\n",
              "  </thead>\n",
              "  <tbody>\n",
              "    <tr>\n",
              "      <th>0</th>\n",
              "      <td>6.0</td>\n",
              "      <td>73.0</td>\n",
              "      <td>73.0</td>\n",
              "      <td>108.0</td>\n",
              "      <td>77.5</td>\n",
              "      <td>699.0</td>\n",
              "      <td>14864.5</td>\n",
              "      <td>221.0</td>\n",
              "      <td>110.0</td>\n",
              "      <td>14950.419341</td>\n",
              "      <td>...</td>\n",
              "      <td>4656.777778</td>\n",
              "      <td>3699.500000</td>\n",
              "      <td>22827.816975</td>\n",
              "      <td>13805.278284</td>\n",
              "      <td>1396.500000</td>\n",
              "      <td>54.5</td>\n",
              "      <td>294.500000</td>\n",
              "      <td>44.0</td>\n",
              "      <td>184.5</td>\n",
              "      <td>1</td>\n",
              "    </tr>\n",
              "    <tr>\n",
              "      <th>1</th>\n",
              "      <td>6.0</td>\n",
              "      <td>73.0</td>\n",
              "      <td>73.0</td>\n",
              "      <td>108.0</td>\n",
              "      <td>77.5</td>\n",
              "      <td>700.0</td>\n",
              "      <td>15009.0</td>\n",
              "      <td>221.0</td>\n",
              "      <td>110.0</td>\n",
              "      <td>16227.613449</td>\n",
              "      <td>...</td>\n",
              "      <td>4638.583333</td>\n",
              "      <td>3693.500000</td>\n",
              "      <td>23251.804882</td>\n",
              "      <td>14170.123809</td>\n",
              "      <td>1687.500000</td>\n",
              "      <td>41.5</td>\n",
              "      <td>334.000000</td>\n",
              "      <td>31.0</td>\n",
              "      <td>208.5</td>\n",
              "      <td>2</td>\n",
              "    </tr>\n",
              "    <tr>\n",
              "      <th>2</th>\n",
              "      <td>6.0</td>\n",
              "      <td>72.0</td>\n",
              "      <td>72.0</td>\n",
              "      <td>109.0</td>\n",
              "      <td>78.0</td>\n",
              "      <td>701.0</td>\n",
              "      <td>14832.0</td>\n",
              "      <td>221.0</td>\n",
              "      <td>110.0</td>\n",
              "      <td>16225.441665</td>\n",
              "      <td>...</td>\n",
              "      <td>4691.875000</td>\n",
              "      <td>3656.500000</td>\n",
              "      <td>22635.824845</td>\n",
              "      <td>14423.536211</td>\n",
              "      <td>1354.500000</td>\n",
              "      <td>57.0</td>\n",
              "      <td>293.166667</td>\n",
              "      <td>39.0</td>\n",
              "      <td>170.5</td>\n",
              "      <td>0</td>\n",
              "    </tr>\n",
              "    <tr>\n",
              "      <th>3</th>\n",
              "      <td>2.0</td>\n",
              "      <td>73.0</td>\n",
              "      <td>73.0</td>\n",
              "      <td>109.0</td>\n",
              "      <td>79.0</td>\n",
              "      <td>701.0</td>\n",
              "      <td>14846.0</td>\n",
              "      <td>221.0</td>\n",
              "      <td>110.0</td>\n",
              "      <td>15969.163140</td>\n",
              "      <td>...</td>\n",
              "      <td>4656.250000</td>\n",
              "      <td>3648.541667</td>\n",
              "      <td>22468.118812</td>\n",
              "      <td>12886.915464</td>\n",
              "      <td>1032.000000</td>\n",
              "      <td>44.0</td>\n",
              "      <td>262.000000</td>\n",
              "      <td>33.0</td>\n",
              "      <td>142.0</td>\n",
              "      <td>1</td>\n",
              "    </tr>\n",
              "    <tr>\n",
              "      <th>4</th>\n",
              "      <td>4.0</td>\n",
              "      <td>72.0</td>\n",
              "      <td>72.0</td>\n",
              "      <td>109.0</td>\n",
              "      <td>79.0</td>\n",
              "      <td>702.0</td>\n",
              "      <td>14944.5</td>\n",
              "      <td>221.0</td>\n",
              "      <td>111.0</td>\n",
              "      <td>15577.268577</td>\n",
              "      <td>...</td>\n",
              "      <td>4595.142857</td>\n",
              "      <td>3599.250000</td>\n",
              "      <td>22547.717038</td>\n",
              "      <td>14246.689616</td>\n",
              "      <td>1336.102642</td>\n",
              "      <td>69.0</td>\n",
              "      <td>317.500000</td>\n",
              "      <td>46.0</td>\n",
              "      <td>184.0</td>\n",
              "      <td>2</td>\n",
              "    </tr>\n",
              "    <tr>\n",
              "      <th>...</th>\n",
              "      <td>...</td>\n",
              "      <td>...</td>\n",
              "      <td>...</td>\n",
              "      <td>...</td>\n",
              "      <td>...</td>\n",
              "      <td>...</td>\n",
              "      <td>...</td>\n",
              "      <td>...</td>\n",
              "      <td>...</td>\n",
              "      <td>...</td>\n",
              "      <td>...</td>\n",
              "      <td>...</td>\n",
              "      <td>...</td>\n",
              "      <td>...</td>\n",
              "      <td>...</td>\n",
              "      <td>...</td>\n",
              "      <td>...</td>\n",
              "      <td>...</td>\n",
              "      <td>...</td>\n",
              "      <td>...</td>\n",
              "      <td>...</td>\n",
              "    </tr>\n",
              "    <tr>\n",
              "      <th>4583</th>\n",
              "      <td>1.0</td>\n",
              "      <td>55.0</td>\n",
              "      <td>55.0</td>\n",
              "      <td>115.0</td>\n",
              "      <td>119.0</td>\n",
              "      <td>573.0</td>\n",
              "      <td>13639.5</td>\n",
              "      <td>210.0</td>\n",
              "      <td>120.0</td>\n",
              "      <td>13201.465095</td>\n",
              "      <td>...</td>\n",
              "      <td>6093.250000</td>\n",
              "      <td>3725.666667</td>\n",
              "      <td>17121.741984</td>\n",
              "      <td>8567.513688</td>\n",
              "      <td>495.000000</td>\n",
              "      <td>12.5</td>\n",
              "      <td>130.500000</td>\n",
              "      <td>6.0</td>\n",
              "      <td>57.0</td>\n",
              "      <td>7</td>\n",
              "    </tr>\n",
              "    <tr>\n",
              "      <th>4584</th>\n",
              "      <td>1.0</td>\n",
              "      <td>55.0</td>\n",
              "      <td>55.0</td>\n",
              "      <td>116.0</td>\n",
              "      <td>119.0</td>\n",
              "      <td>574.0</td>\n",
              "      <td>13661.5</td>\n",
              "      <td>209.0</td>\n",
              "      <td>121.0</td>\n",
              "      <td>15632.825340</td>\n",
              "      <td>...</td>\n",
              "      <td>6104.000000</td>\n",
              "      <td>3539.285714</td>\n",
              "      <td>17349.935914</td>\n",
              "      <td>9699.876964</td>\n",
              "      <td>691.000000</td>\n",
              "      <td>26.0</td>\n",
              "      <td>211.500000</td>\n",
              "      <td>11.0</td>\n",
              "      <td>93.0</td>\n",
              "      <td>7</td>\n",
              "    </tr>\n",
              "    <tr>\n",
              "      <th>4585</th>\n",
              "      <td>1.0</td>\n",
              "      <td>52.5</td>\n",
              "      <td>53.0</td>\n",
              "      <td>116.0</td>\n",
              "      <td>118.5</td>\n",
              "      <td>577.0</td>\n",
              "      <td>13615.0</td>\n",
              "      <td>209.0</td>\n",
              "      <td>121.0</td>\n",
              "      <td>14191.578955</td>\n",
              "      <td>...</td>\n",
              "      <td>6220.250000</td>\n",
              "      <td>3822.166667</td>\n",
              "      <td>17169.377438</td>\n",
              "      <td>9159.969833</td>\n",
              "      <td>427.500000</td>\n",
              "      <td>14.5</td>\n",
              "      <td>123.000000</td>\n",
              "      <td>8.0</td>\n",
              "      <td>51.0</td>\n",
              "      <td>7</td>\n",
              "    </tr>\n",
              "    <tr>\n",
              "      <th>4586</th>\n",
              "      <td>1.0</td>\n",
              "      <td>52.0</td>\n",
              "      <td>52.0</td>\n",
              "      <td>117.0</td>\n",
              "      <td>120.0</td>\n",
              "      <td>579.0</td>\n",
              "      <td>13609.5</td>\n",
              "      <td>210.0</td>\n",
              "      <td>121.0</td>\n",
              "      <td>13294.281481</td>\n",
              "      <td>...</td>\n",
              "      <td>6158.250000</td>\n",
              "      <td>3236.000000</td>\n",
              "      <td>17305.457150</td>\n",
              "      <td>8760.299543</td>\n",
              "      <td>430.000000</td>\n",
              "      <td>17.0</td>\n",
              "      <td>139.500000</td>\n",
              "      <td>8.0</td>\n",
              "      <td>60.0</td>\n",
              "      <td>7</td>\n",
              "    </tr>\n",
              "    <tr>\n",
              "      <th>4587</th>\n",
              "      <td>1.0</td>\n",
              "      <td>52.0</td>\n",
              "      <td>52.0</td>\n",
              "      <td>117.0</td>\n",
              "      <td>120.0</td>\n",
              "      <td>581.0</td>\n",
              "      <td>13669.0</td>\n",
              "      <td>209.0</td>\n",
              "      <td>121.0</td>\n",
              "      <td>13645.831507</td>\n",
              "      <td>...</td>\n",
              "      <td>6139.000000</td>\n",
              "      <td>3020.200000</td>\n",
              "      <td>16701.841438</td>\n",
              "      <td>8653.484344</td>\n",
              "      <td>513.500000</td>\n",
              "      <td>16.0</td>\n",
              "      <td>148.000000</td>\n",
              "      <td>9.5</td>\n",
              "      <td>68.0</td>\n",
              "      <td>7</td>\n",
              "    </tr>\n",
              "  </tbody>\n",
              "</table>\n",
              "<p>4588 rows × 29 columns</p>\n",
              "</div>\n",
              "      <button class=\"colab-df-convert\" onclick=\"convertToInteractive('df-c407d4ae-1e1a-4ced-ae04-5619e2658d7e')\"\n",
              "              title=\"Convert this dataframe to an interactive table.\"\n",
              "              style=\"display:none;\">\n",
              "        \n",
              "  <svg xmlns=\"http://www.w3.org/2000/svg\" height=\"24px\"viewBox=\"0 0 24 24\"\n",
              "       width=\"24px\">\n",
              "    <path d=\"M0 0h24v24H0V0z\" fill=\"none\"/>\n",
              "    <path d=\"M18.56 5.44l.94 2.06.94-2.06 2.06-.94-2.06-.94-.94-2.06-.94 2.06-2.06.94zm-11 1L8.5 8.5l.94-2.06 2.06-.94-2.06-.94L8.5 2.5l-.94 2.06-2.06.94zm10 10l.94 2.06.94-2.06 2.06-.94-2.06-.94-.94-2.06-.94 2.06-2.06.94z\"/><path d=\"M17.41 7.96l-1.37-1.37c-.4-.4-.92-.59-1.43-.59-.52 0-1.04.2-1.43.59L10.3 9.45l-7.72 7.72c-.78.78-.78 2.05 0 2.83L4 21.41c.39.39.9.59 1.41.59.51 0 1.02-.2 1.41-.59l7.78-7.78 2.81-2.81c.8-.78.8-2.07 0-2.86zM5.41 20L4 18.59l7.72-7.72 1.47 1.35L5.41 20z\"/>\n",
              "  </svg>\n",
              "      </button>\n",
              "      \n",
              "  <style>\n",
              "    .colab-df-container {\n",
              "      display:flex;\n",
              "      flex-wrap:wrap;\n",
              "      gap: 12px;\n",
              "    }\n",
              "\n",
              "    .colab-df-convert {\n",
              "      background-color: #E8F0FE;\n",
              "      border: none;\n",
              "      border-radius: 50%;\n",
              "      cursor: pointer;\n",
              "      display: none;\n",
              "      fill: #1967D2;\n",
              "      height: 32px;\n",
              "      padding: 0 0 0 0;\n",
              "      width: 32px;\n",
              "    }\n",
              "\n",
              "    .colab-df-convert:hover {\n",
              "      background-color: #E2EBFA;\n",
              "      box-shadow: 0px 1px 2px rgba(60, 64, 67, 0.3), 0px 1px 3px 1px rgba(60, 64, 67, 0.15);\n",
              "      fill: #174EA6;\n",
              "    }\n",
              "\n",
              "    [theme=dark] .colab-df-convert {\n",
              "      background-color: #3B4455;\n",
              "      fill: #D2E3FC;\n",
              "    }\n",
              "\n",
              "    [theme=dark] .colab-df-convert:hover {\n",
              "      background-color: #434B5C;\n",
              "      box-shadow: 0px 1px 3px 1px rgba(0, 0, 0, 0.15);\n",
              "      filter: drop-shadow(0px 1px 2px rgba(0, 0, 0, 0.3));\n",
              "      fill: #FFFFFF;\n",
              "    }\n",
              "  </style>\n",
              "\n",
              "      <script>\n",
              "        const buttonEl =\n",
              "          document.querySelector('#df-c407d4ae-1e1a-4ced-ae04-5619e2658d7e button.colab-df-convert');\n",
              "        buttonEl.style.display =\n",
              "          google.colab.kernel.accessAllowed ? 'block' : 'none';\n",
              "\n",
              "        async function convertToInteractive(key) {\n",
              "          const element = document.querySelector('#df-c407d4ae-1e1a-4ced-ae04-5619e2658d7e');\n",
              "          const dataTable =\n",
              "            await google.colab.kernel.invokeFunction('convertToInteractive',\n",
              "                                                     [key], {});\n",
              "          if (!dataTable) return;\n",
              "\n",
              "          const docLinkHtml = 'Like what you see? Visit the ' +\n",
              "            '<a target=\"_blank\" href=https://colab.research.google.com/notebooks/data_table.ipynb>data table notebook</a>'\n",
              "            + ' to learn more about interactive tables.';\n",
              "          element.innerHTML = '';\n",
              "          dataTable['output_type'] = 'display_data';\n",
              "          await google.colab.output.renderOutput(dataTable, element);\n",
              "          const docLink = document.createElement('div');\n",
              "          docLink.innerHTML = docLinkHtml;\n",
              "          element.appendChild(docLink);\n",
              "        }\n",
              "      </script>\n",
              "    </div>\n",
              "  </div>\n",
              "  "
            ]
          },
          "metadata": {},
          "execution_count": 7
        }
      ]
    },
    {
      "cell_type": "code",
      "source": [
        "x = df[df.columns[:-1]].values\n",
        "y = df[df.columns[-1]].values\n",
        "\n",
        "dim_x = x.shape[1]\n",
        "dim_y = len(set(y))"
      ],
      "metadata": {
        "id": "5AEQaNxO9fJ-"
      },
      "execution_count": null,
      "outputs": []
    },
    {
      "cell_type": "code",
      "source": [
        "unique, counts = np.unique(y, return_counts=True)\n",
        "data = dict(zip(unique, counts))"
      ],
      "metadata": {
        "id": "n3RWlIm2GrEU"
      },
      "execution_count": null,
      "outputs": []
    },
    {
      "cell_type": "code",
      "source": [
        "import seaborn as sns\n",
        "import matplotlib.pyplot as plt\n",
        "sns.set_style('whitegrid')"
      ],
      "metadata": {
        "id": "F3RbctX_ziaR"
      },
      "execution_count": null,
      "outputs": []
    },
    {
      "cell_type": "code",
      "source": [
        "fig, ax = plt.subplots(figsize=(10,8))\n",
        "ind = np.arange(len(data))\n",
        "palette = sns.color_palette(\"husl\", len(data))\n",
        "\n",
        "plt.bar(ind, list(data.values()), color=palette)\n",
        "plt.xticks(ind, list(data.keys()))\n",
        "plt.show()"
      ],
      "metadata": {
        "colab": {
          "base_uri": "https://localhost:8080/",
          "height": 483
        },
        "id": "OxkCJu__zL2p",
        "outputId": "1c4d9f2b-1069-4394-b6d1-7bb35ce85f25"
      },
      "execution_count": null,
      "outputs": [
        {
          "output_type": "display_data",
          "data": {
            "text/plain": [
              "<Figure size 720x576 with 1 Axes>"
            ],
            "image/png": "[encoded data removed]"
          },
          "metadata": {}
        }
      ]
    },
    {
      "cell_type": "code",
      "source": [
        "# нормализация\n",
        "from sklearn.preprocessing import MinMaxScaler\n",
        "scaler = MinMaxScaler()\n",
        "scaler.fit(x)\n",
        "x = scaler.transform(x)"
      ],
      "metadata": {
        "id": "bSX4sNUWafCq"
      },
      "execution_count": null,
      "outputs": []
    },
    {
      "cell_type": "code",
      "source": [
        "# распределение на выборки\n",
        "x_train, x_test, y_train, y_test = train_test_split(x, y, test_size=0.25, random_state=42)"
      ],
      "metadata": {
        "id": "k9lmsl5QWLu6"
      },
      "execution_count": null,
      "outputs": []
    },
    {
      "cell_type": "code",
      "source": [
        "# балансировка классов\n",
        "from imblearn.over_sampling import SMOTE\n",
        "from collections import Counter\n",
        "\n",
        "sm = SMOTE(random_state=2)\n",
        "x, y = sm.fit_resample(x_train, y_train)"
      ],
      "metadata": {
        "id": "qaVvtcod9fFb"
      },
      "execution_count": null,
      "outputs": []
    },
    {
      "cell_type": "code",
      "source": [
        "def create_batch(batch_size=256):\n",
        "    x_anchors = np.zeros((batch_size, 28))\n",
        "    x_positives = np.zeros((batch_size, 28))\n",
        "    x_negatives = np.zeros((batch_size, 28))\n",
        "    \n",
        "    for i in range(0, batch_size):\n",
        "        random_index = random.randint(0, x_train.shape[0] - 1)\n",
        "        x_anchor = x_train[random_index]\n",
        "        y = y_train[random_index]\n",
        "        \n",
        "        indices_for_pos = np.squeeze(np.where(y_train == y))\n",
        "        indices_for_neg = np.squeeze(np.where(y_train != y))\n",
        "        \n",
        "        x_positive = x_train[indices_for_pos[random.randint(0, len(indices_for_pos) - 1)]]\n",
        "        x_negative = x_train[indices_for_neg[random.randint(0, len(indices_for_neg) - 1)]]\n",
        "        \n",
        "        x_anchors[i] = x_anchor\n",
        "        x_positives[i] = x_positive\n",
        "        x_negatives[i] = x_negative\n",
        "        \n",
        "    return [x_anchors, x_positives, x_negatives]"
      ],
      "metadata": {
        "id": "O5VTHRmL-lu5"
      },
      "execution_count": null,
      "outputs": []
    },
    {
      "cell_type": "code",
      "source": [
        "emb_size = 128\n",
        "embedding_model = tf.keras.models.Sequential([\n",
        "    tf.keras.layers.Dense(512,activation='relu',input_shape=(28,)),\n",
        "    tf.keras.layers.Dense(256,activation='relu'),\n",
        "    tf.keras.layers.Dense(emb_size, activation='sigmoid')\n",
        "])"
      ],
      "metadata": {
        "id": "YbxvPuPRAazh"
      },
      "execution_count": null,
      "outputs": []
    },
    {
      "cell_type": "code",
      "source": [
        "def create_hard_batch(batch_size, num_hard, split = \"train\"):\n",
        "    \n",
        "    x_anchors = np.zeros((batch_size, 28))\n",
        "    x_positives = np.zeros((batch_size, 28))\n",
        "    x_negatives = np.zeros((batch_size, 28))\n",
        "    y_out = np.zeros(batch_size)\n",
        "    if split ==\"train\":\n",
        "        data = x_train\n",
        "        data_y = y_train\n",
        "    else:\n",
        "        data = x_test\n",
        "        data_y = y_test\n",
        "    \n",
        "\n",
        "    hard_batches = [] \n",
        "    batch_losses = []\n",
        "    \n",
        "    rand_batches = []\n",
        "    \n",
        "\n",
        "    for i in range(0, batch_size):\n",
        "        hard_batches.append(create_batch(1, split))\n",
        "        \n",
        "        A_emb = embedding_model.predict(hard_batches[i][0])\n",
        "        P_emb = embedding_model.predict(hard_batches[i][1])\n",
        "        N_emb = embedding_model.predict(hard_batches[i][2])\n",
        "        \n",
        "        #  d(A, P) - d(A, N) \n",
        "        batch_losses.append(np.sum(np.square(A_emb-P_emb),axis=1) - np.sum(np.square(A_emb-N_emb),axis=1))\n",
        "    \n",
        "    \n",
        "    hard_batch_selections = [x for _, x in sorted(zip(batch_losses,hard_batches), key=lambda x: x[0])]\n",
        "    hard_batches = hard_batch_selections[:num_hard]\n",
        "    \n",
        "    # получение batch_size — количество случайных примеров num_hard\n",
        "    num_rand = batch_size - num_hard\n",
        "    for i in range(0, num_rand):\n",
        "        rand_batch = create_batch(1, split)\n",
        "        rand_batches.append(rand_batch)\n",
        "    \n",
        "    selections = hard_batches + rand_batches\n",
        "    \n",
        "    for i in range(0, len(selections)):\n",
        "        x_anchors[i] = selections[i][0]\n",
        "        x_positives[i] = selections[i][1]\n",
        "        x_negatives[i] = selections[i][2]\n",
        "        y_out[i] = selections[i][3]\n",
        "        \n",
        "    return [x_anchors, x_positives, x_negatives, y_out]"
      ],
      "metadata": {
        "id": "K5rxAJDC-lmq"
      },
      "execution_count": null,
      "outputs": []
    },
    {
      "cell_type": "code",
      "source": [
        "def create_batch(batch_size=256, split = \"train\"):\n",
        "    x_anchors = np.zeros((batch_size, 28))\n",
        "    x_positives = np.zeros((batch_size, 28))\n",
        "    x_negatives = np.zeros((batch_size, 28))\n",
        "\n",
        "    y_out = np.zeros(batch_size) ##\n",
        "\n",
        "    if split ==\"train\":\n",
        "        print('train')\n",
        "        data = x_train\n",
        "        data_y = y_train\n",
        "    else:\n",
        "        print('test')\n",
        "        data = x_test\n",
        "        data_y = y_test\n",
        "    \n",
        "    for i in tqdm(range(0, batch_size)):\n",
        "        # поиск якоря, положительного и отрицательного примера\n",
        "        random_index = random.randint(0, data.shape[0] - 1)\n",
        "        x_anchor = data[random_index]\n",
        "        y = data_y[random_index]\n",
        "        \n",
        "        indices_for_pos = np.squeeze(np.where(data_y == y))\n",
        "        indices_for_neg = np.squeeze(np.where(data_y != y))\n",
        "        \n",
        "        x_positive = data[indices_for_pos[random.randint(0, len(indices_for_pos) - 1)]]\n",
        "        x_negative = data[indices_for_neg[random.randint(0, len(indices_for_neg) - 1)]]\n",
        "        \n",
        "        x_anchors[i] = x_anchor\n",
        "        x_positives[i] = x_positive\n",
        "        x_negatives[i] = x_negative\n",
        "        y_out[i] = y\n",
        "        \n",
        "    return [x_anchors, x_positives, x_negatives, y_out]"
      ],
      "metadata": {
        "id": "9yBZIDC3Au1t"
      },
      "execution_count": null,
      "outputs": []
    },
    {
      "cell_type": "code",
      "source": [
        "y_train.shape"
      ],
      "metadata": {
        "colab": {
          "base_uri": "https://localhost:8080/"
        },
        "id": "giJi6KqRbwKf",
        "outputId": "07cafc4d-241b-4140-ccde-639807bbd83e"
      },
      "execution_count": null,
      "outputs": [
        {
          "output_type": "execute_result",
          "data": {
            "text/plain": [
              "(9390,)"
            ]
          },
          "metadata": {},
          "execution_count": 20
        }
      ]
    },
    {
      "cell_type": "code",
      "source": [
        "y_test.shape"
      ],
      "metadata": {
        "colab": {
          "base_uri": "https://localhost:8080/"
        },
        "id": "vs5xWXS_cGQs",
        "outputId": "ee1bc669-ddb5-4839-f3b0-a195b7a4fbce"
      },
      "execution_count": null,
      "outputs": [
        {
          "output_type": "execute_result",
          "data": {
            "text/plain": [
              "(3130,)"
            ]
          },
          "metadata": {},
          "execution_count": 21
        }
      ]
    },
    {
      "cell_type": "code",
      "source": [
        "train = create_batch(12000,'train')\n",
        "val = create_batch(4000,'test')"
      ],
      "metadata": {
        "colab": {
          "base_uri": "https://localhost:8080/"
        },
        "id": "aZ1la7XIbl23",
        "outputId": "7de152c1-a1ed-4f0f-ece1-8d4c4ef9d822"
      },
      "execution_count": null,
      "outputs": [
        {
          "output_type": "stream",
          "name": "stdout",
          "text": [
            "train\n"
          ]
        },
        {
          "output_type": "stream",
          "name": "stderr",
          "text": [
            "100%|██████████| 12000/12000 [00:00<00:00, 12088.07it/s]\n"
          ]
        },
        {
          "output_type": "stream",
          "name": "stdout",
          "text": [
            "test\n"
          ]
        },
        {
          "output_type": "stream",
          "name": "stderr",
          "text": [
            "100%|██████████| 4000/4000 [00:00<00:00, 21737.16it/s]\n"
          ]
        }
      ]
    },
    {
      "cell_type": "code",
      "source": [
        "train = create_hard_batch(16000,5000)"
      ],
      "metadata": {
        "id": "oWHXwpV--Q2R"
      },
      "execution_count": null,
      "outputs": []
    },
    {
      "cell_type": "code",
      "source": [
        "val = create_hard_batch(5000,2000,'test')"
      ],
      "metadata": {
        "id": "PsG1XwJTpX3O"
      },
      "execution_count": null,
      "outputs": []
    },
    {
      "cell_type": "code",
      "source": [
        "unique, counts = np.unique(val[3], return_counts=True)\n",
        "dict(zip(unique, counts))"
      ],
      "metadata": {
        "id": "VlRky3RM9R10",
        "colab": {
          "base_uri": "https://localhost:8080/"
        },
        "outputId": "ed8ed15a-7e35-42a3-dcee-e7e4107ae05b"
      },
      "execution_count": null,
      "outputs": [
        {
          "output_type": "execute_result",
          "data": {
            "text/plain": [
              "{0.0: 484,\n",
              " 1.0: 524,\n",
              " 2.0: 509,\n",
              " 3.0: 507,\n",
              " 4.0: 495,\n",
              " 5.0: 512,\n",
              " 6.0: 464,\n",
              " 7.0: 505}"
            ]
          },
          "metadata": {},
          "execution_count": 42
        }
      ]
    },
    {
      "cell_type": "code",
      "source": [
        "def identity_loss(y_true, y_pred):\n",
        "    return K.mean(y_pred)\n",
        "\n",
        "def triplet_loss(x, alpha = 0.4):\n",
        "    anchor,positive,negative = x\n",
        "    pos_dist = K.sum(K.square(anchor-positive),axis=1)\n",
        "    neg_dist = K.sum(K.square(anchor-negative),axis=1)\n",
        "    basic_loss = pos_dist-neg_dist+alpha\n",
        "    loss = K.maximum(basic_loss,0.01) \n",
        "    return loss"
      ],
      "metadata": {
        "id": "8mayJ6LkjPUW"
      },
      "execution_count": null,
      "outputs": []
    },
    {
      "cell_type": "code",
      "source": [
        "def embedding_model(emb_size=64):\n",
        "\n",
        "  emb_size = 128\n",
        "  embedding_model = tf.keras.models.Sequential([\n",
        "  tf.keras.layers.Dense(256,activation='relu',input_shape=(28,)),\n",
        "  tf.keras.layers.Dense(128,activation='relu'),\n",
        "  tf.keras.layers.Dense(emb_size, activation='softmax'),\n",
        "  tf.keras.layers.Lambda(lambda x: K.l2_normalize(x,axis=-1))])\n",
        "\n",
        "  return embedding_model"
      ],
      "metadata": {
        "id": "n-S8dDzojPL_"
      },
      "execution_count": null,
      "outputs": []
    },
    {
      "cell_type": "code",
      "source": [
        "def build_network(base_model):\n",
        "\n",
        "  input_1 = Input(shape=(28,))\n",
        "  input_2 = Input(shape=(28,))\n",
        "  input_3 = Input(shape=(28,))\n",
        "\n",
        "  A = base_model(input_1)\n",
        "  P = base_model(input_2)\n",
        "  N = base_model(input_3)\n",
        "\n",
        "  loss = Lambda(triplet_loss)([A, P, N])\n",
        "  model = Model(inputs = [input_1, input_2, input_3], outputs = loss)\n",
        "  model.compile(loss = identity_loss, optimizer = Adam(0.001))\n",
        "  return model"
      ],
      "metadata": {
        "id": "5rtTQE6GjPEa"
      },
      "execution_count": null,
      "outputs": []
    },
    {
      "cell_type": "code",
      "source": [
        "def build_network(base_model):\n",
        "\n",
        "  input_1 = Input(shape=(28,))\n",
        "  input_2 = Input(shape=(28,))\n",
        "  input_3 = Input(shape=(28,))\n",
        "\n",
        "  A = base_model(input_1)\n",
        "  P = base_model(input_2)\n",
        "  N = base_model(input_3)\n",
        "\n",
        "  loss = Lambda(triplet_loss)([A, P, N])\n",
        "  # outputs = Dense(8, activation=\"softmax\")(loss)\n",
        "  model = Model(inputs = [input_1, input_2, input_3], outputs = loss)\n",
        "  model.compile(loss = identity_loss, optimizer = Adam(0.001))\n",
        "  return model"
      ],
      "metadata": {
        "id": "JNfHkhYM6VrC"
      },
      "execution_count": null,
      "outputs": []
    },
    {
      "cell_type": "code",
      "source": [
        "outputs = Dense(1, activation=\"sigmoid\")(distance)"
      ],
      "metadata": {
        "id": "aDw3_vId6Rcg"
      },
      "execution_count": null,
      "outputs": []
    },
    {
      "cell_type": "code",
      "source": [
        "base_model = embedding_model()\n",
        "model = build_network(base_model)\n",
        "model.summary()"
      ],
      "metadata": {
        "colab": {
          "base_uri": "https://localhost:8080/"
        },
        "id": "LQKzBOLWnQDF",
        "outputId": "a15c8b43-be2f-48ae-e0bd-aaf0047f21a1"
      },
      "execution_count": null,
      "outputs": [
        {
          "output_type": "stream",
          "name": "stdout",
          "text": [
            "Model: \"model\"\n",
            "__________________________________________________________________________________________________\n",
            " Layer (type)                   Output Shape         Param #     Connected to                     \n",
            "==================================================================================================\n",
            " input_1 (InputLayer)           [(None, 28)]         0           []                               \n",
            "                                                                                                  \n",
            " input_2 (InputLayer)           [(None, 28)]         0           []                               \n",
            "                                                                                                  \n",
            " input_3 (InputLayer)           [(None, 28)]         0           []                               \n",
            "                                                                                                  \n",
            " sequential_1 (Sequential)      (None, 128)          56832       ['input_1[0][0]',                \n",
            "                                                                  'input_2[0][0]',                \n",
            "                                                                  'input_3[0][0]']                \n",
            "                                                                                                  \n",
            " lambda_1 (Lambda)              (None,)              0           ['sequential_1[0][0]',           \n",
            "                                                                  'sequential_1[1][0]',           \n",
            "                                                                  'sequential_1[2][0]']           \n",
            "                                                                                                  \n",
            "==================================================================================================\n",
            "Total params: 56,832\n",
            "Trainable params: 56,832\n",
            "Non-trainable params: 0\n",
            "__________________________________________________________________________________________________\n"
          ]
        }
      ]
    },
    {
      "cell_type": "code",
      "source": [
        "from keras.utils.vis_utils import plot_model"
      ],
      "metadata": {
        "id": "RFsrynU41t-3"
      },
      "execution_count": null,
      "outputs": []
    },
    {
      "cell_type": "code",
      "source": [
        "history = model.fit( [train[0],train[1], train[2]], train[3].reshape(-1,1), epochs = 300, batch_size=64,\n",
        "                    validation_data=( [val[0], val[1], val[2]], val[3].reshape(-1,1) ))"
      ],
      "metadata": {
        "colab": {
          "base_uri": "https://localhost:8080/"
        },
        "id": "Go9ssAYFncCw",
        "outputId": "388eefd6-7b16-41a5-88fc-ec9a162cc0c3"
      },
      "execution_count": null,
      "outputs": [
        {
          "output_type": "stream",
          "name": "stdout",
          "text": [
            "Epoch 1/300\n",
            "188/188 [==============================] - 4s 14ms/step - loss: 0.3818 - val_loss: 0.3813\n",
            "Epoch 2/300\n",
            "188/188 [==============================] - 1s 6ms/step - loss: 0.3661 - val_loss: 0.3757\n",
            "Epoch 3/300\n",
            "188/188 [==============================] - 1s 6ms/step - loss: 0.3583 - val_loss: 0.3757\n",
            "Epoch 4/300\n",
            "188/188 [==============================] - 1s 6ms/step - loss: 0.3535 - val_loss: 0.3636\n",
            "Epoch 5/300\n",
            "188/188 [==============================] - 1s 6ms/step - loss: 0.3478 - val_loss: 0.3645\n",
            "Epoch 6/300\n",
            "188/188 [==============================] - 1s 6ms/step - loss: 0.3434 - val_loss: 0.3652\n",
            "Epoch 7/300\n",
            "188/188 [==============================] - 1s 6ms/step - loss: 0.3370 - val_loss: 0.3708\n",
            "Epoch 8/300\n",
            "188/188 [==============================] - 1s 6ms/step - loss: 0.3310 - val_loss: 0.3646\n",
            "Epoch 9/300\n",
            "188/188 [==============================] - 1s 6ms/step - loss: 0.3272 - val_loss: 0.3615\n",
            "Epoch 10/300\n",
            "188/188 [==============================] - 1s 6ms/step - loss: 0.3200 - val_loss: 0.3622\n",
            "Epoch 11/300\n",
            "188/188 [==============================] - 1s 6ms/step - loss: 0.3134 - val_loss: 0.3629\n",
            "Epoch 12/300\n",
            "188/188 [==============================] - 1s 5ms/step - loss: 0.3030 - val_loss: 0.3595\n",
            "Epoch 13/300\n",
            "188/188 [==============================] - 1s 6ms/step - loss: 0.2967 - val_loss: 0.3572\n",
            "Epoch 14/300\n",
            "188/188 [==============================] - 1s 6ms/step - loss: 0.2883 - val_loss: 0.3550\n",
            "Epoch 15/300\n",
            "188/188 [==============================] - 1s 6ms/step - loss: 0.2805 - val_loss: 0.3551\n",
            "Epoch 16/300\n",
            "188/188 [==============================] - 1s 6ms/step - loss: 0.2725 - val_loss: 0.3586\n",
            "Epoch 17/300\n",
            "188/188 [==============================] - 1s 6ms/step - loss: 0.2626 - val_loss: 0.3532\n",
            "Epoch 18/300\n",
            "188/188 [==============================] - 1s 6ms/step - loss: 0.2548 - val_loss: 0.3491\n",
            "Epoch 19/300\n",
            "188/188 [==============================] - 1s 6ms/step - loss: 0.2471 - val_loss: 0.3423\n",
            "Epoch 20/300\n",
            "188/188 [==============================] - 1s 6ms/step - loss: 0.2403 - val_loss: 0.3440\n",
            "Epoch 21/300\n",
            "188/188 [==============================] - 1s 6ms/step - loss: 0.2325 - val_loss: 0.3429\n",
            "Epoch 22/300\n",
            "188/188 [==============================] - 1s 6ms/step - loss: 0.2232 - val_loss: 0.3349\n",
            "Epoch 23/300\n",
            "188/188 [==============================] - 1s 6ms/step - loss: 0.2160 - val_loss: 0.3371\n",
            "Epoch 24/300\n",
            "188/188 [==============================] - 1s 6ms/step - loss: 0.2103 - val_loss: 0.3385\n",
            "Epoch 25/300\n",
            "188/188 [==============================] - 1s 6ms/step - loss: 0.2034 - val_loss: 0.3282\n",
            "Epoch 26/300\n",
            "188/188 [==============================] - 1s 6ms/step - loss: 0.1955 - val_loss: 0.3260\n",
            "Epoch 27/300\n",
            "188/188 [==============================] - 1s 6ms/step - loss: 0.1890 - val_loss: 0.3221\n",
            "Epoch 28/300\n",
            "188/188 [==============================] - 1s 6ms/step - loss: 0.1816 - val_loss: 0.3273\n",
            "Epoch 29/300\n",
            "188/188 [==============================] - 1s 6ms/step - loss: 0.1760 - val_loss: 0.3182\n",
            "Epoch 30/300\n",
            "188/188 [==============================] - 1s 6ms/step - loss: 0.1710 - val_loss: 0.3153\n",
            "Epoch 31/300\n",
            "188/188 [==============================] - 1s 6ms/step - loss: 0.1649 - val_loss: 0.3149\n",
            "Epoch 32/300\n",
            "188/188 [==============================] - 1s 6ms/step - loss: 0.1601 - val_loss: 0.3140\n",
            "Epoch 33/300\n",
            "188/188 [==============================] - 1s 6ms/step - loss: 0.1543 - val_loss: 0.3087\n",
            "Epoch 34/300\n",
            "188/188 [==============================] - 1s 6ms/step - loss: 0.1488 - val_loss: 0.3030\n",
            "Epoch 35/300\n",
            "188/188 [==============================] - 1s 6ms/step - loss: 0.1440 - val_loss: 0.3136\n",
            "Epoch 36/300\n",
            "188/188 [==============================] - 1s 6ms/step - loss: 0.1392 - val_loss: 0.3038\n",
            "Epoch 37/300\n",
            "188/188 [==============================] - 1s 6ms/step - loss: 0.1341 - val_loss: 0.3070\n",
            "Epoch 38/300\n",
            "188/188 [==============================] - 1s 6ms/step - loss: 0.1308 - val_loss: 0.2976\n",
            "Epoch 39/300\n",
            "188/188 [==============================] - 1s 6ms/step - loss: 0.1274 - val_loss: 0.3016\n",
            "Epoch 40/300\n",
            "188/188 [==============================] - 1s 6ms/step - loss: 0.1205 - val_loss: 0.3039\n",
            "Epoch 41/300\n",
            "188/188 [==============================] - 1s 6ms/step - loss: 0.1186 - val_loss: 0.2911\n",
            "Epoch 42/300\n",
            "188/188 [==============================] - 1s 6ms/step - loss: 0.1117 - val_loss: 0.2922\n",
            "Epoch 43/300\n",
            "188/188 [==============================] - 1s 6ms/step - loss: 0.1124 - val_loss: 0.2865\n",
            "Epoch 44/300\n",
            "188/188 [==============================] - 1s 6ms/step - loss: 0.1067 - val_loss: 0.2913\n",
            "Epoch 45/300\n",
            "188/188 [==============================] - 1s 5ms/step - loss: 0.1029 - val_loss: 0.2903\n",
            "Epoch 46/300\n",
            "188/188 [==============================] - 1s 6ms/step - loss: 0.1006 - val_loss: 0.2891\n",
            "Epoch 47/300\n",
            "188/188 [==============================] - 1s 6ms/step - loss: 0.1003 - val_loss: 0.2892\n",
            "Epoch 48/300\n",
            "188/188 [==============================] - 1s 6ms/step - loss: 0.0931 - val_loss: 0.2863\n",
            "Epoch 49/300\n",
            "188/188 [==============================] - 1s 6ms/step - loss: 0.0910 - val_loss: 0.2833\n",
            "Epoch 50/300\n",
            "188/188 [==============================] - 1s 6ms/step - loss: 0.0869 - val_loss: 0.2891\n",
            "Epoch 51/300\n",
            "188/188 [==============================] - 1s 6ms/step - loss: 0.0856 - val_loss: 0.2814\n",
            "Epoch 52/300\n",
            "188/188 [==============================] - 1s 6ms/step - loss: 0.0822 - val_loss: 0.2848\n",
            "Epoch 53/300\n",
            "188/188 [==============================] - 1s 6ms/step - loss: 0.0808 - val_loss: 0.2790\n",
            "Epoch 54/300\n",
            "188/188 [==============================] - 1s 6ms/step - loss: 0.0783 - val_loss: 0.2797\n",
            "Epoch 55/300\n",
            "188/188 [==============================] - 1s 6ms/step - loss: 0.0771 - val_loss: 0.2782\n",
            "Epoch 56/300\n",
            "188/188 [==============================] - 1s 6ms/step - loss: 0.0735 - val_loss: 0.2733\n",
            "Epoch 57/300\n",
            "188/188 [==============================] - 1s 6ms/step - loss: 0.0732 - val_loss: 0.2743\n",
            "Epoch 58/300\n",
            "188/188 [==============================] - 1s 6ms/step - loss: 0.0703 - val_loss: 0.2711\n",
            "Epoch 59/300\n",
            "188/188 [==============================] - 1s 6ms/step - loss: 0.0675 - val_loss: 0.2745\n",
            "Epoch 60/300\n",
            "188/188 [==============================] - 1s 6ms/step - loss: 0.0665 - val_loss: 0.2706\n",
            "Epoch 61/300\n",
            "188/188 [==============================] - 1s 6ms/step - loss: 0.0643 - val_loss: 0.2767\n",
            "Epoch 62/300\n",
            "188/188 [==============================] - 1s 6ms/step - loss: 0.0631 - val_loss: 0.2716\n",
            "Epoch 63/300\n",
            "188/188 [==============================] - 1s 6ms/step - loss: 0.0623 - val_loss: 0.2672\n",
            "Epoch 64/300\n",
            "188/188 [==============================] - 1s 6ms/step - loss: 0.0596 - val_loss: 0.2657\n",
            "Epoch 65/300\n",
            "188/188 [==============================] - 1s 6ms/step - loss: 0.0575 - val_loss: 0.2658\n",
            "Epoch 66/300\n",
            "188/188 [==============================] - 1s 6ms/step - loss: 0.0568 - val_loss: 0.2704\n",
            "Epoch 67/300\n",
            "188/188 [==============================] - 1s 6ms/step - loss: 0.0570 - val_loss: 0.2657\n",
            "Epoch 68/300\n",
            "188/188 [==============================] - 1s 6ms/step - loss: 0.0551 - val_loss: 0.2627\n",
            "Epoch 69/300\n",
            "188/188 [==============================] - 1s 6ms/step - loss: 0.0523 - val_loss: 0.2572\n",
            "Epoch 70/300\n",
            "188/188 [==============================] - 1s 6ms/step - loss: 0.0519 - val_loss: 0.2560\n",
            "Epoch 71/300\n",
            "188/188 [==============================] - 1s 6ms/step - loss: 0.0510 - val_loss: 0.2589\n",
            "Epoch 72/300\n",
            "188/188 [==============================] - 1s 6ms/step - loss: 0.0498 - val_loss: 0.2598\n",
            "Epoch 73/300\n",
            "188/188 [==============================] - 1s 6ms/step - loss: 0.0486 - val_loss: 0.2571\n",
            "Epoch 74/300\n",
            "188/188 [==============================] - 1s 6ms/step - loss: 0.0463 - val_loss: 0.2642\n",
            "Epoch 75/300\n",
            "188/188 [==============================] - 1s 6ms/step - loss: 0.0455 - val_loss: 0.2616\n",
            "Epoch 76/300\n",
            "188/188 [==============================] - 1s 6ms/step - loss: 0.0459 - val_loss: 0.2533\n",
            "Epoch 77/300\n",
            "188/188 [==============================] - 1s 6ms/step - loss: 0.0451 - val_loss: 0.2558\n",
            "Epoch 78/300\n",
            "188/188 [==============================] - 1s 6ms/step - loss: 0.0443 - val_loss: 0.2528\n",
            "Epoch 79/300\n",
            "188/188 [==============================] - 1s 7ms/step - loss: 0.0436 - val_loss: 0.2502\n",
            "Epoch 80/300\n",
            "188/188 [==============================] - 1s 6ms/step - loss: 0.0422 - val_loss: 0.2585\n",
            "Epoch 81/300\n",
            "188/188 [==============================] - 1s 6ms/step - loss: 0.0416 - val_loss: 0.2593\n",
            "Epoch 82/300\n",
            "188/188 [==============================] - 1s 6ms/step - loss: 0.0408 - val_loss: 0.2463\n",
            "Epoch 83/300\n",
            "188/188 [==============================] - 1s 6ms/step - loss: 0.0400 - val_loss: 0.2485\n",
            "Epoch 84/300\n",
            "188/188 [==============================] - 1s 6ms/step - loss: 0.0386 - val_loss: 0.2537\n",
            "Epoch 85/300\n",
            "188/188 [==============================] - 1s 6ms/step - loss: 0.0389 - val_loss: 0.2413\n",
            "Epoch 86/300\n",
            "188/188 [==============================] - 1s 6ms/step - loss: 0.0359 - val_loss: 0.2448\n",
            "Epoch 87/300\n",
            "188/188 [==============================] - 1s 6ms/step - loss: 0.0385 - val_loss: 0.2460\n",
            "Epoch 88/300\n",
            "188/188 [==============================] - 1s 6ms/step - loss: 0.0369 - val_loss: 0.2440\n",
            "Epoch 89/300\n",
            "188/188 [==============================] - 1s 6ms/step - loss: 0.0357 - val_loss: 0.2470\n",
            "Epoch 90/300\n",
            "188/188 [==============================] - 1s 6ms/step - loss: 0.0369 - val_loss: 0.2516\n",
            "Epoch 91/300\n",
            "188/188 [==============================] - 1s 6ms/step - loss: 0.0346 - val_loss: 0.2445\n",
            "Epoch 92/300\n",
            "188/188 [==============================] - 1s 6ms/step - loss: 0.0335 - val_loss: 0.2435\n",
            "Epoch 93/300\n",
            "188/188 [==============================] - 1s 6ms/step - loss: 0.0317 - val_loss: 0.2359\n",
            "Epoch 94/300\n",
            "188/188 [==============================] - 1s 6ms/step - loss: 0.0331 - val_loss: 0.2427\n",
            "Epoch 95/300\n",
            "188/188 [==============================] - 1s 6ms/step - loss: 0.0341 - val_loss: 0.2435\n",
            "Epoch 96/300\n",
            "188/188 [==============================] - 1s 6ms/step - loss: 0.0327 - val_loss: 0.2456\n",
            "Epoch 97/300\n",
            "188/188 [==============================] - 1s 6ms/step - loss: 0.0313 - val_loss: 0.2378\n",
            "Epoch 98/300\n",
            "188/188 [==============================] - 1s 6ms/step - loss: 0.0311 - val_loss: 0.2337\n",
            "Epoch 99/300\n",
            "188/188 [==============================] - 1s 6ms/step - loss: 0.0316 - val_loss: 0.2399\n",
            "Epoch 100/300\n",
            "188/188 [==============================] - 1s 5ms/step - loss: 0.0300 - val_loss: 0.2359\n",
            "Epoch 101/300\n",
            "188/188 [==============================] - 1s 6ms/step - loss: 0.0292 - val_loss: 0.2363\n",
            "Epoch 102/300\n",
            "188/188 [==============================] - 1s 6ms/step - loss: 0.0285 - val_loss: 0.2351\n",
            "Epoch 103/300\n",
            "188/188 [==============================] - 1s 6ms/step - loss: 0.0302 - val_loss: 0.2402\n",
            "Epoch 104/300\n",
            "188/188 [==============================] - 1s 6ms/step - loss: 0.0295 - val_loss: 0.2352\n",
            "Epoch 105/300\n",
            "188/188 [==============================] - 1s 6ms/step - loss: 0.0292 - val_loss: 0.2379\n",
            "Epoch 106/300\n",
            "188/188 [==============================] - 1s 6ms/step - loss: 0.0282 - val_loss: 0.2361\n",
            "Epoch 107/300\n",
            "188/188 [==============================] - 1s 6ms/step - loss: 0.0261 - val_loss: 0.2226\n",
            "Epoch 108/300\n",
            "188/188 [==============================] - 1s 6ms/step - loss: 0.0266 - val_loss: 0.2357\n",
            "Epoch 109/300\n",
            "188/188 [==============================] - 1s 6ms/step - loss: 0.0278 - val_loss: 0.2306\n",
            "Epoch 110/300\n",
            "188/188 [==============================] - 1s 6ms/step - loss: 0.0274 - val_loss: 0.2343\n",
            "Epoch 111/300\n",
            "188/188 [==============================] - 1s 6ms/step - loss: 0.0269 - val_loss: 0.2328\n",
            "Epoch 112/300\n",
            "188/188 [==============================] - 1s 6ms/step - loss: 0.0268 - val_loss: 0.2323\n",
            "Epoch 113/300\n",
            "188/188 [==============================] - 1s 6ms/step - loss: 0.0260 - val_loss: 0.2258\n",
            "Epoch 114/300\n",
            "188/188 [==============================] - 1s 6ms/step - loss: 0.0260 - val_loss: 0.2294\n",
            "Epoch 115/300\n",
            "188/188 [==============================] - 1s 6ms/step - loss: 0.0240 - val_loss: 0.2353\n",
            "Epoch 116/300\n",
            "188/188 [==============================] - 1s 6ms/step - loss: 0.0249 - val_loss: 0.2284\n",
            "Epoch 117/300\n",
            "188/188 [==============================] - 1s 6ms/step - loss: 0.0255 - val_loss: 0.2248\n",
            "Epoch 118/300\n",
            "188/188 [==============================] - 1s 6ms/step - loss: 0.0258 - val_loss: 0.2330\n",
            "Epoch 119/300\n",
            "188/188 [==============================] - 1s 6ms/step - loss: 0.0252 - val_loss: 0.2335\n",
            "Epoch 120/300\n",
            "188/188 [==============================] - 1s 6ms/step - loss: 0.0232 - val_loss: 0.2297\n",
            "Epoch 121/300\n",
            "188/188 [==============================] - 1s 6ms/step - loss: 0.0222 - val_loss: 0.2263\n",
            "Epoch 122/300\n",
            "188/188 [==============================] - 1s 6ms/step - loss: 0.0250 - val_loss: 0.2350\n",
            "Epoch 123/300\n",
            "188/188 [==============================] - 1s 6ms/step - loss: 0.0239 - val_loss: 0.2277\n",
            "Epoch 124/300\n",
            "188/188 [==============================] - 1s 6ms/step - loss: 0.0248 - val_loss: 0.2209\n",
            "Epoch 125/300\n",
            "188/188 [==============================] - 1s 6ms/step - loss: 0.0236 - val_loss: 0.2171\n",
            "Epoch 126/300\n",
            "188/188 [==============================] - 1s 6ms/step - loss: 0.0230 - val_loss: 0.2229\n",
            "Epoch 127/300\n",
            "188/188 [==============================] - 1s 6ms/step - loss: 0.0221 - val_loss: 0.2193\n",
            "Epoch 128/300\n",
            "188/188 [==============================] - 1s 6ms/step - loss: 0.0227 - val_loss: 0.2251\n",
            "Epoch 129/300\n",
            "188/188 [==============================] - 1s 6ms/step - loss: 0.0237 - val_loss: 0.2180\n",
            "Epoch 130/300\n",
            "188/188 [==============================] - 1s 6ms/step - loss: 0.0226 - val_loss: 0.2214\n",
            "Epoch 131/300\n",
            "188/188 [==============================] - 1s 6ms/step - loss: 0.0219 - val_loss: 0.2157\n",
            "Epoch 132/300\n",
            "188/188 [==============================] - 1s 6ms/step - loss: 0.0217 - val_loss: 0.2227\n",
            "Epoch 133/300\n",
            "188/188 [==============================] - 1s 6ms/step - loss: 0.0229 - val_loss: 0.2112\n",
            "Epoch 134/300\n",
            "188/188 [==============================] - 1s 6ms/step - loss: 0.0202 - val_loss: 0.2176\n",
            "Epoch 135/300\n",
            "188/188 [==============================] - 1s 6ms/step - loss: 0.0217 - val_loss: 0.2225\n",
            "Epoch 136/300\n",
            "188/188 [==============================] - 1s 6ms/step - loss: 0.0207 - val_loss: 0.2181\n",
            "Epoch 137/300\n",
            "188/188 [==============================] - 1s 6ms/step - loss: 0.0209 - val_loss: 0.2140\n",
            "Epoch 138/300\n",
            "188/188 [==============================] - 1s 6ms/step - loss: 0.0213 - val_loss: 0.2192\n",
            "Epoch 139/300\n",
            "188/188 [==============================] - 1s 6ms/step - loss: 0.0215 - val_loss: 0.2138\n",
            "Epoch 140/300\n",
            "188/188 [==============================] - 1s 6ms/step - loss: 0.0215 - val_loss: 0.2101\n",
            "Epoch 141/300\n",
            "188/188 [==============================] - 1s 6ms/step - loss: 0.0205 - val_loss: 0.2157\n",
            "Epoch 142/300\n",
            "188/188 [==============================] - 1s 6ms/step - loss: 0.0199 - val_loss: 0.2084\n",
            "Epoch 143/300\n",
            "188/188 [==============================] - 1s 6ms/step - loss: 0.0199 - val_loss: 0.2138\n",
            "Epoch 144/300\n",
            "188/188 [==============================] - 1s 6ms/step - loss: 0.0203 - val_loss: 0.2118\n",
            "Epoch 145/300\n",
            "188/188 [==============================] - 1s 6ms/step - loss: 0.0200 - val_loss: 0.2116\n",
            "Epoch 146/300\n",
            "188/188 [==============================] - 1s 6ms/step - loss: 0.0202 - val_loss: 0.2115\n",
            "Epoch 147/300\n",
            "188/188 [==============================] - 1s 6ms/step - loss: 0.0189 - val_loss: 0.2077\n",
            "Epoch 148/300\n",
            "188/188 [==============================] - 1s 6ms/step - loss: 0.0212 - val_loss: 0.2124\n",
            "Epoch 149/300\n",
            "188/188 [==============================] - 1s 6ms/step - loss: 0.0190 - val_loss: 0.2075\n",
            "Epoch 150/300\n",
            "188/188 [==============================] - 1s 6ms/step - loss: 0.0194 - val_loss: 0.2039\n",
            "Epoch 151/300\n",
            "188/188 [==============================] - 1s 6ms/step - loss: 0.0206 - val_loss: 0.2145\n",
            "Epoch 152/300\n",
            "188/188 [==============================] - 1s 6ms/step - loss: 0.0217 - val_loss: 0.2124\n",
            "Epoch 153/300\n",
            "188/188 [==============================] - 1s 6ms/step - loss: 0.0209 - val_loss: 0.2129\n",
            "Epoch 154/300\n",
            "188/188 [==============================] - 1s 6ms/step - loss: 0.0199 - val_loss: 0.2108\n",
            "Epoch 155/300\n",
            "188/188 [==============================] - 1s 6ms/step - loss: 0.0204 - val_loss: 0.2109\n",
            "Epoch 156/300\n",
            "188/188 [==============================] - 1s 6ms/step - loss: 0.0187 - val_loss: 0.2103\n",
            "Epoch 157/300\n",
            "188/188 [==============================] - 1s 6ms/step - loss: 0.0177 - val_loss: 0.2049\n",
            "Epoch 158/300\n",
            "188/188 [==============================] - 1s 6ms/step - loss: 0.0176 - val_loss: 0.2030\n",
            "Epoch 159/300\n",
            "188/188 [==============================] - 1s 6ms/step - loss: 0.0201 - val_loss: 0.2032\n",
            "Epoch 160/300\n",
            "188/188 [==============================] - 1s 6ms/step - loss: 0.0188 - val_loss: 0.2080\n",
            "Epoch 161/300\n",
            "188/188 [==============================] - 1s 6ms/step - loss: 0.0183 - val_loss: 0.2034\n",
            "Epoch 162/300\n",
            "188/188 [==============================] - 1s 6ms/step - loss: 0.0177 - val_loss: 0.2066\n",
            "Epoch 163/300\n",
            "188/188 [==============================] - 1s 6ms/step - loss: 0.0173 - val_loss: 0.2015\n",
            "Epoch 164/300\n",
            "188/188 [==============================] - 1s 6ms/step - loss: 0.0192 - val_loss: 0.2062\n",
            "Epoch 165/300\n",
            "188/188 [==============================] - 1s 6ms/step - loss: 0.0177 - val_loss: 0.2062\n",
            "Epoch 166/300\n",
            "188/188 [==============================] - 1s 6ms/step - loss: 0.0209 - val_loss: 0.2090\n",
            "Epoch 167/300\n",
            "188/188 [==============================] - 1s 6ms/step - loss: 0.0206 - val_loss: 0.2040\n",
            "Epoch 168/300\n",
            "188/188 [==============================] - 1s 6ms/step - loss: 0.0179 - val_loss: 0.2028\n",
            "Epoch 169/300\n",
            "188/188 [==============================] - 1s 6ms/step - loss: 0.0181 - val_loss: 0.2030\n",
            "Epoch 170/300\n",
            "188/188 [==============================] - 1s 6ms/step - loss: 0.0176 - val_loss: 0.2002\n",
            "Epoch 171/300\n",
            "188/188 [==============================] - 1s 6ms/step - loss: 0.0191 - val_loss: 0.1989\n",
            "Epoch 172/300\n",
            "188/188 [==============================] - 1s 6ms/step - loss: 0.0171 - val_loss: 0.2019\n",
            "Epoch 173/300\n",
            "188/188 [==============================] - 1s 6ms/step - loss: 0.0183 - val_loss: 0.2015\n",
            "Epoch 174/300\n",
            "188/188 [==============================] - 1s 6ms/step - loss: 0.0177 - val_loss: 0.2064\n",
            "Epoch 175/300\n",
            "188/188 [==============================] - 1s 6ms/step - loss: 0.0177 - val_loss: 0.2006\n",
            "Epoch 176/300\n",
            "188/188 [==============================] - 1s 6ms/step - loss: 0.0178 - val_loss: 0.2001\n",
            "Epoch 177/300\n",
            "188/188 [==============================] - 1s 6ms/step - loss: 0.0176 - val_loss: 0.1910\n",
            "Epoch 178/300\n",
            "188/188 [==============================] - 1s 6ms/step - loss: 0.0168 - val_loss: 0.1981\n",
            "Epoch 179/300\n",
            "188/188 [==============================] - 1s 6ms/step - loss: 0.0170 - val_loss: 0.2024\n",
            "Epoch 180/300\n",
            "188/188 [==============================] - 1s 6ms/step - loss: 0.0159 - val_loss: 0.2011\n",
            "Epoch 181/300\n",
            "188/188 [==============================] - 1s 6ms/step - loss: 0.0170 - val_loss: 0.2047\n",
            "Epoch 182/300\n",
            "188/188 [==============================] - 1s 6ms/step - loss: 0.0195 - val_loss: 0.2088\n",
            "Epoch 183/300\n",
            "188/188 [==============================] - 1s 6ms/step - loss: 0.0205 - val_loss: 0.1989\n",
            "Epoch 184/300\n",
            "188/188 [==============================] - 1s 6ms/step - loss: 0.0180 - val_loss: 0.2008\n",
            "Epoch 185/300\n",
            "188/188 [==============================] - 1s 6ms/step - loss: 0.0175 - val_loss: 0.1972\n",
            "Epoch 186/300\n",
            "188/188 [==============================] - 1s 6ms/step - loss: 0.0163 - val_loss: 0.1983\n",
            "Epoch 187/300\n",
            "188/188 [==============================] - 1s 6ms/step - loss: 0.0176 - val_loss: 0.1976\n",
            "Epoch 188/300\n",
            "188/188 [==============================] - 1s 6ms/step - loss: 0.0171 - val_loss: 0.2006\n",
            "Epoch 189/300\n",
            "188/188 [==============================] - 1s 6ms/step - loss: 0.0200 - val_loss: 0.1985\n",
            "Epoch 190/300\n",
            "188/188 [==============================] - 1s 6ms/step - loss: 0.0151 - val_loss: 0.1942\n",
            "Epoch 191/300\n",
            "188/188 [==============================] - 1s 6ms/step - loss: 0.0161 - val_loss: 0.1940\n",
            "Epoch 192/300\n",
            "188/188 [==============================] - 1s 6ms/step - loss: 0.0156 - val_loss: 0.1955\n",
            "Epoch 193/300\n",
            "188/188 [==============================] - 1s 6ms/step - loss: 0.0170 - val_loss: 0.2019\n",
            "Epoch 194/300\n",
            "188/188 [==============================] - 1s 6ms/step - loss: 0.0174 - val_loss: 0.1976\n",
            "Epoch 195/300\n",
            "188/188 [==============================] - 1s 6ms/step - loss: 0.0165 - val_loss: 0.2048\n",
            "Epoch 196/300\n",
            "188/188 [==============================] - 1s 6ms/step - loss: 0.0172 - val_loss: 0.1888\n",
            "Epoch 197/300\n",
            "188/188 [==============================] - 1s 6ms/step - loss: 0.0161 - val_loss: 0.2039\n",
            "Epoch 198/300\n",
            "188/188 [==============================] - 1s 6ms/step - loss: 0.0194 - val_loss: 0.1911\n",
            "Epoch 199/300\n",
            "188/188 [==============================] - 1s 6ms/step - loss: 0.0169 - val_loss: 0.1981\n",
            "Epoch 200/300\n",
            "188/188 [==============================] - 1s 6ms/step - loss: 0.0160 - val_loss: 0.1940\n",
            "Epoch 201/300\n",
            "188/188 [==============================] - 1s 6ms/step - loss: 0.0162 - val_loss: 0.1923\n",
            "Epoch 202/300\n",
            "188/188 [==============================] - 1s 6ms/step - loss: 0.0168 - val_loss: 0.1966\n",
            "Epoch 203/300\n",
            "188/188 [==============================] - 1s 6ms/step - loss: 0.0156 - val_loss: 0.1909\n",
            "Epoch 204/300\n",
            "188/188 [==============================] - 1s 6ms/step - loss: 0.0163 - val_loss: 0.1903\n",
            "Epoch 205/300\n",
            "188/188 [==============================] - 1s 6ms/step - loss: 0.0159 - val_loss: 0.1951\n",
            "Epoch 206/300\n",
            "188/188 [==============================] - 1s 6ms/step - loss: 0.0161 - val_loss: 0.1954\n",
            "Epoch 207/300\n",
            "188/188 [==============================] - 1s 6ms/step - loss: 0.0160 - val_loss: 0.1997\n",
            "Epoch 208/300\n",
            "188/188 [==============================] - 1s 6ms/step - loss: 0.0159 - val_loss: 0.1916\n",
            "Epoch 209/300\n",
            "188/188 [==============================] - 1s 6ms/step - loss: 0.0158 - val_loss: 0.1955\n",
            "Epoch 210/300\n",
            "188/188 [==============================] - 1s 6ms/step - loss: 0.0199 - val_loss: 0.1918\n",
            "Epoch 211/300\n",
            "188/188 [==============================] - 1s 6ms/step - loss: 0.0148 - val_loss: 0.1874\n",
            "Epoch 212/300\n",
            "188/188 [==============================] - 1s 6ms/step - loss: 0.0146 - val_loss: 0.1923\n",
            "Epoch 213/300\n",
            "188/188 [==============================] - 1s 6ms/step - loss: 0.0160 - val_loss: 0.1949\n",
            "Epoch 214/300\n",
            "188/188 [==============================] - 1s 6ms/step - loss: 0.0184 - val_loss: 0.1983\n",
            "Epoch 215/300\n",
            "188/188 [==============================] - 1s 6ms/step - loss: 0.0167 - val_loss: 0.1867\n",
            "Epoch 216/300\n",
            "188/188 [==============================] - 1s 6ms/step - loss: 0.0166 - val_loss: 0.1981\n",
            "Epoch 217/300\n",
            "188/188 [==============================] - 1s 6ms/step - loss: 0.0164 - val_loss: 0.1936\n",
            "Epoch 218/300\n",
            "188/188 [==============================] - 1s 6ms/step - loss: 0.0164 - val_loss: 0.1880\n",
            "Epoch 219/300\n",
            "188/188 [==============================] - 1s 6ms/step - loss: 0.0154 - val_loss: 0.1846\n",
            "Epoch 220/300\n",
            "188/188 [==============================] - 1s 6ms/step - loss: 0.0154 - val_loss: 0.1944\n",
            "Epoch 221/300\n",
            "188/188 [==============================] - 1s 6ms/step - loss: 0.0148 - val_loss: 0.1847\n",
            "Epoch 222/300\n",
            "188/188 [==============================] - 1s 6ms/step - loss: 0.0156 - val_loss: 0.1919\n",
            "Epoch 223/300\n",
            "188/188 [==============================] - 1s 6ms/step - loss: 0.0174 - val_loss: 0.1997\n",
            "Epoch 224/300\n",
            "188/188 [==============================] - 1s 6ms/step - loss: 0.0179 - val_loss: 0.1962\n",
            "Epoch 225/300\n",
            "188/188 [==============================] - 1s 6ms/step - loss: 0.0155 - val_loss: 0.1805\n",
            "Epoch 226/300\n",
            "188/188 [==============================] - 1s 6ms/step - loss: 0.0135 - val_loss: 0.1902\n",
            "Epoch 227/300\n",
            "188/188 [==============================] - 1s 6ms/step - loss: 0.0157 - val_loss: 0.1881\n",
            "Epoch 228/300\n",
            "188/188 [==============================] - 1s 6ms/step - loss: 0.0163 - val_loss: 0.1836\n",
            "Epoch 229/300\n",
            "188/188 [==============================] - 1s 6ms/step - loss: 0.0171 - val_loss: 0.1895\n",
            "Epoch 230/300\n",
            "188/188 [==============================] - 1s 6ms/step - loss: 0.0153 - val_loss: 0.1905\n",
            "Epoch 231/300\n",
            "188/188 [==============================] - 1s 6ms/step - loss: 0.0150 - val_loss: 0.1882\n",
            "Epoch 232/300\n",
            "188/188 [==============================] - 1s 6ms/step - loss: 0.0146 - val_loss: 0.1818\n",
            "Epoch 233/300\n",
            "188/188 [==============================] - 1s 6ms/step - loss: 0.0142 - val_loss: 0.1899\n",
            "Epoch 234/300\n",
            "188/188 [==============================] - 1s 6ms/step - loss: 0.0167 - val_loss: 0.1910\n",
            "Epoch 235/300\n",
            "188/188 [==============================] - 1s 6ms/step - loss: 0.0163 - val_loss: 0.1876\n",
            "Epoch 236/300\n",
            "188/188 [==============================] - 1s 6ms/step - loss: 0.0160 - val_loss: 0.1924\n",
            "Epoch 237/300\n",
            "188/188 [==============================] - 1s 6ms/step - loss: 0.0157 - val_loss: 0.1817\n",
            "Epoch 238/300\n",
            "188/188 [==============================] - 1s 6ms/step - loss: 0.0144 - val_loss: 0.1825\n",
            "Epoch 239/300\n",
            "188/188 [==============================] - 1s 6ms/step - loss: 0.0142 - val_loss: 0.1861\n",
            "Epoch 240/300\n",
            "188/188 [==============================] - 1s 6ms/step - loss: 0.0156 - val_loss: 0.1928\n",
            "Epoch 241/300\n",
            "188/188 [==============================] - 1s 6ms/step - loss: 0.0147 - val_loss: 0.1871\n",
            "Epoch 242/300\n",
            "188/188 [==============================] - 1s 6ms/step - loss: 0.0149 - val_loss: 0.1826\n",
            "Epoch 243/300\n",
            "188/188 [==============================] - 1s 6ms/step - loss: 0.0146 - val_loss: 0.1873\n",
            "Epoch 244/300\n",
            "188/188 [==============================] - 1s 6ms/step - loss: 0.0159 - val_loss: 0.1866\n",
            "Epoch 245/300\n",
            "188/188 [==============================] - 1s 6ms/step - loss: 0.0165 - val_loss: 0.1885\n",
            "Epoch 246/300\n",
            "188/188 [==============================] - 1s 6ms/step - loss: 0.0160 - val_loss: 0.1880\n",
            "Epoch 247/300\n",
            "188/188 [==============================] - 1s 6ms/step - loss: 0.0143 - val_loss: 0.1838\n",
            "Epoch 248/300\n",
            "188/188 [==============================] - 1s 6ms/step - loss: 0.0154 - val_loss: 0.1874\n",
            "Epoch 249/300\n",
            "188/188 [==============================] - 1s 6ms/step - loss: 0.0148 - val_loss: 0.1871\n",
            "Epoch 250/300\n",
            "188/188 [==============================] - 1s 6ms/step - loss: 0.0147 - val_loss: 0.1809\n",
            "Epoch 251/300\n",
            "188/188 [==============================] - 1s 6ms/step - loss: 0.0152 - val_loss: 0.1890\n",
            "Epoch 252/300\n",
            "188/188 [==============================] - 1s 6ms/step - loss: 0.0142 - val_loss: 0.1915\n",
            "Epoch 253/300\n",
            "188/188 [==============================] - 1s 6ms/step - loss: 0.0149 - val_loss: 0.1949\n",
            "Epoch 254/300\n",
            "188/188 [==============================] - 1s 6ms/step - loss: 0.0168 - val_loss: 0.1898\n",
            "Epoch 255/300\n",
            "188/188 [==============================] - 1s 6ms/step - loss: 0.0152 - val_loss: 0.1953\n",
            "Epoch 256/300\n",
            "188/188 [==============================] - 1s 6ms/step - loss: 0.0153 - val_loss: 0.1808\n",
            "Epoch 257/300\n",
            "188/188 [==============================] - 1s 6ms/step - loss: 0.0150 - val_loss: 0.1858\n",
            "Epoch 258/300\n",
            "188/188 [==============================] - 1s 6ms/step - loss: 0.0147 - val_loss: 0.1828\n",
            "Epoch 259/300\n",
            "188/188 [==============================] - 1s 6ms/step - loss: 0.0159 - val_loss: 0.1944\n",
            "Epoch 260/300\n",
            "188/188 [==============================] - 1s 6ms/step - loss: 0.0150 - val_loss: 0.1879\n",
            "Epoch 261/300\n",
            "188/188 [==============================] - 1s 6ms/step - loss: 0.0157 - val_loss: 0.1849\n",
            "Epoch 262/300\n",
            "188/188 [==============================] - 1s 6ms/step - loss: 0.0148 - val_loss: 0.1824\n",
            "Epoch 263/300\n",
            "188/188 [==============================] - 1s 6ms/step - loss: 0.0153 - val_loss: 0.1804\n",
            "Epoch 264/300\n",
            "188/188 [==============================] - 1s 6ms/step - loss: 0.0152 - val_loss: 0.1809\n",
            "Epoch 265/300\n",
            "188/188 [==============================] - 1s 6ms/step - loss: 0.0147 - val_loss: 0.1736\n",
            "Epoch 266/300\n",
            "188/188 [==============================] - 1s 6ms/step - loss: 0.0139 - val_loss: 0.1821\n",
            "Epoch 267/300\n",
            "188/188 [==============================] - 1s 6ms/step - loss: 0.0155 - val_loss: 0.1810\n",
            "Epoch 268/300\n",
            "188/188 [==============================] - 1s 6ms/step - loss: 0.0132 - val_loss: 0.1862\n",
            "Epoch 269/300\n",
            "188/188 [==============================] - 1s 6ms/step - loss: 0.0149 - val_loss: 0.1779\n",
            "Epoch 270/300\n",
            "188/188 [==============================] - 1s 6ms/step - loss: 0.0153 - val_loss: 0.1876\n",
            "Epoch 271/300\n",
            "188/188 [==============================] - 1s 6ms/step - loss: 0.0165 - val_loss: 0.1857\n",
            "Epoch 272/300\n",
            "188/188 [==============================] - 1s 6ms/step - loss: 0.0150 - val_loss: 0.1811\n",
            "Epoch 273/300\n",
            "188/188 [==============================] - 1s 6ms/step - loss: 0.0151 - val_loss: 0.1896\n",
            "Epoch 274/300\n",
            "188/188 [==============================] - 1s 6ms/step - loss: 0.0154 - val_loss: 0.1791\n",
            "Epoch 275/300\n",
            "188/188 [==============================] - 1s 6ms/step - loss: 0.0136 - val_loss: 0.1769\n",
            "Epoch 276/300\n",
            "188/188 [==============================] - 1s 6ms/step - loss: 0.0145 - val_loss: 0.1798\n",
            "Epoch 277/300\n",
            "188/188 [==============================] - 1s 6ms/step - loss: 0.0144 - val_loss: 0.1826\n",
            "Epoch 278/300\n",
            "188/188 [==============================] - 1s 6ms/step - loss: 0.0137 - val_loss: 0.1782\n",
            "Epoch 279/300\n",
            "188/188 [==============================] - 1s 6ms/step - loss: 0.0135 - val_loss: 0.1819\n",
            "Epoch 280/300\n",
            "188/188 [==============================] - 1s 6ms/step - loss: 0.0144 - val_loss: 0.1857\n",
            "Epoch 281/300\n",
            "188/188 [==============================] - 1s 6ms/step - loss: 0.0167 - val_loss: 0.1889\n",
            "Epoch 282/300\n",
            "188/188 [==============================] - 1s 6ms/step - loss: 0.0174 - val_loss: 0.1887\n",
            "Epoch 283/300\n",
            "188/188 [==============================] - 1s 6ms/step - loss: 0.0143 - val_loss: 0.1773\n",
            "Epoch 284/300\n",
            "188/188 [==============================] - 1s 6ms/step - loss: 0.0149 - val_loss: 0.1833\n",
            "Epoch 285/300\n",
            "188/188 [==============================] - 1s 6ms/step - loss: 0.0144 - val_loss: 0.1747\n",
            "Epoch 286/300\n",
            "188/188 [==============================] - 1s 6ms/step - loss: 0.0126 - val_loss: 0.1789\n",
            "Epoch 287/300\n",
            "188/188 [==============================] - 1s 6ms/step - loss: 0.0132 - val_loss: 0.1774\n",
            "Epoch 288/300\n",
            "188/188 [==============================] - 1s 6ms/step - loss: 0.0137 - val_loss: 0.1884\n",
            "Epoch 289/300\n",
            "188/188 [==============================] - 1s 6ms/step - loss: 0.0181 - val_loss: 0.1869\n",
            "Epoch 290/300\n",
            "188/188 [==============================] - 1s 6ms/step - loss: 0.0165 - val_loss: 0.1823\n",
            "Epoch 291/300\n",
            "188/188 [==============================] - 1s 6ms/step - loss: 0.0163 - val_loss: 0.1887\n",
            "Epoch 292/300\n",
            "188/188 [==============================] - 1s 6ms/step - loss: 0.0139 - val_loss: 0.1748\n",
            "Epoch 293/300\n",
            "188/188 [==============================] - 1s 6ms/step - loss: 0.0124 - val_loss: 0.1770\n",
            "Epoch 294/300\n",
            "188/188 [==============================] - 1s 6ms/step - loss: 0.0124 - val_loss: 0.1778\n",
            "Epoch 295/300\n",
            "188/188 [==============================] - 1s 6ms/step - loss: 0.0139 - val_loss: 0.1843\n",
            "Epoch 296/300\n",
            "188/188 [==============================] - 1s 6ms/step - loss: 0.0139 - val_loss: 0.1771\n",
            "Epoch 297/300\n",
            "188/188 [==============================] - 1s 6ms/step - loss: 0.0152 - val_loss: 0.1876\n",
            "Epoch 298/300\n",
            "188/188 [==============================] - 1s 6ms/step - loss: 0.0172 - val_loss: 0.1855\n",
            "Epoch 299/300\n",
            "188/188 [==============================] - 1s 6ms/step - loss: 0.0139 - val_loss: 0.1784\n",
            "Epoch 300/300\n",
            "188/188 [==============================] - 1s 6ms/step - loss: 0.0137 - val_loss: 0.1798\n"
          ]
        }
      ]
    },
    {
      "cell_type": "code",
      "source": [
        "import matplotlib.pyplot as plt\n",
        "\n",
        "plt.plot(history.history['loss'])\n",
        "plt.plot(history.history['val_loss'])\n",
        "plt.title('Training and Validation Losses',size = 12)\n",
        "plt.ylabel('loss')\n",
        "plt.xlabel('epoch')\n",
        "plt.legend(['train', 'val'], loc='upper right')\n",
        "plt.show()"
      ],
      "metadata": {
        "colab": {
          "base_uri": "https://localhost:8080/",
          "height": 295
        },
        "id": "NTq9pHBSrv2g",
        "outputId": "e43bb1d8-4090-48f3-830e-534d49f4dc06"
      },
      "execution_count": null,
      "outputs": [
        {
          "output_type": "display_data",
          "data": {
            "text/plain": [
              "<Figure size 432x288 with 1 Axes>"
            ],
            "image/png": "[encoded data removed]"
          },
          "metadata": {
            "needs_background": "light"
          }
        }
      ]
    },
    {
      "cell_type": "code",
      "source": [
        "from tensorflow.keras.utils import plot_model\n",
        "plot_model(base_model,show_shapes=True, show_layer_names=True, to_file='model_summary_3x.png')"
      ],
      "metadata": {
        "colab": {
          "base_uri": "https://localhost:8080/",
          "height": 533
        },
        "id": "SKbuPgo84YL3",
        "outputId": "774b877d-80cf-4a4b-8242-ab85790885ca"
      },
      "execution_count": null,
      "outputs": [
        {
          "output_type": "execute_result",
          "data": {
            "text/plain": [
              "<IPython.core.display.Image object>"
            ],
            "image/png": "[encoded data removed]"
          },
          "metadata": {},
          "execution_count": 49
        }
      ]
    },
    {
      "cell_type": "markdown",
      "source": [
        "## Архитектура модели извлечения признаков"
      ],
      "metadata": {
        "id": "mYMSljCHWxGF"
      }
    },
    {
      "cell_type": "code",
      "source": [
        "from tensorflow.keras.utils import plot_model\n",
        "plot_model(model,show_shapes=True, show_layer_names=True, to_file='model_summary_3x.png')"
      ],
      "metadata": {
        "colab": {
          "base_uri": "https://localhost:8080/",
          "height": 312
        },
        "id": "Kn46zCyEJTWz",
        "outputId": "1f398bdc-29d1-4503-f1ae-d94cc068dc20"
      },
      "execution_count": null,
      "outputs": [
        {
          "output_type": "execute_result",
          "data": {
            "text/plain": [
              "<IPython.core.display.Image object>"
            ],
            "image/png": "[encoded data removed]"
          },
          "metadata": {},
          "execution_count": 50
        }
      ]
    },
    {
      "cell_type": "code",
      "source": [
        "out_emb = model.predict([val[0], val[1], val[2]])"
      ],
      "metadata": {
        "id": "1o4sHAZ7Gtqa"
      },
      "execution_count": null,
      "outputs": []
    },
    {
      "cell_type": "markdown",
      "source": [
        "## Обучение модели классификации признаков (полученных после модели с трипленой функцией ошибки)  \n"
      ],
      "metadata": {
        "id": "cDd2LHNzwY41"
      }
    },
    {
      "cell_type": "code",
      "source": [
        "x_emb = base_model.predict(x)"
      ],
      "metadata": {
        "id": "TbBfxIQZw0Qj"
      },
      "execution_count": null,
      "outputs": []
    },
    {
      "cell_type": "markdown",
      "source": [
        "## Xgboost classifier"
      ],
      "metadata": {
        "id": "lqQ_3FlwWwYN"
      }
    },
    {
      "cell_type": "code",
      "source": [
        "from sklearn.ensemble import GradientBoostingClassifier\n",
        "gb_clf2 = GradientBoostingClassifier(n_estimators=300, learning_rate=0.075, max_features=3, max_depth=12, random_state=0)"
      ],
      "metadata": {
        "id": "fa-bUzEPmBZW"
      },
      "execution_count": null,
      "outputs": []
    },
    {
      "cell_type": "code",
      "source": [
        "gb_clf2.fit(ap_emb, ap_y)"
      ],
      "metadata": {
        "colab": {
          "base_uri": "https://localhost:8080/"
        },
        "id": "69H90oBcZK1B",
        "outputId": "216b642a-1a3c-4ec3-b973-ea8ad30479bc"
      },
      "execution_count": null,
      "outputs": [
        {
          "data": {
            "text/plain": [
              "GradientBoostingClassifier(learning_rate=0.075, max_depth=12, max_features=3,\n",
              "                           n_estimators=300, random_state=0)"
            ]
          },
          "execution_count": null,
          "metadata": {},
          "output_type": "execute_result"
        }
      ]
    },
    {
      "cell_type": "code",
      "source": [
        "# metrics info calculate\n",
        "from sklearn.metrics import classification_report  \n",
        "from sklearn.metrics import confusion_matrix  \n",
        "from sklearn.metrics import accuracy_score\n",
        "\n",
        "from sklearn.metrics import plot_confusion_matrix\n",
        "from sklearn.metrics import ConfusionMatrixDisplay\n",
        "from matplotlib.pyplot import figure\n",
        "\n",
        "\n",
        "def metricsCalc(model):\n",
        "  y_pred = model.predict(X_test)\n",
        "  predictions = [round(value) for value in y_pred]\n",
        "  accuracy = accuracy_score(y_test, predictions)\n",
        "  print(\"Accuracy: %.2f%%\" % (accuracy * 100.0))\n",
        "  print(classification_report(y_test, predictions))\n",
        "  figure(figsize=(10, 8), dpi=80)\n",
        "  sns.heatmap(confusion_matrix(y_test, y_pred), annot=True, fmt='d')\n",
        "  plt.show()"
      ],
      "metadata": {
        "id": "4Ko2uQchbdT6"
      },
      "execution_count": null,
      "outputs": []
    },
    {
      "cell_type": "code",
      "source": [
        "pred = gb_clf2.predict(val_smal)"
      ],
      "metadata": {
        "id": "ADvVYidtZKoR"
      },
      "execution_count": null,
      "outputs": []
    },
    {
      "cell_type": "code",
      "source": [
        "print(classification_report(val[3], pred))"
      ],
      "metadata": {
        "colab": {
          "base_uri": "https://localhost:8080/"
        },
        "id": "A3OAcVHfbjrL",
        "outputId": "14ff90d2-6f8a-44c7-bc28-8b7c11d3781d"
      },
      "execution_count": null,
      "outputs": [
        {
          "output_type": "stream",
          "name": "stdout",
          "text": [
            "              precision    recall  f1-score   support\n",
            "\n",
            "         0.0       0.57      0.46      0.51       484\n",
            "         1.0       0.59      0.49      0.54       524\n",
            "         2.0       0.51      0.66      0.58       509\n",
            "         3.0       0.75      0.85      0.80       507\n",
            "         4.0       0.92      0.87      0.90       495\n",
            "         5.0       0.94      0.84      0.89       512\n",
            "         6.0       0.93      0.93      0.93       464\n",
            "         7.0       0.80      0.87      0.84       505\n",
            "\n",
            "    accuracy                           0.75      4000\n",
            "   macro avg       0.75      0.75      0.75      4000\n",
            "weighted avg       0.75      0.75      0.74      4000\n",
            "\n"
          ]
        }
      ]
    },
    {
      "cell_type": "code",
      "source": [
        "x_emb.shape"
      ],
      "metadata": {
        "colab": {
          "base_uri": "https://localhost:8080/"
        },
        "id": "4an2L6_qYAEB",
        "outputId": "dc6cbd1d-913f-4a1c-8145-343eb7394cf6"
      },
      "execution_count": null,
      "outputs": [
        {
          "output_type": "execute_result",
          "data": {
            "text/plain": [
              "(4588, 64)"
            ]
          },
          "metadata": {},
          "execution_count": 92
        }
      ]
    },
    {
      "cell_type": "markdown",
      "source": [
        "## MLP коассификатор\n"
      ],
      "metadata": {
        "id": "7d5LF8TakGx6"
      }
    },
    {
      "cell_type": "code",
      "source": [
        "val[1].shape"
      ],
      "metadata": {
        "colab": {
          "base_uri": "https://localhost:8080/"
        },
        "id": "657iC0uAkOKg",
        "outputId": "02d6db45-07a1-4659-9dd3-602ebce1f367"
      },
      "execution_count": null,
      "outputs": [
        {
          "output_type": "execute_result",
          "data": {
            "text/plain": [
              "(10000, 28)"
            ]
          },
          "metadata": {},
          "execution_count": 38
        }
      ]
    },
    {
      "cell_type": "code",
      "source": [
        "optimizer = Adam(learning_rate=0.01)"
      ],
      "metadata": {
        "id": "G-5IT9zYibKG"
      },
      "execution_count": null,
      "outputs": []
    },
    {
      "cell_type": "code",
      "source": [
        "mlp_model = tf.keras.models.Sequential([\n",
        "tf.keras.layers.Dense(256,activation='relu',input_shape=(64,)),\n",
        "# tf.keras.layers.Dense(256,activation='relu'),\n",
        "# tf.keras.layers.Dropout(0.25),\n",
        "tf.keras.layers.Dense(64,activation='relu'),\n",
        "tf.keras.layers.Dense(8, activation='softmax')])"
      ],
      "metadata": {
        "id": "Vn0P6cMqkBMe"
      },
      "execution_count": null,
      "outputs": []
    },
    {
      "cell_type": "code",
      "source": [
        "mlp_model.compile(optimizer=optimizer, loss='categorical_crossentropy', metrics=['accuracy'])"
      ],
      "metadata": {
        "id": "0agsZP-rv5F3"
      },
      "execution_count": null,
      "outputs": []
    },
    {
      "cell_type": "code",
      "source": [
        "history = mlp_model.fit(ap_emb, y_categ_train, epochs=10, verbose=1,validation_data = (val_smal, y_categ_test))"
      ],
      "metadata": {
        "id": "TCZqy1ZXv-YI"
      },
      "execution_count": null,
      "outputs": []
    },
    {
      "cell_type": "code",
      "source": [
        "from tensorflow.keras.utils import plot_model\n",
        "plot_model(mlp_model,show_shapes=True, show_layer_names=True, to_file='model_summary_3x.png')"
      ],
      "metadata": {
        "id": "K6uzG651aODO",
        "outputId": "ecb8e47a-0308-4e11-b1b2-f914fa649e43",
        "colab": {
          "base_uri": "https://localhost:8080/",
          "height": 422
        }
      },
      "execution_count": null,
      "outputs": [
        {
          "output_type": "execute_result",
          "data": {
            "text/plain": [
              "<IPython.core.display.Image object>"
            ],
            "image/png": "[encoded data removed]"
          },
          "metadata": {},
          "execution_count": 132
        }
      ]
    },
    {
      "cell_type": "code",
      "source": [
        "pred = mlp_model.predict(val_smal)"
      ],
      "metadata": {
        "id": "STzCrMhaSp4x"
      },
      "execution_count": null,
      "outputs": []
    },
    {
      "cell_type": "code",
      "source": [
        "print(classification_report(val[3], pred.argmax(axis=1)))"
      ],
      "metadata": {
        "colab": {
          "base_uri": "https://localhost:8080/"
        },
        "id": "987ESXJcnkPE",
        "outputId": "097c9be4-8bc3-4684-9d48-4589b1459a02"
      },
      "execution_count": null,
      "outputs": [
        {
          "output_type": "stream",
          "name": "stdout",
          "text": [
            "              precision    recall  f1-score   support\n",
            "\n",
            "         0.0       0.64      0.49      0.55      1246\n",
            "         1.0       0.61      0.66      0.63      1241\n",
            "         2.0       0.69      0.73      0.71      1281\n",
            "         3.0       0.88      0.89      0.89      1271\n",
            "         4.0       0.93      0.97      0.95      1205\n",
            "         5.0       0.89      0.92      0.91      1291\n",
            "         6.0       0.94      0.94      0.94      1225\n",
            "         7.0       0.87      0.86      0.86      1240\n",
            "\n",
            "    accuracy                           0.81     10000\n",
            "   macro avg       0.80      0.81      0.80     10000\n",
            "weighted avg       0.80      0.81      0.80     10000\n",
            "\n"
          ]
        }
      ]
    },
    {
      "cell_type": "markdown",
      "source": [
        "## knn классификация эмбедингов\n"
      ],
      "metadata": {
        "id": "fbnvDMBUAfhZ"
      }
    },
    {
      "cell_type": "code",
      "source": [
        "error_rate = []\n",
        "# Will take some time\n",
        "for i in tqdm(range(1,40)):\n",
        " \n",
        "  knn = KNeighborsClassifier(n_neighbors=i)\n",
        "  knn.fit(ap_emb, ap_y)  \n",
        "  pred_i = knn.predict(val_smal)\n",
        "  error_rate.append(np.mean(pred_i != val[3]))"
      ],
      "metadata": {
        "colab": {
          "base_uri": "https://localhost:8080/"
        },
        "id": "4B5DKpN-AisW",
        "outputId": "ba0d7a55-dc45-4004-fea0-db068864c65c"
      },
      "execution_count": null,
      "outputs": [
        {
          "output_type": "stream",
          "name": "stderr",
          "text": [
            "100%|██████████| 39/39 [16:31<00:00, 25.43s/it]\n"
          ]
        }
      ]
    },
    {
      "cell_type": "code",
      "source": [
        "plt.figure(figsize=(10,6))\n",
        "plt.plot(range(1,40),error_rate,color=\"blue\", linestyle=\"dashed\", marker=\"o\",\n",
        " markerfacecolor=\"red\", markersize=10)\n",
        "plt.title(\"Error Rate vs. K Value\")\n",
        "plt.xlabel(\"K\")\n",
        "plt.ylabel(\"Error Rate\")"
      ],
      "metadata": {
        "colab": {
          "base_uri": "https://localhost:8080/",
          "height": 421
        },
        "outputId": "ea1afc4e-f37e-4e77-e805-4683dc283010",
        "id": "8D1r_MIQXzNx"
      },
      "execution_count": null,
      "outputs": [
        {
          "output_type": "execute_result",
          "data": {
            "text/plain": [
              "Text(0, 0.5, 'Error Rate')"
            ]
          },
          "metadata": {},
          "execution_count": 34
        },
        {
          "output_type": "display_data",
          "data": {
            "text/plain": [
              "<Figure size 720x432 with 1 Axes>"
            ],
            "image/png": "[encoded data removed]"
          },
          "metadata": {
            "needs_background": "light"
          }
        }
      ]
    },
    {
      "cell_type": "code",
      "source": [
        "neigh = KNeighborsClassifier(n_neighbors=2)\n",
        "neigh.fit(ap_emb, ap_y)"
      ],
      "metadata": {
        "colab": {
          "base_uri": "https://localhost:8080/"
        },
        "id": "kJrAj7IBhk_Z",
        "outputId": "b3f72036-de7e-4331-b6e2-f63d5f766e15"
      },
      "execution_count": null,
      "outputs": [
        {
          "output_type": "execute_result",
          "data": {
            "text/plain": [
              "KNeighborsClassifier(n_neighbors=2)"
            ]
          },
          "metadata": {},
          "execution_count": 78
        }
      ]
    },
    {
      "cell_type": "code",
      "source": [
        "from sklearn.metrics import classification_report"
      ],
      "metadata": {
        "id": "ULhyZonXmGiJ"
      },
      "execution_count": null,
      "outputs": []
    },
    {
      "cell_type": "code",
      "source": [
        "pred = neigh.predict(val_smal)"
      ],
      "metadata": {
        "id": "pdm9bOCujdg6"
      },
      "execution_count": null,
      "outputs": []
    },
    {
      "cell_type": "code",
      "source": [
        "print(classification_report(val[3], pred))"
      ],
      "metadata": {
        "colab": {
          "base_uri": "https://localhost:8080/"
        },
        "id": "2_VBeM8BktEY",
        "outputId": "2e2115c9-7a43-43de-97f7-bd75a18b1044"
      },
      "execution_count": null,
      "outputs": [
        {
          "output_type": "stream",
          "name": "stdout",
          "text": [
            "              precision    recall  f1-score   support\n",
            "\n",
            "         0.0       0.63      0.49      0.55      1246\n",
            "         1.0       0.59      0.61      0.60      1241\n",
            "         2.0       0.70      0.73      0.71      1281\n",
            "         3.0       0.87      0.89      0.88      1271\n",
            "         4.0       0.94      0.96      0.95      1205\n",
            "         5.0       0.86      0.93      0.89      1291\n",
            "         6.0       0.93      0.96      0.94      1225\n",
            "         7.0       0.87      0.85      0.86      1240\n",
            "\n",
            "    accuracy                           0.80     10000\n",
            "   macro avg       0.80      0.80      0.80     10000\n",
            "weighted avg       0.80      0.80      0.80     10000\n",
            "\n"
          ]
        }
      ]
    },
    {
      "cell_type": "markdown",
      "source": [
        "## knn матрица ошибок"
      ],
      "metadata": {
        "id": "p9bazR1KK7RN"
      }
    },
    {
      "cell_type": "code",
      "source": [
        "df_out['class'] = pred"
      ],
      "metadata": {
        "id": "wzlu2_4eLAjH"
      },
      "execution_count": null,
      "outputs": []
    },
    {
      "cell_type": "code",
      "source": [
        "import seaborn as sns\n",
        "from sklearn.metrics import confusion_matrix\n",
        "sns.set(rc={'figure.figsize':(12,12)})"
      ],
      "metadata": {
        "id": "pesMNTMoyN5m"
      },
      "execution_count": null,
      "outputs": []
    },
    {
      "cell_type": "code",
      "source": [
        "cf_matrix = confusion_matrix(val[3], pred)"
      ],
      "metadata": {
        "id": "WvtCmPFnyaIw"
      },
      "execution_count": null,
      "outputs": []
    },
    {
      "cell_type": "code",
      "source": [
        "\n",
        "sns.heatmap(cf_matrix, annot=True, cmap='Blues')"
      ],
      "metadata": {
        "colab": {
          "base_uri": "https://localhost:8080/",
          "height": 720
        },
        "id": "lFPLZN-ryMIX",
        "outputId": "eb60572a-038a-415f-aea8-febe105c6c3d"
      },
      "execution_count": null,
      "outputs": [
        {
          "output_type": "execute_result",
          "data": {
            "text/plain": [
              "<matplotlib.axes._subplots.AxesSubplot at 0x7f5288282490>"
            ]
          },
          "metadata": {},
          "execution_count": 41
        },
        {
          "output_type": "display_data",
          "data": {
            "text/plain": [
              "<Figure size 864x864 with 2 Axes>"
            ],
            "image/png": "[encoded data removed]"
          },
          "metadata": {}
        }
      ]
    }
  ]
}