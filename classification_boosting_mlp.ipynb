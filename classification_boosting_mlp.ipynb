{
  "nbformat": 4,
  "nbformat_minor": 0,
  "metadata": {
    "colab": {
      "name": "classification_boosting_mlp.ipynb",
      "provenance": [],
      "collapsed_sections": [
        "ibUlmnu9u1h1"
      ]
    },
    "kernelspec": {
      "name": "python3",
      "display_name": "Python 3"
    },
    "language_info": {
      "name": "python"
    }
  },
  "cells": [
    {
      "cell_type": "markdown",
      "source": [
        "# Классификация в задаче прогнозирования загрязнения воздуха тяжелыми металлами"
      ],
      "metadata": {
        "id": "VzJr5FdXWFxl"
      }
    },
    {
      "cell_type": "code",
      "execution_count": null,
      "metadata": {
        "id": "6Z0ThrD_TUCv"
      },
      "outputs": [],
      "source": [
        "import os\n",
        "import pandas as pd\n",
        "import numpy as np\n",
        "import seaborn as sns\n",
        "import matplotlib.pyplot as plt\n",
        "sns.set_style(\"whitegrid\")"
      ]
    },
    {
      "cell_type": "markdown",
      "source": [
        "## Подгрузка данных\n"
      ],
      "metadata": {
        "id": "MG0uGSOMVt3H"
      }
    },
    {
      "cell_type": "code",
      "source": [
        "uri = open(\".mongodb_token\").read()\n",
        "\n",
        "client = pymongo.MongoClient(uri)\n",
        "db = client['heavymetals']\n",
        "collection = db['heavymetals']"
      ],
      "metadata": {
        "id": "ckUH9AhTTXs_"
      },
      "execution_count": null,
      "outputs": []
    },
    {
      "cell_type": "code",
      "source": [
        "df = pd.DataFrame(list(db.Fe_cor_indexes.find()))\n",
        "df = df.dropna()"
      ],
      "metadata": {
        "id": "DoRPRcVW2_fg"
      },
      "execution_count": null,
      "outputs": []
    },
    {
      "cell_type": "markdown",
      "source": [
        "## Классификация\n",
        "Для задачи классификации необходимо разбить концентрацию диапазоны. Для железа (Fe), интервалы выглядят следующим образом"
      ],
      "metadata": {
        "id": "qGhMh2oMzHsG"
      }
    },
    {
      "cell_type": "markdown",
      "source": [
        "![image.png](data:image/png;base64,iVBORw0KGgoAAAANSUhEUgAAAGsAAADJCAYAAAAka8zpAAAgAElEQVR4Ae2dd3xU1bbHc997+rzee+2NLiIQerUASu8CAtK7SFcUEBEB6SDSe++9F5GiVCmhht5CTwIhvcykgT7X+3xXcoaTIQmTmcAdrvPH/pyZU/fZa6+991m/31rL6+yVa+IpT0YbeHkE9WQICjl5hPUEjSweYXmE9eQMLU/SNGDTrDNXrsmZy1c9xY3awL4j3RfW5aty2T9AbtwK8hQ3aIMrAbdUccwCswnrtN9VuR0SJlEWq6e4QRsEh0d6hPWkdEaPsNxAYxztLB5heYTlmeMc1ZaMnOfRLI9meTQrIxrj6LkezfJo1n++ZsXExkm0NVYiYyyP7RvUo1lOatZPP2+RufMXSEh4xJMjLHpWjDVW4hISJT4xZbHExWf4RbjGmeseNu4bGhCbkKj3N/4/7Dr74whn7vz58vbbb0uLli0lKDRUNSw2PiHD72p/74f9d1mzGArOnr+gLzB1+nQxl11790pEdIzDL8G5Bw4dlh27d0tYZJTD1z3sJY3jAbeDZMXKVbJz9+4M1cu4nnc9fuKktG7dWooVLy7t2n0qwWFhcvbCRdm0+WcJvB2U6XU2ns3WZWFZ4xNkybJl8uprr8k///lPeeGFF2zly696SGhEpPY8xng0hq25AsZvGuLKtetS7+P6MnrMGG3MmLj4FNdyDudzD44Z1xrbpPsb1yRtjWNcc+LUaSlStKh07NhJwqKi9N72Wsx92cezjOdzD6PuAbeC5Oy58zJo8BDp0LGjhISHy649e+S9996TVWvWSHQa72fUw5VtpgkrZ86cMmToMPE5dFgO+hzScunyFYmyJE3AFy9fkZNnzsq1m/7aEPaVpjEXLV4i5T74QA74HFLNuuB3WQKD7siV6zfk9LlzEhQSqgI6f8lPzl28JKHhEXovGpbhiR5+/uIluRMSKhcu+cmNgEDbAoDGPnn6jBQtVlw6d+kiEdHRcjs4RE6dPScBt27rfelY3IOCxly4dEmu3/QX/1u35cix43L67Dlb5xs4cJAK605YmB5v3KSJtG7TRn/bv1tm/c80YeXOnVuWLV8hv//xh/z+f/8n9/74Q3tjeFS0LFqyVPLkyaOa98GHH8qvO3fZGtF4kaDQMGn/WQepXr2GXL1xU/b7HJKSJUvKx/XrS/ESJVVbu33+hUyeOlVy5Mgh2bJlkwmTJqtQwyIj5ccxY+WNN96QrNmySctWreTtt/PK8BEjbNqnwjpzVooVLyFdu30uV65fl06dOsm7774rO3fv0fpMnTZdsmbNKq+99pq0adtWeKdevXvr8Tbt2smAAd9rx6HO3w8cKJ916KBzFv+Hjxyp9T105Giao4fxrs5uM0VYS5cvlyxZskiFChWl/Wefyaft28u3fb+T85cuyZ59+yRfvvzSoVMnGTNuvFSrXl2qVK0qaI15WLvg5yfvlykjLVu31l69/6CPeHsXEO8CBWXQkCFSs1YteeaZv0vDTxrJkKFDpVix4qqFaBKN/eabb0rdeh/LmDFjpXqNGvLMM8/IsFSEVaJESRVEl67dtAMtX7FSLHFxsu+gjxQuXFhq1Kgpo8eOk4/rN5D/+Z//kZ69vpaImBhJ/P0PiUu8q8JncTJw0GDp2KmTCktHhSVL5a233pJlK1bY3stZoaR1XaYJ69VXX5UsWbJKfm9vLZUrVxafI0f0xWk47wIF5L3335fsOXJow6JdhrCMXl+8RAn55ttvtZfvO3BQChUqLH2+7SvWuHhZuGSJ9niGSktsnPT+po8Kl6Ft0uQp2lAsTO7+8Yds/3WHvJUnjwweOvQBzSpevIRq6bPPPquNHRIWriPAnHnz5O28eWX9xk2SeO93OXzkmGrWVz17SVhUtEQlz5c0JMLyu3JVzl24qHMr78EzixYtJtNnzLA9M61Gd3Z/pgiLBQY9m5Vg4O3bEnDrlty6c0fnhYGDB2njMLw1bdZMmjZrLp06dxY0x6g0wjpy/LgUKlRI+g0YYBNW0WLFZOy4cSqspctXaONt3b5doi1W+a5ffylbrqwcP3lSBgwcKAULFpSDhw9Lwt17cvjYcSlWrJgMHjIkxTOYMxEWCyGG2A8/LC9HfH0lOjZWRv04WvLmzauNzmcIcx7nskiyFxb11kVO8mICYaHdpUu/IzNmztT6Ge+WmdtMEdbSZcu0IefNXyCsDqk8hReaNXu2asSChYtUkAwTNMyVGzdsDRkTG6/L/9KlS8sX3bsL8xyaxfJ47PjxKqwly5anEFbf7/pJmbJldNEwc/ZsyZo1m8yZN19CQkNl+sxZ+syhw4bZnmFoL3NWnbr1ZPfevVKqdGnp0bOnBIeFy6IlSyRXrlwycdIkCQ4JkeUrV8pLL70kPVLRLHsB8K4bf9qsI8HipcvcW1iLFi+WbFmzyqw5c3RIsb2MNVbO+/npPMBqsfQ77+gCAM1ihWU7zxIrfAPV+/hjqd+ggWrl3v0HpEDBgvLj6NFJw+DiJTr5/7x1q0RbLDoMlipdSk6fOSMX/fykVu3a2tgfli8vDRo0lNdff12GIKxkcxDCYunO0MrzWfkNHT5cChQoIFu2bdfPBlZ0OXLklLJly0qjJk1UWDoM8s1nGgbv1/u+WW3q9Bmq3QzvdNLUznF1n8uaRcV27tqt3y7bfvnVNg8ZFaPXHT56TOeHBg0/0Ua+fPXaAy/DB/GA7wdKpcqVdVl++tx56f5VD1m7fr3ExMbKjt17pEPHTnL42DEVwIJFi+SbPn2Ee/ldvaoa8t5770vPXr1k8ZKlOv+MHDXKJizq4Xf1mnzVo6dMmTZdFw0XL1+WPt9+q4sCPjP69R8gpUqVlu5ffiWr163TBQgLJTTdeJ/UtuHRMdJ/wABdYPEpwLNSO8/VfS4LyzDbMI9QGeO/UTH+U/loq1U1wjjPOG5sEfqOXbulTJmyOqTwHw0y3zPpv0WfwX20WGP1U4ClOsNm565dpWat2vLmm7ll3cZNtiGJemhdkq8z6sk9LLGxOuwWKlxEChYqLB07ddZPhlw5c8mS5cvT1SrejW9HPhe+HzRIQiIiH4mgaAeXhWU0dmZs74SGynf9+8uUqdMe2pvNz+ODeObsObr0Rkh58+XTVajxEW0+N63fDIusOIsUKaqCzvP22zJ02HD9cE7rGvbTqQ4eOixt27bTrVtbMNJ7kYweo7fTaDS+0fMdvQfD6O2gOxJ467bcuh3klO2PZ96+c/8eDH8PG9K4BjtmcGhYhuvs6LsZ57mVZhmV8mzvL1zMbeERlpN4lrkRH9dvl4QVabFIjCVOYmMTnC5cz30e1ws/yc9xSVgWS5z85n9Aeu/vI719nCj7+8i2a78K93mSG/Fx1d0lYcXHJsr0MzPFa4aXeM1xoszwkiFHh0lc7KNHWR9Xgz7K57gsrFln54jXbC/xmu9Eme0lw4+P9AjLwXnTIywHG+pRaoyj936ihcU3Dh+lsQkJStjht/nFIbFgQafYE1q4BvIM12T0m878jMf5+4kVFg2McRZUGSzp563b1KZoCAw6AEZV9lMg7wSFhOhHLh/eu/f+Jlu3/yLQDYxrHmfDO/OsJ0JYWBFSa1Dfk6ek4SefyP/+7/8qqlu2XDnxOXxELPEJsnnLNoVJQHufeuopxaqO+Z5QM9bIH0bJc889J089/bSiykfBtB6R8dUZoaR1jdsKi8ZDc0Byjxz3FSAIM6yCdmClz537LZk4ebLMnDVb3sydWzp16iwRUdEyY+YstfPNnjNXNm/ZKr/u3Cl3QsPklx071fYHjjVp6lSFVQYNHiwRUY5T5tJqzEe93y2FxfwC0rxt+y/Stl07JVTChbh1J9g2J4F/fdd/gPTs2UtuBd1RPKxGjRrSqlVr5e99/sUXitwuWbpUdu/Zq0wotHPU6DGSM1cutbLDYGrStJnUqlVbh1N31y63E5Z/4C2ZNWeutG7TVnkVjZs0Vc1hvwEAMl9pgUCaDMEsX7lKsufILj/8MEqu+wdIteo15Omnn5bnX3hBQcthw0eosMGsYFoB8cOK6ty5s8C4OnP+QqpD7aPWlozc362ERc8+c+68FC9eTEqULCXTZsxUTt/d3/9ImlPScAKAdw5ZBU7FqbNnlT8BGwr2EcwrmLP58+eXnzb/rCAlLCSEhaX+qx49BHTZI6yHfSin8lF8IyAwibn0fhmlmwHNgxfRsPbDFP9Bp0uUKCHvvPOObPvlF9UOUF+4HqDNcXfvyY5dexTjgtADK4q57fjJUxIcHq6C/LB8BYE4an//jPT6x3GuW2lWVEwS0hwZHSPHfU8oa+m9MmV02Jo2Y4aERJg8NqxWOXrcV6pUqaLU5X0HDiQ7SCTIjp27pGDBQtJ/wPcSHhkly1asVLLNgoWLZc7c+UoQhXJ2IyBA6tX7WOdF83z4OBremWe4l7BM1gR4F/ADT5w5q8MhC4zrAYG23s/KDj4Fy3LIOBBmPvqojgwfMVJhdhYm2bNnV1IpxJs6devK+QsXdYisUKGCFC5SRCpWqqRcjfkLF9ru60wjPq5r3FZYRgOwfGcVR883iCsMVzgxdOrSRelkUMooUNn69PlWwiIiVSjt2rfX/Y0bN5ajx4/bBAJnkTkN0unoMWN1SW88z523Lgtr5pnZ4jXLS7zmOVFmecmwYyMybMg1VoMI0RqXsrCP4zS6cRx6tHk+4jf70FzOcWcBmevmkrDirAky79wCeXn+K/LyYifK/FdktO9YibU+6L5jrqTndxLM75KwaMRbEcFy5s4FORPsRLlzQQLCcUDzIMWOdEiXhAUcH22JFas1zukSY4n1wPqmhVV6QnNJWFZLvGyJ3i6NI5o4XVZGrRarB9Z3aN50SVjxlkSZHjVTvMK9nC5DooZJnMUD66enUcYxl4U1K2qO04JCyMOjRnqE9TiGQTTLI6zUCZmGNmTm1qNZDvbqzGx0Z+/ltsLCNRUvRgpWDH3BmKQP3fi79yTx3j1JuHdPeRTGy/OBm3D3rhZnPnb5mMYZkGfq/e/e0//GR7ZxLD7xrn5kG/uBbtjHNZxj1Cezt24pLNBhvCibNm2mrjQYXTHu4k6657d96mT+SaPG0qhxExkx8gdFkBHO3n37pXXbttKqdRt1kLM1poPagzlr3oKFCkga958zf75a/DlG1IFmzZvLF92/VI9LLCEULPaAndQHRBtPyswWFPdzO2HhmDZh4mTJlj27ehLielOwUCFt/Ji4OBk/YaKGUMCzHs97YlrcDAxU6P/9999XCz0hETj22/4DKcxM6TUgjY79sWXLVuo1ia8X9xg2YqR6iaxYuVK8vb3VkZ0QDnA/bgbeEv9bt6RZ8xZaXzCzbNmyq7tsRjtKenUzjrmVsGgwHNNq164tVatVk/MXL2r0FuIk4YGIv1Wnzl1U4wgocisoSI229PohQ4ZqJIBdu/coq4mwDCNH/ahO6MbLprfl2XjfV6pUSQZ8/734BwSqCxF8DjA2XFirVq2m4Oa4iRPV4R1WFb7Eb72VRyZOniKnzpyVmjVravAS2FXpPc+ZY24lLF6Al8T5moagARna8KKHkYSbKfAGIRBatW6tsSguX72q/lwMfUSnue7vrwIvV66cnnM7+D5vI70G4lm//LpD+R7E42jb7lN1Z8VX7NzFi/LBBx9K5y5dVcugsb2V5y0ZN2GCnoOfMl6b+GmBPHMuguOe6T0zo8fcTli8gJIz797VKDB4FMKZwG+ZkDw4bGfNlt02HHX7/HPViE8+aSTVqlXTIZHwPgQ3adas+QPBr/TeiXeV+GnfmLPnzlPOBkNvPh3Ssqkw8ImGNoCvMYg1/xmGh4/8QWM4oflEF2DogymFqy20N/v7Z1Q49ue7pbBYLBCvCQ4FoXmA9um1xE6CfgadDAJN7z7faqOuXb9BI8JUq1ZdhXUzIFA+qlNXh0tzpDIAS4JhTZk6VebMnadCNhqEhoayxv1PJkcAqP3RR0q8+XnLVhWOISxoBnQa5jPicRADBGEhSAg5779f5q8jrICgO9KjVy/Jnj2HIr/MVSzfN2/ZIl9+9ZWuxFhew2jKly+fLF22XFeN77z7rly7cUOHQRqMWFD4KSMQejns3UpVqsiLL72k6PLqNWtseBYruBmzZsvQ4SOU1sanQ6+vv1bKwJat26RMmaT7wVckQAmkG3yfx44br9xFuCDMnV980V0qVaqsHeE/XrN44QkTJ2kMiqbNW8iBgz5y8vRpXXnRw1mJffHlV3Lw0CFp3baNFC5cRAk1U6ZNk9def02X1ytXr1E2E41pXpWhndzroI+PHDl6NMUQyXMZ1rj/9BkzNahJmbJlpWHDhkrLJnbGu++9J1u3bdcAXkWKFJEDPj56Xt68+aRP3+90YUP8Kua2R7F8d7th8Mz581KmbDnx8vJS3t8//vEPoTDc3L4TrLEv/vWvf8nf//6s8gH5rmH4uXTlqjRq1FgDbP39739X4iZ0M/tQDgyxBlXAGAKNLavBjxs0EK6nFC9eXBcOXLNrz15Bc9n/r+ee08gzaHxweISuVJ97/jl9NrGrfvr550xdWBj1c1lYM6Nmi1eYl9NlWNSI+4bcGKsOVXyYjp84yVbQND6GqTTfQgsXL9FjGzb9JKHJET9pUFaL02fO1A9T+IcZHYa4B1HWoF4TvGu/j49tmORezFWE0OP5LGKM+yO0hYsXa5127tn7SATFu7skrFhLgiyLWi7e4QWcLlOipgu4mNF7aIDU4u1a4++fYxw33Hh0qEt2/4lLSNBYvTS8cc+MbLnOuL/5mQCtzGPEAY5LTFRBmYdY2zWGacxBq0lG6uaSsHiB0JhICYy57XQJiYnwIMUOCtZlYdEzYizxThdoAR5vfcdgFpeEhaBCLOHibwmQAEtghgvXBVs8ydQcHQpdEhYxLE5ZfGWGdZTMsY7LcOG6I5YDEu3hYDg0v7okLIslXk5Yjsok6xCZZh2Z4cJ1By2/6RDqaO/6K5/nsrBOWo7JZOtQmW79IcOF63ws+zzCehwLDDTLIyzHFgeZMSK4tWbxzZVUUjbI/f0pIQjzfn670kCpXZ90/yQ7I/c2f2eZn21+rnl/avc0n/uw324nLF4IN1NCrmLeoVSoWFHDI/DBCk4EEMh+gg1fu3FThYLJad2GjVK+YkX1gCSkON4kD2sA++OYoi76XVYjMEGUo6xJHQUrBR4n2Avx6QJn08a3xsqho8ekbr16Wid8wowMDKDe3IMoApUrV5E169bbPGHsn+vIf7cTFgLxPXVKPvzgQylVqpT6VX3SqJH8umu3NgI+xoCP+FYR+J+A/PRwzFGEGseNh8DJ2OhSi9mbXqPQ+IQI79Ltc3n+uedl7PgJam6iI2CRBwStULGSApQkEsCKD5SDA3mBAgWlfPkKkiVrFpkwaZIKcsvW7YoiA4oSsx5bY0aoBvZ1dTthUUEIMgB4q9eulTvBIRIZFa3GV6JEA6GPmzBR8SxSUOAkhyZ816+fup8ePnpUSDGBs9zAwYM1QYz9S6f1H78tsi2QKOCFF17U9BloGkIhMnadOnXl6vUbmtEIDAtIf9XatVoncmlxDCs9pBp+d+naVby988vZ8+fVIAyHY9z4CSmGz7Tqktp+txMWvZjhhmxB9EYab+68+Tp8MLTly5tPHbnRJjLt4EC3a/de5T0A+eN6Co8Dp+7mLVpoiIbUXjy1favXrNW48sRmJ8b7+IkTxRIfr87hhA8HlcbtlZQdefK8LaPHjpVJU6ZK4UKFFSoBgiHUQ7lyH2iSgTr16qk3JkMo1ICSpUqpAJ2FT9xOWLxIt26fyyuvvKo5S5ibaBjQYKzvJHYhPgbDJQHzCQ+Otz4wvoEUEyOjUeOm0rx5ixSYFQIin0jCvd8F7iH3MAuNZwMuHjtxUsFFmFRoFl6TwPgGUsx/8CySxXw/cJCeC1LMvRiWP/zwQx2Cq1SrJg0bfqKelSSqAXnu3LmLxtM1P9fR324nLBoL8JCJOTg0VJ28S5QsKV0//1wzLQAOIixeEBINmkWiMXAoGFHQ0mAjkQCmSZOmKYQFHoa2EF2GhYDZddVoMIQD1wMkOElYCXLk2DEpWKBAsrCiZf/Bg5LfO7+i2P3634f1ATBhYZUtW07jQrGoaNCwoQqLoZp4G1AVCH5sPC8jW7cSFkAhvsJdu3XThuDl4VOQGYj5iXmBjAbA+bwkgGT58uU1XlO7Tz/VEAtXrl2T6zdvKhxPjHeiyHCurjKhudWpo3MS88f6DRse0C60LaWwkofBcuW0DuTs+nXXLsnzVh6ZNXuOTJ46TWF9+BvUl7RRdBQIM6STYnEBY4vsfeRH+bZvX+WTZERIxrluJSwqRQKyDh06CAyj6bNm6bxAvizyY/mePi0lS5TUBDTMK1C+SP8EEWb+goVCpqFRo0frcAkjitwkxouyZT6EaHP1+nW5fuNmqsk17YXFf+7/ZY8eUrRoUV1ckEyGld2x477icxjyTEFp36GDApBkXCCKQFhElC5QXnn1VeVqwBxmNbmS7HVOfgO6nbBoVCKbkeaCsAnPPvsP1TSGN44hAPKMcKxI0WI63PDysGM/795doXWipLVp207TJpmFZfxOr7E4BtWMDjJm7DhtWPahKTVq1lSqwYsvvigjfhil8xsZgBguX3r5Za0TcyjLc4TMsp56UFfoAGgdme6MemR065bConEYNlg48K2EIIwGRjtYjW36abM2oPHCZCoIDAoSUjYRX5APa2ezF0Ad+GXHDoX4jfvHWOOU0w7DihyPLEaMOrEKhPFEnZT3kaw5CIz5kyGSeZaobsY1xn0zsnVZWL6WIzLBOlCmWIdluHDdQcveVA25hD0AtqfwgmbTDnB7XHyCrtTML8t5tmvsVnrm8xz5zX1obPO55jqxP2WdEh5eJyeHP6MOLgkLlPe65brstmyXvZYdGS5c52fxUydyo0KebUo7qLk9XBJWUkiEOImx3HO6JAGPntAKZqGk9dtFYVkl0hIoERYfibAcdqL4SKTlfoa6tCrp2Z+kbS4KK0EiLFslLK66hMXVdaJUlwjLConyeOunmBvT6pwuCitRIqxbJCy+qoTFf+REqSoR1uUSZUl0qLJpvcRfZX8mCGurhMVXk7D4Ok6UahJhRbM8wnKkwz0xwjIvkx15scdxjtYpJu3VW2bX2a2Fha2NyNJ8dJpfHIOsf2DgAwZRPpjJkRwQeOsBRJaPWK4JCk5yAXJWmGFRUVon6kadKBifeS7312eEhKppi2dwHvUhYx71Mz/3Tkhoqu9hPsf8222FRTxArO9A+mT2xhrORy8pcctXqKBWcfAqLB1879FgGFbVSdvbW01F4Ehcg2cKjt3YC2vWrKWZyc2N4OjvGGusOuFpdnOC/cNrt1pl3oIFUqhwYa0Tz+ja7XMJvHNHbY9jJ0xUmyCurORPNiwfx3x9pUGDBpqpnFS9WD4eVg+3EpahPWgSggL+ALXFfBSbgNvqDbVoA5k0b9lS7Xekv6X3cg7JOeFC1Kr9kVrC8TIJCg5Rp3EyhLdu00by5cuvSC4mpYc1DseNOmFtX7BosVIHoBVg/7MmJKrWY0nHyPtZhw4KUBL4H1/kVavXaDxeaAlVq1bVjoTvMWYn0GSuAU3I/dZbyT5d6UMnbiUsGgdBkRnVu0ABIZ0t/ro4sAEabvzpJxUCfAh6KLA5xlXce0BocWrDlZVcwaDMZGalUWmU3t98I1ExMfLDqB/13gcOHX7AnJSW8HjWuPHjtS7Uh1APgI0kngHy/6hOHY3NgTN6aHi4eqFwDf7QPPvqtevqLkSHARXYvmOHemwOHzFC0/uCgdEB4Z7Ym7jMdXI7YRGwBMs62NXESZNtGbppGGAQBIIHJD1+yLDhmgSaBDEtW7VW99AbgYFy7WaADp8Mfes2bNDGBXci+gtp2dHWNWvXORwNhjkSpz1gmWEjRihq/NuBA4o2H/U9oTjV888/r8MsGBY8ENBqkGGYUEGhoWoUfueddxUFJ9Y8MTOoC9mGqBucDhLZpBehxu2EhRAY1phr5i9cpIFLtmzfri81Ztw4dSO1wfqTJyubCes82cXNsD5pK1q1aqUYE9pAqHHmmA0/bdaGWbl6tQ5jxlCnRuC4eImNj9f4ucbwZxyHVsbvCZMmq7DQLGLGkz6eDqTa1aGDal/TZs0UwKxc5T5SDIEGwk23bt3UWe+tPHkUDbcmJGgnINAKQ/kTJSxD7Wk8PCAZOlII6/XXk2D9GIuQsqJkqdIKpQDrQw8D9wIzqlKlqs4LeCQiLDSDhkA70CzmE+Ycnseztv36q+YxIXIM0QEAQY26GNtIi1W9G+FjoFncjyEY5BphMMxyLWDk2nXrpXKVqrqIALyE4oZTOhyMGTNnKiNq8bLlOpSSHACCzpZt/wnC2oZmJWqj5MyRS2A5QQH4ps+3wsqMgP2kWIc3SLYE5hGctYkFz/xAXHdSqeMViRsrCwQCjxjzA1tob9DfihQtqiGGUosQYy8sNHXylKnKF4SXgfcjpB4iCDBUo91kcmBZj1CJpTF4yFDZ8NMmHTKZBxMSE2XkqFHCavHwsWO2OhkdxLx1u2HQqBy9nXmLeBNJq8FEOe/npw2KBg0dNkLTX3Tt2k0z+Kxas1aHSIJgISQIL/R45g6IocR9h2ADAl23bj2F941nMeRpiY6WSEpMjG0VaJzDFmHBWaRTsHBh0bNj1y7lK7IK5f7Fi5fQGBxwSaj/K6+8Ir379FG0m+ES8JLOxMKIKDijfvxR34k5NzVtNj/fbYVFJRcsXKSTN+ivMZazHGdyfvbZZ3URAQUAwfJNNXTYcIXXX3zxJc05oghzbKzSBBDwP//5TyXVgD6bG8HR3wiLGE2s3PYd9NE68X3HMJYtWzatE0zhAz6HVEPQzm++/Vaef/4F5YegVXwyUF8y5cFFJBIBlGyG1YfVIxOE9egMuWgFyV/se9y5i5fk+MmT+t3Fi/OSbPm2OXn6jJw4fUaFZxwjHiC9mWtIG/iwRknrOMKiA/CRzTxkPJfPjYSkwr4AABm9SURBVNPnziXX6brt/jyf806cOq0fvax0bXWyWOXy1Wty/MRJuXzteor9aT0/E4T1s4TFVZKwuJpOlEoSYV2WJkTCi6mVwM5/iX0UY86xvVzy+RwzNwrHOTfVa+zubbtXGvszWifj/Myok4vCipUIyxWJsG6SCOvPTpRNEmG5IFEW19xzHtbA/ynHXRSWRSItCRJp+dOFwvLZA+s70qFcElakJVaio05JXNhUp0t05GHhPo5U9q9+jovCSpTYsFny582n5E9/J8rNpyQudIRq519dEI68v+vCCp8t4u8lEuBE8feSeI+wHB5VMkFYc1wU1kiPZqWx8rTXNo+wHGwo+4b7d/x3a2HxjYLlwvzNxG/shJh6ACQNywaNZxzjuD3Pne8c9pvPz2iDG/fQ+9tRoY06cY75vinqZHeNcT9H6+S2wuIlQYbxeLx87VqSwKxWtV6DBxEcnwJcgpWAj17scYuWLpWFS5YofsQ9aDi4DxhusdXhlxwaEZWiQc2Nm9ZvbIfAIkD4i5cs03oY98fCsnrtOq0P5xjwCscv+F1WhBnnQL8rV20dD6sHsX7nzp8vv+7YKeHR0Q+tk1sJy/ySeAcSXBicBy8Meh8CIXDjyy+/LM8995y88OKLAn/h2s0kr3nCe+OLDBBIVM+zFy4qR4KQBli8uQYoYtacOQ+QV9ISEvvB10ifi0Wee/OMJk2bqukK2+CQocM08DIRRrEbEuacupJJAUhfr3nxRQ0/TgBL3nPhosWSP7+3PPfc84qIY3Q23j+turidsKgwL0mc2Vdfe01ymRBUeiPZUsmEumnzZnW69j15SqkAkFHeyPKGQhYTJk6U3G/m1rTvNA6p27lm3foNUu/j+moARlvTahTzfrSDWBuk1iXe+4ZNm9TB7/U33pCp06ZrPIwC3gU0bu+SpcvUUNz9yy8lODRcfhw9RpGAufPmqScnSMCKVavVtggcgyCJ3QHuVaduPXUPMj/b/rdbCYvKYYzFOk1W7voNGqqFnaGL+YkA+0ALOFjPmDVLoRMCk9C7P23/mcbNYChk+ATP6tK1m0LlQBoEKwZC5zoygGN5t59f7BvH+A9wSNTrmbNma+JqsCsaHmc7ZVTl97bVBRdb4stjoAXIxI0WOh3cEPgYfb/7TtZt3KiYF8IGYxv142j9zxCaXp3cTlhoDxADVmzYRIoUJxNmfE+dVrzomWee0aGIpNETJ0+WG/4B0rhpU00/AVKMHzL8B6hqK1auUlYRSDENsWL1avVLNiPFCAUNMoy90daUflloe3SMRa+HCAOjCkgEnE0JON7eQgZyUmH069dfHcBhMaHNDNPMqYCiFStWki5duiRzSfIqrM/CZNacuUo1eKSwfqQlUWLDM/c7i4YxGs0G6ycLi/DgDEfEydj2yy86jBQrVly1pH6DBvczJtwOkk8aN5aWLVsqJoZ/ssHBICAK85Y9B4NFwvlLl5SHCERvcC4M7UKYIWERGk4BN1lcTrnGHIQ/KsYig4cMkQ8+LK8LGbz1baEVrl3XSDRdu3aV6TNmKKzPogNtZ0H0yDkYj0JY5sYxC4sFBvEpmOjRnLi7dzVnCRA6LCFSKBFT/XpAgGJXRi6SZStWKMkSDeQerObQSOYKY8lM5+BZ+BE//8IL6mVvji5NnVhkGISdFi1bycUrV7VTMWTT0Lv37NXh2MhFQmhxEs1ApAEYPXvhgtLjvvjiC2EOgzADIQhhEe6BDsTq0KiT0Q7mrdsNg0bl6MlmYRHxGaHgfA1FLTQiQsP9oDXMPwMHDdbGPuhzSHxPnFRv+hE//CBHfX11LiOIPnE1hg0fnszRO21bRvNMHLxJBINX/YpVq1IE0Wfpv2DRIsmRM6dmZkCQ1mR8jJUmIYpY4BDdhiBgsKpu+AfqPAdD9/TZs7oQYe4EVd538KB4Fyiowyk8w6+/+Uaj0hCmnPc22sB+69bCmjNvnpJbWLqzwADtJYbSG1my6NyVLXs26f7VVxqc3+fIEc13lTdfPp2jihYrLrv2/qYaMXjoMO255MRCe+j9IeH3E5Ix9DKfkV2OzHbMI0ZD0XiE8mFI+6//+i9dWMD/I5jXvIUL1dGchQT3ZWkPcwrBoa07d+8VUkPBI6FeePITV4rA/b1699ZrIKOi6cSZCo9K//svE4T16Ay5rAI7dOyo3HRenoZjqd7+s890eCGlBAI0euP2HTs1LBDzBMMcGsEx6AHwMwjKBZmG0DyGMBzZHjnuqyESGNKMwr2WLl+hlhIYwMTj4NjoseN02OO+dAI4I3wuoHGQODXDHmH6bvprcDDuA3MYSvXD6uKisBIkNmyu/On/L/kzwIni/y+JCx0lkaYg/EaFeVF+x8QmDQv8t+0DvremPMa5CCaG/dak38a99D7GNekMM+bz7X/jlMB9ea5ReB51SnquUaeUK0nMXlrXdOpEFAD756X230VhWSUq+qpYI352ukRHXVSKV2qV8+xL6fvlkrCA40F50QznC73KA+s70jFdE5YOTUgfI6RzRYe25CHPkQr/lc9xSViRsfFivbBR7i2vJPdWOVGWV5LYU4sk0poSVvgrCyS9d3dNWHGJEus7S2SMl8hEJ8oYL4k/OFwiYx9dIub0Xv5JO+a6sE7MERnvJTLZiTLeS+J9RnqE5SBa7RGWgw3lDlrotsLi2wP4ILXoZDi8ccweTuB7h2MUPqLNDUyiMuxw5gRm5uOO/OYeRp043/ju47nY9FKrE/VIuib1OnGM+zryfLcUFkZTTEzY+wYPHSp79ycFvKdRSGWLWycoMkZdsCxelGM4AJANFeQW7xJjPxgZoB/Bh8lFbO/o4EhDAXMA2fBc3H4ANfng5bnENmQfx9Zu2KBgqPFsAvQTJRs87fjJUzahYNwFLR4wcJAmFaWOD6uH2wkLExE5FUnqDBpLKNWy5cpqVlUE07//AIXQX3v9dbX34WdMg505f0HNPZwP7I8tD39fEqmBFxHylGDIb7yRRTEocLOHNY5xnHOxjGd5I4veA58rDMO49NwOCdVAx6Da5FTmOfAx0Khjvic1WYBRp7r1PlYIhs6I0ThXrjf1ftgGgXB4d+OZqW3dTliAhxhryXywb/9+WbN2reTO/aZqBdZqXECx7+3Zt1+qV6+urqgECiG4PRkUABXROFxTJ02eqtAEMd4bN26s8WwJgwqk/jALt7mx8KnqN2CAxnw/etxXunf/UoWCnRLPSqIKoD07du6SDz74QCNM4zSOJiOIzT9v0Q4DQoA2HTtxQi3/7du3l0NHjqg/dNVq1VO4MJmfb/x2P2EFJDU8wByWDeLVYrUeNGSIJo/GexDGE/MF4b7x0yXTwaeftlerNuQZjLvwJT7r0FEdtIEmRo8Zo9Z0LPk5c+XSYdZ+zjMaxbzlORRQYGJhAF7i2N26dRv11SKnMR0IkgwaiOdlpUqV1AFc/ZyrVJXbwcGqUUSf/rp3b1mzbp3G4yCEBK6t4GRAKTCw0quT2wmLhrLGxWnDMsSgRdlzZNcYGEDzOXPkVPoZQx8cCOAK4HBcUQ1vfSzY9erXlxYtWgq0NYZUAylmiMqZM+cDSDH305CtqSxcqBPH4VK0+7S9Ugrgdxjelgx9SkGLjtF5i4wJAIlkezCQYr+rVxWMBCk2oB8DKYYiR2iFRwvr81Gcyd9Z9GIahoYYMHCg+uSCWTHB0wNff+01FRZzAqnSyahgBOE3CwuyTYsWLRTWN4dWACzMmTMlrI8wYDDRs4mpwTBlntOoDylvLbHxcsPfX59LpBrYUv36D9CGNviCDH3EcgfeMcP6eDnCsoKDYQ/rg4s9kcKi4VhIkDoCrgM9mGGN5e20GTM1vcWGjZt0MmYl9d5772nkZ3h8pD4iDwnnlylTRgjMv2rNGmUOjR0/XjUHUiVAIQK2xCdZThA8vf2ll17SsN41a9ZM4SCOIGEiIQBiSgFqwm4aNmKkjPzhB4X1IcjAtIIFBb0AB/HqNWpKjZo1UgyDPXr0kAWLFym6PHvePB0GmW+hBhDB+okaBvGUZ1hg5da4aTNdIBCaICwyUpfwECO/6z9AM+c0bdZcGjdpLDf9A5SjxwJjy9atsmv3Hg0swnIalhQO1pBnLl7ykz59+ug8pwG6TNgWzFkoYsSMIr2T+ZPg1NmzUrJkSaldu7Y+d+bM2brihBGMANHcH34cLSdPn9ZEMSwcGDL7ftdPO8be3/Ypz5G5lyQ4ZGQAVWZIvHzlqmob3EH9HDDViY5rLm41ZzHc4KDNcPa3v/1Nh0D4DfRiNI2hsVevr3WJDB8CDWGC57qTZ87oxJ8lS1aliTFv+Bw5qosDYlVwD0gp2bJm05WbeZhj6NWPV/2wfZAPj+DI2MDzWJzQkVq0bKnfV6wUP+vYUfiU4DhBs5gnud+hI8d0VZstW3YdEUjTQT159oiRI3XuZPmePXsOXco/cUv3C5cu68cwwx+sXC1du+oKil7G4oHIMuyHYIkHPPsRGD32q569NBUF2mHsh+tHPCgImAw5qQUkMffg1H6HRETqxyvh6b4fOFBZwwiE50IqZX6lTouWLJXQ5G84jjEcskLs9XVv5V8YdboVHKxDK+85bdp0uZP8Hqk929jnumb5zkyyuk/wEsloScPqDmGFlEnmwliOBlBx47g9bUu1I/Guepjw23hJtpzL/cxkGPNxR36b74EgjPpwbWxiUp1TqxPPxevFvk7GezhaJ9eEZY0X6/n18vvSsvL7cifKkrISe3K+B8+ym5vS6jguCQsGKguCqOgIpwvhd7hPWhX07L+/yHBZWBFRkRIeGiThYU6U0CCJiIzwCOuxaFZCglzbvVx2t/WWvR0zXna38xa/n6ZJVLxjEMFfXctc0qzohES5vHW2bKvhJb/Uy3jhugsrRkh0ggfWd6QjuiysK9vmyPbaXvJrg4wXrru4aqRHWI9jGESzPMK6vwBwRDtcOcetNYtvGYr9C6a1n/OcPWb/jPT+Z3adCLGX3vOMY24pLBoDmBv7GhC8+eOTimOB5xjnmBsOcw3mHwporPGSbDkXywXWDPM15nMc+R0RE6PPpw5GvYhDGBQSonUC8zLfh3oY72FvTqIuWie7a8zXm3+7pbAwquI9Qvx0UN7V69bZPELgVuD9yDGC3nMujY+9DToAgftLlSqlphxDMPgEd+rcRQoXLiKNGzdRCMTcCI7+5jlEAGjUuIn06v2NCo195IAEkCRrAplWMT+xPzQ8UqbNnKXuSbj7EJkUYXIMG2Gr1m30GpIDaGSBh8xdbicsNICg9GT6btS4sRpCEQBkE6JoEiedMAkNGzVSyBxOBiguYB9ekMASVapWVdh985ZtcicsTDkSWLxJMo2FHGjfGdIMqdpx1ibka/MWLVVYdBYEVbr0O1K/fn3Jlj27/DhmjGrX+g2b1PCLWw8O7XSWPb/9ptrUtl07FRTQDlgW2cXNPmOpdSC3ExYaQkxcoHsSrhAkmOjRBw4d0lDaWOGnTJuujd2xYyfVsnMXLkrv3t8oNO578qT6cOFrjHEVyB84nYwKYRERMnT4cClYsJAaVe1tdak1kLGPcwEmiRL93//936oVDIW4wVInDLh0pmbNmmknI0AJmg+l4JKfnxp06TCg27/u2qnoNS6u4RGR8nXvbzSZACFj06uTWwnLmAMwhmLGIjsBEDyWaRqGEOEgtNDUOJeXZcgD+IMTAfcBV1EAyPLlK2iymPUbN2qDAZMQ8H7h4kUKScCDMMBHQyDpbaHA4fSN5pJ6g1woaOekyVOSNWafgo89e36t3vogx2gUka7JmECHIuF0t26fq4Dze3vrsI0Rl3sA3+DU/sjAx0e5dAf6mDJ1qiK+CAFOIMmbwZKMjAmTpkxRIHHT5i1Sv2FDGweDSbtp8+apZkzYqBkTcj/AwaCREu/dk3u//6EWcrPg6Biz5s7VUAnwDytWrKjDIMLq//33ivIiHGLN47PMPIuXI4CiwcG4euOGCg6Yhig54GtJHIxE3T5yb/1HISwahjkIzQJagBeBPy4Zt9VbnowJyaG+0Tx6K+ktYBJVrVbNljGB32TSgfplcDCscQmyZFlSxgQQYQPOYMLfuWePLkJatGqlEWQAOhEYxwigT1wNHMrhJxKIhHuzyjNzMFj5kRigbNly2qHgYDRo2DApF8klP0WsO3funJwxIUlYaDtkHjTrkRJmMltYNIzf5SvSpGkTpWwxobP6g37Wp29fbWiGReYHhNrn27469B09flxXj0WKFJFLly9rqgkizJDjnqGFOQ8Ha2jVpJaAv0foA2PIYZ7AQx/yDfNKu/btlflLfSjEVYLYyUKA48RiJ2oAcw0hG9ASfIeZbzt36aKCJVy5sUCClkDIcyLMDBw0SNZv3CB58rwt4ydMUA4GGRMIzoJzuFEns2Ybv91qzqJSIMFA5nnz5VWuH/MEsPjyFSuFeO5l3i8jtevUkXHjJ6rHPI3DKgpiJxwMBDjg+++VeMkww6T/ySeNdDhlbqhVq5YmcCGNutEICJ6Ghph5OyhIgsPCUrBjEWzrNm11NflR3bryyquv6ioP1PngocMa3wIH79Fjxyq3gjqgZYQPAu6HAIp3PskDGIb9rl0XIP7KlSvJlKnTbMMqmmrUKbWt2wmLSjL+16pVW/l5WbNl0xUh30wcQ2jw9AguAuVrz97ftPfjkd+3Xz8lskCf/qJ7d5snP0Mp8wjRzFg+Q9REQKk1CJpkv599hjMEAfMJRtKmXTvtJBExFpk9NymcD3WCbga/nWsIU/TFl1+qFkKt7tv3O/G/dUvv//O27cp5pE6lSr8jv+zc9cBz7evhsrAub5kpW6t6yfaPMl647sLy4Q8YcnlRlr706P0+PkqUMRoRKwBcC2hbDC3GC3Ecy8XeffuVnYSGGtdwDmwmPl6hPKclKONe6W35DuT5fNSqlYQP8iiG68NaJyK6Gc9lSyeiQ8HFoH7GMepw6sxZZWKxTe+ZxjGXhBUVFy/+x36Ro8OayvFRGS9cd/23NRIVl5IvQeUIZQBX0BjDzQ2MOxDHUnyTJJND4fVxjdEoxotyrt7PjpthHHdka9SBe6V4tsWqfEL7OnE+9Uh6jyRyjfk5Rp3s72U+x/zbNWEB62MisVokKtaJwnWkjk1jSDJX1PPbKq4LKzZOIhMSnS/0dI+wHv0wGMnS9sJFsS5f4XSJPnVKuI9Hcx6Oi7mkWZG4WM6YIX/+7W9Ol7ihwyTSw8FwqLO6JqzERImdPUfEy8vpEj9ypCB0j2Y9as3yCOuxdrL/GM1iiWy/BDb28RmgmsvKMxng41wK5xhLco7ZrnFhiW88I7O3/xHCorHxmL/od1nNRtpIVqvuwwhLzFscwfUzITkoP+dyDAs9AjIEFXD7tpw5d06D7BMbMLMb3JX7uaWwjA9hR16MhqaBQX+xhoPcojFYGchwCuJcqVJl2bF7twoMCwguORhkcc7G8wO/KK7hWrKacg12POyNaqV4CNzuSD0z4xy3ExbA4cbNm+V20B21YtCI6b0oH+VY4cG5ihcvrl74OFyTqp00tLjasMXxDqHiUI71m7TqpM1FYOQWxgcLF1Os4fgxl69QQQ3FaN/D6pBe/TLzmFsJCy0BUQUDItw2Dt/XbiSRTzDZ2L84jQgoyblPP/20kmWInw4FwLuAt/Tr318i4E2MHqM5jffuPyCTp07VOLZA9IFBQQoIAmVgfIW7AYkFUsva9es1/QRx4T3CSl7u2y/dmX8w3jIceXt7K6mE3MCHDh9R2NwsMPAukFos6iSLLl6suBqAiU0BeUY99ElOPW++WupXrlmjsXLBs+A7YJT97LMOqkX4GOOHjGspFhWc8aAQ4GRuXoCYn/+4f7uVZhkvT5gd4kMcPHxYg/2SjqJmzVpyMxleMM4jGAhJnAEOCXLM8Ia1Hq0AKJw+a7Zg9MVDnzkKcgvEGcDCk2fOqhB69OwpFSpWUoCRWBQqLItV01PA7yDgv0dYaWhWkiAsGmgfD3piSYAUAzIamBbn3AgIVB4ElC6GQlJZgLYeOXZMeYZv5npT/Y1ZthuahVC//rq3+v0irODwcGnf/jMpX6GiOn7zHGhw3B8MzKNZdtYO+2EQ1Jd0DyVKlFSPe4gvDElBwcG2Hs4cAgQO3Yw0SwCUQO1PPfWU8hxIXYHgvuvXTyKiopRowyIDTAkYntjr8Axh0UL6hE/I/cgV0rJVK/VThtfBMLxy1WrPnGWYqMzCYoFBNhzIKDBbiTdBL7fPMsc+EFtWcb379JGvevZUwcKTYA7jG4qlfFH4gr2ghpVNynRwO0iOHD+uQq5Tp4583r27hvKZPGWKhm4YNGiIcgAhXDLsvvvuuwpaehYYaQyD0LsIao/g0v3essYqZSzh3u96bo9evaRSlSoK5XMd6SqIMkM2nipVq+mwxocxH7qs8CBfQr6Bx0caJwRy6cpVTUjGcp54TATtsuen01H+XSUTFhiznTbiol3xIx405Ga0J7MAgNzJxy3EF9VGa6xGiYHnjnVDGzjZ3IQACM/Dsdt3QlJYMALv3NFsPyxU3GVhYXQOj7D+MsJKSJTYWbPkz6eecrrEjRiRKRAJw6aRCsPoiUn7TNyHv7Qhl/wal/zEum6d0yWa751/4zxgCPZJ2Lo0DPKlDyTv4WA8nkWHa8LyaMRjXRl6hPUEdTiPsDzCejxj+JOwKMjMOno0y6NZHs3KTI0y7uXRLI9meTTL0IbM3D5Us/yDgoX4sJ7y72+DW8GhcubyVTl75ZqteBl/OGArV67JGU/597XB5Ws2WRjyYXtfWAjHLDDP7397e5gFlUJY9gc8/+8PP+7SFjbNcpcKeeqRdif5f1R8gQQl5zKbAAAAAElFTkSuQmCC)"
      ],
      "metadata": {
        "id": "oIKQ5UwNzKzY"
      }
    },
    {
      "cell_type": "code",
      "source": [
        "Al = [200, 400, 800, 1200, 2500, 4000, 8000]\n",
        "Fe = [250, 500, 1000, 1500, 2000, 3000, 4000]\n",
        "V =  [0.5, 1, 2, 4, 6, 8, 10]\n",
        "Ni = [1, 2, 3, 6, 9, 12, 15]\n",
        "Cr = [1, 2, 3, 4, 6, 10, 15]\n",
        "Pb = [1, 2, 4, 8, 12, 16, 20]\n",
        "As = [0.1, 0.2, 0.4, 0.6, 0.9, 1.2, 1.6]\n",
        "\n",
        "def classDef(x,metClassRange):\n",
        "  for i in range(len(metClassRange)):\n",
        "    if (x < metClassRange[i]):\n",
        "      return i\n",
        "    elif (x >= metClassRange[len(metClassRange)-1]):\n",
        "      return len(metClassRange)\n"
      ],
      "metadata": {
        "id": "AG5fZMMAuKHT"
      },
      "execution_count": null,
      "outputs": []
    },
    {
      "cell_type": "code",
      "source": [
        "df['Fe']=df['Fe'].dropna().map(lambda x: classDef(x,Fe))"
      ],
      "metadata": {
        "id": "WRRqckYguJ8G"
      },
      "execution_count": null,
      "outputs": []
    },
    {
      "cell_type": "markdown",
      "source": [
        "Выравнивание признаков (исходя из анализа данных, при построении модели регрессии)"
      ],
      "metadata": {
        "id": "aFRCuARG2l7e"
      }
    },
    {
      "cell_type": "code",
      "source": [
        "\n",
        "df['Night_view_time'] = np.log(df[('Night_view_time')]+1)\n",
        "df['Day_view_time'] = np.log(df[('Day_view_time')]+1)\n",
        "df['sur_refl_b07'] = np.log(df[('sur_refl_b07')]+1)\n",
        "df['BRDF_Albedo_Parameters_Band6_geo'] = np.log(df[('BRDF_Albedo_Parameters_Band6_geo')]+1)\n",
        "df['BRDF_Albedo_Parameters_Band7_iso'] = np.log(df[('BRDF_Albedo_Parameters_Band7_iso')]+1)"
      ],
      "metadata": {
        "id": "SFQlW-FQ4VDd"
      },
      "execution_count": null,
      "outputs": []
    },
    {
      "cell_type": "code",
      "source": [
        "df = df.drop(columns=['num_observations_500m','num_observations_1km','LC_Type4','SolarAzimuth'])"
      ],
      "metadata": {
        "id": "sYmv1Uv24dti"
      },
      "execution_count": null,
      "outputs": []
    },
    {
      "cell_type": "code",
      "source": [
        "df"
      ],
      "metadata": {
        "colab": {
          "base_uri": "https://localhost:8080/",
          "height": 488
        },
        "id": "WZhO5pw0u7Nm",
        "outputId": "003c348e-705e-43ac-b309-06cd6ffcd459"
      },
      "execution_count": null,
      "outputs": [
        {
          "output_type": "execute_result",
          "data": {
            "text/plain": [
              "      LC_Type4  SWIRVZA  VNIRVZA    SAA    SZA   TIME  LST_Day_1km  \\\n",
              "0          6.0     73.0     73.0  108.0   77.5  699.0      14864.5   \n",
              "1          6.0     73.0     73.0  108.0   77.5  700.0      15009.0   \n",
              "2          6.0     72.0     72.0  109.0   78.0  701.0      14832.0   \n",
              "3          2.0     73.0     73.0  109.0   79.0  701.0      14846.0   \n",
              "4          4.0     72.0     72.0  109.0   79.0  702.0      14944.5   \n",
              "...        ...      ...      ...    ...    ...    ...          ...   \n",
              "4583       1.0     55.0     55.0  115.0  119.0  573.0      13639.5   \n",
              "4584       1.0     55.0     55.0  116.0  119.0  574.0      13661.5   \n",
              "4585       1.0     52.5     53.0  116.0  118.5  577.0      13615.0   \n",
              "4586       1.0     52.0     52.0  117.0  120.0  579.0      13609.5   \n",
              "4587       1.0     52.0     52.0  117.0  120.0  581.0      13669.0   \n",
              "\n",
              "      Night_view_time  Day_view_time            B5  ...         SZEN  \\\n",
              "0               221.0          110.0  14950.419341  ...  4656.777778   \n",
              "1               221.0          110.0  16227.613449  ...  4638.583333   \n",
              "2               221.0          110.0  16225.441665  ...  4691.875000   \n",
              "3               221.0          110.0  15969.163140  ...  4656.250000   \n",
              "4               221.0          111.0  15577.268577  ...  4595.142857   \n",
              "...               ...            ...           ...  ...          ...   \n",
              "4583            210.0          120.0  13201.465095  ...  6093.250000   \n",
              "4584            209.0          121.0  15632.825340  ...  6104.000000   \n",
              "4585            209.0          121.0  14191.578955  ...  6220.250000   \n",
              "4586            210.0          121.0  13294.281481  ...  6158.250000   \n",
              "4587            209.0          121.0  13645.831507  ...  6139.000000   \n",
              "\n",
              "             VZEN           B11            B6  sur_refl_b07  \\\n",
              "0     3699.500000  22827.816975  13805.278284   1396.500000   \n",
              "1     3693.500000  23251.804882  14170.123809   1687.500000   \n",
              "2     3656.500000  22635.824845  14423.536211   1354.500000   \n",
              "3     3648.541667  22468.118812  12886.915464   1032.000000   \n",
              "4     3599.250000  22547.717038  14246.689616   1336.102642   \n",
              "...           ...           ...           ...           ...   \n",
              "4583  3725.666667  17121.741984   8567.513688    495.000000   \n",
              "4584  3539.285714  17349.935914   9699.876964    691.000000   \n",
              "4585  3822.166667  17169.377438   9159.969833    427.500000   \n",
              "4586  3236.000000  17305.457150   8760.299543    430.000000   \n",
              "4587  3020.200000  16701.841438   8653.484344    513.500000   \n",
              "\n",
              "      BRDF_Albedo_Parameters_Band6_geo  BRDF_Albedo_Parameters_Band6_iso  \\\n",
              "0                                 54.5                        294.500000   \n",
              "1                                 41.5                        334.000000   \n",
              "2                                 57.0                        293.166667   \n",
              "3                                 44.0                        262.000000   \n",
              "4                                 69.0                        317.500000   \n",
              "...                                ...                               ...   \n",
              "4583                              12.5                        130.500000   \n",
              "4584                              26.0                        211.500000   \n",
              "4585                              14.5                        123.000000   \n",
              "4586                              17.0                        139.500000   \n",
              "4587                              16.0                        148.000000   \n",
              "\n",
              "      BRDF_Albedo_Parameters_Band7_geo  BRDF_Albedo_Parameters_Band7_iso  Fe  \n",
              "0                                 44.0                             184.5   1  \n",
              "1                                 31.0                             208.5   2  \n",
              "2                                 39.0                             170.5   0  \n",
              "3                                 33.0                             142.0   1  \n",
              "4                                 46.0                             184.0   2  \n",
              "...                                ...                               ...  ..  \n",
              "4583                               6.0                              57.0   7  \n",
              "4584                              11.0                              93.0   7  \n",
              "4585                               8.0                              51.0   7  \n",
              "4586                               8.0                              60.0   7  \n",
              "4587                               9.5                              68.0   7  \n",
              "\n",
              "[4588 rows x 29 columns]"
            ],
            "text/html": [
              "\n",
              "  <div id=\"df-3b0d22a0-6cfa-498f-bbcb-4781d7719f60\">\n",
              "    <div class=\"colab-df-container\">\n",
              "      <div>\n",
              "<style scoped>\n",
              "    .dataframe tbody tr th:only-of-type {\n",
              "        vertical-align: middle;\n",
              "    }\n",
              "\n",
              "    .dataframe tbody tr th {\n",
              "        vertical-align: top;\n",
              "    }\n",
              "\n",
              "    .dataframe thead th {\n",
              "        text-align: right;\n",
              "    }\n",
              "</style>\n",
              "<table border=\"1\" class=\"dataframe\">\n",
              "  <thead>\n",
              "    <tr style=\"text-align: right;\">\n",
              "      <th></th>\n",
              "      <th>LC_Type4</th>\n",
              "      <th>SWIRVZA</th>\n",
              "      <th>VNIRVZA</th>\n",
              "      <th>SAA</th>\n",
              "      <th>SZA</th>\n",
              "      <th>TIME</th>\n",
              "      <th>LST_Day_1km</th>\n",
              "      <th>Night_view_time</th>\n",
              "      <th>Day_view_time</th>\n",
              "      <th>B5</th>\n",
              "      <th>...</th>\n",
              "      <th>SZEN</th>\n",
              "      <th>VZEN</th>\n",
              "      <th>B11</th>\n",
              "      <th>B6</th>\n",
              "      <th>sur_refl_b07</th>\n",
              "      <th>BRDF_Albedo_Parameters_Band6_geo</th>\n",
              "      <th>BRDF_Albedo_Parameters_Band6_iso</th>\n",
              "      <th>BRDF_Albedo_Parameters_Band7_geo</th>\n",
              "      <th>BRDF_Albedo_Parameters_Band7_iso</th>\n",
              "      <th>Fe</th>\n",
              "    </tr>\n",
              "  </thead>\n",
              "  <tbody>\n",
              "    <tr>\n",
              "      <th>0</th>\n",
              "      <td>6.0</td>\n",
              "      <td>73.0</td>\n",
              "      <td>73.0</td>\n",
              "      <td>108.0</td>\n",
              "      <td>77.5</td>\n",
              "      <td>699.0</td>\n",
              "      <td>14864.5</td>\n",
              "      <td>221.0</td>\n",
              "      <td>110.0</td>\n",
              "      <td>14950.419341</td>\n",
              "      <td>...</td>\n",
              "      <td>4656.777778</td>\n",
              "      <td>3699.500000</td>\n",
              "      <td>22827.816975</td>\n",
              "      <td>13805.278284</td>\n",
              "      <td>1396.500000</td>\n",
              "      <td>54.5</td>\n",
              "      <td>294.500000</td>\n",
              "      <td>44.0</td>\n",
              "      <td>184.5</td>\n",
              "      <td>1</td>\n",
              "    </tr>\n",
              "    <tr>\n",
              "      <th>1</th>\n",
              "      <td>6.0</td>\n",
              "      <td>73.0</td>\n",
              "      <td>73.0</td>\n",
              "      <td>108.0</td>\n",
              "      <td>77.5</td>\n",
              "      <td>700.0</td>\n",
              "      <td>15009.0</td>\n",
              "      <td>221.0</td>\n",
              "      <td>110.0</td>\n",
              "      <td>16227.613449</td>\n",
              "      <td>...</td>\n",
              "      <td>4638.583333</td>\n",
              "      <td>3693.500000</td>\n",
              "      <td>23251.804882</td>\n",
              "      <td>14170.123809</td>\n",
              "      <td>1687.500000</td>\n",
              "      <td>41.5</td>\n",
              "      <td>334.000000</td>\n",
              "      <td>31.0</td>\n",
              "      <td>208.5</td>\n",
              "      <td>2</td>\n",
              "    </tr>\n",
              "    <tr>\n",
              "      <th>2</th>\n",
              "      <td>6.0</td>\n",
              "      <td>72.0</td>\n",
              "      <td>72.0</td>\n",
              "      <td>109.0</td>\n",
              "      <td>78.0</td>\n",
              "      <td>701.0</td>\n",
              "      <td>14832.0</td>\n",
              "      <td>221.0</td>\n",
              "      <td>110.0</td>\n",
              "      <td>16225.441665</td>\n",
              "      <td>...</td>\n",
              "      <td>4691.875000</td>\n",
              "      <td>3656.500000</td>\n",
              "      <td>22635.824845</td>\n",
              "      <td>14423.536211</td>\n",
              "      <td>1354.500000</td>\n",
              "      <td>57.0</td>\n",
              "      <td>293.166667</td>\n",
              "      <td>39.0</td>\n",
              "      <td>170.5</td>\n",
              "      <td>0</td>\n",
              "    </tr>\n",
              "    <tr>\n",
              "      <th>3</th>\n",
              "      <td>2.0</td>\n",
              "      <td>73.0</td>\n",
              "      <td>73.0</td>\n",
              "      <td>109.0</td>\n",
              "      <td>79.0</td>\n",
              "      <td>701.0</td>\n",
              "      <td>14846.0</td>\n",
              "      <td>221.0</td>\n",
              "      <td>110.0</td>\n",
              "      <td>15969.163140</td>\n",
              "      <td>...</td>\n",
              "      <td>4656.250000</td>\n",
              "      <td>3648.541667</td>\n",
              "      <td>22468.118812</td>\n",
              "      <td>12886.915464</td>\n",
              "      <td>1032.000000</td>\n",
              "      <td>44.0</td>\n",
              "      <td>262.000000</td>\n",
              "      <td>33.0</td>\n",
              "      <td>142.0</td>\n",
              "      <td>1</td>\n",
              "    </tr>\n",
              "    <tr>\n",
              "      <th>4</th>\n",
              "      <td>4.0</td>\n",
              "      <td>72.0</td>\n",
              "      <td>72.0</td>\n",
              "      <td>109.0</td>\n",
              "      <td>79.0</td>\n",
              "      <td>702.0</td>\n",
              "      <td>14944.5</td>\n",
              "      <td>221.0</td>\n",
              "      <td>111.0</td>\n",
              "      <td>15577.268577</td>\n",
              "      <td>...</td>\n",
              "      <td>4595.142857</td>\n",
              "      <td>3599.250000</td>\n",
              "      <td>22547.717038</td>\n",
              "      <td>14246.689616</td>\n",
              "      <td>1336.102642</td>\n",
              "      <td>69.0</td>\n",
              "      <td>317.500000</td>\n",
              "      <td>46.0</td>\n",
              "      <td>184.0</td>\n",
              "      <td>2</td>\n",
              "    </tr>\n",
              "    <tr>\n",
              "      <th>...</th>\n",
              "      <td>...</td>\n",
              "      <td>...</td>\n",
              "      <td>...</td>\n",
              "      <td>...</td>\n",
              "      <td>...</td>\n",
              "      <td>...</td>\n",
              "      <td>...</td>\n",
              "      <td>...</td>\n",
              "      <td>...</td>\n",
              "      <td>...</td>\n",
              "      <td>...</td>\n",
              "      <td>...</td>\n",
              "      <td>...</td>\n",
              "      <td>...</td>\n",
              "      <td>...</td>\n",
              "      <td>...</td>\n",
              "      <td>...</td>\n",
              "      <td>...</td>\n",
              "      <td>...</td>\n",
              "      <td>...</td>\n",
              "      <td>...</td>\n",
              "    </tr>\n",
              "    <tr>\n",
              "      <th>4583</th>\n",
              "      <td>1.0</td>\n",
              "      <td>55.0</td>\n",
              "      <td>55.0</td>\n",
              "      <td>115.0</td>\n",
              "      <td>119.0</td>\n",
              "      <td>573.0</td>\n",
              "      <td>13639.5</td>\n",
              "      <td>210.0</td>\n",
              "      <td>120.0</td>\n",
              "      <td>13201.465095</td>\n",
              "      <td>...</td>\n",
              "      <td>6093.250000</td>\n",
              "      <td>3725.666667</td>\n",
              "      <td>17121.741984</td>\n",
              "      <td>8567.513688</td>\n",
              "      <td>495.000000</td>\n",
              "      <td>12.5</td>\n",
              "      <td>130.500000</td>\n",
              "      <td>6.0</td>\n",
              "      <td>57.0</td>\n",
              "      <td>7</td>\n",
              "    </tr>\n",
              "    <tr>\n",
              "      <th>4584</th>\n",
              "      <td>1.0</td>\n",
              "      <td>55.0</td>\n",
              "      <td>55.0</td>\n",
              "      <td>116.0</td>\n",
              "      <td>119.0</td>\n",
              "      <td>574.0</td>\n",
              "      <td>13661.5</td>\n",
              "      <td>209.0</td>\n",
              "      <td>121.0</td>\n",
              "      <td>15632.825340</td>\n",
              "      <td>...</td>\n",
              "      <td>6104.000000</td>\n",
              "      <td>3539.285714</td>\n",
              "      <td>17349.935914</td>\n",
              "      <td>9699.876964</td>\n",
              "      <td>691.000000</td>\n",
              "      <td>26.0</td>\n",
              "      <td>211.500000</td>\n",
              "      <td>11.0</td>\n",
              "      <td>93.0</td>\n",
              "      <td>7</td>\n",
              "    </tr>\n",
              "    <tr>\n",
              "      <th>4585</th>\n",
              "      <td>1.0</td>\n",
              "      <td>52.5</td>\n",
              "      <td>53.0</td>\n",
              "      <td>116.0</td>\n",
              "      <td>118.5</td>\n",
              "      <td>577.0</td>\n",
              "      <td>13615.0</td>\n",
              "      <td>209.0</td>\n",
              "      <td>121.0</td>\n",
              "      <td>14191.578955</td>\n",
              "      <td>...</td>\n",
              "      <td>6220.250000</td>\n",
              "      <td>3822.166667</td>\n",
              "      <td>17169.377438</td>\n",
              "      <td>9159.969833</td>\n",
              "      <td>427.500000</td>\n",
              "      <td>14.5</td>\n",
              "      <td>123.000000</td>\n",
              "      <td>8.0</td>\n",
              "      <td>51.0</td>\n",
              "      <td>7</td>\n",
              "    </tr>\n",
              "    <tr>\n",
              "      <th>4586</th>\n",
              "      <td>1.0</td>\n",
              "      <td>52.0</td>\n",
              "      <td>52.0</td>\n",
              "      <td>117.0</td>\n",
              "      <td>120.0</td>\n",
              "      <td>579.0</td>\n",
              "      <td>13609.5</td>\n",
              "      <td>210.0</td>\n",
              "      <td>121.0</td>\n",
              "      <td>13294.281481</td>\n",
              "      <td>...</td>\n",
              "      <td>6158.250000</td>\n",
              "      <td>3236.000000</td>\n",
              "      <td>17305.457150</td>\n",
              "      <td>8760.299543</td>\n",
              "      <td>430.000000</td>\n",
              "      <td>17.0</td>\n",
              "      <td>139.500000</td>\n",
              "      <td>8.0</td>\n",
              "      <td>60.0</td>\n",
              "      <td>7</td>\n",
              "    </tr>\n",
              "    <tr>\n",
              "      <th>4587</th>\n",
              "      <td>1.0</td>\n",
              "      <td>52.0</td>\n",
              "      <td>52.0</td>\n",
              "      <td>117.0</td>\n",
              "      <td>120.0</td>\n",
              "      <td>581.0</td>\n",
              "      <td>13669.0</td>\n",
              "      <td>209.0</td>\n",
              "      <td>121.0</td>\n",
              "      <td>13645.831507</td>\n",
              "      <td>...</td>\n",
              "      <td>6139.000000</td>\n",
              "      <td>3020.200000</td>\n",
              "      <td>16701.841438</td>\n",
              "      <td>8653.484344</td>\n",
              "      <td>513.500000</td>\n",
              "      <td>16.0</td>\n",
              "      <td>148.000000</td>\n",
              "      <td>9.5</td>\n",
              "      <td>68.0</td>\n",
              "      <td>7</td>\n",
              "    </tr>\n",
              "  </tbody>\n",
              "</table>\n",
              "<p>4588 rows × 29 columns</p>\n",
              "</div>\n",
              "      <button class=\"colab-df-convert\" onclick=\"convertToInteractive('df-3b0d22a0-6cfa-498f-bbcb-4781d7719f60')\"\n",
              "              title=\"Convert this dataframe to an interactive table.\"\n",
              "              style=\"display:none;\">\n",
              "        \n",
              "  <svg xmlns=\"http://www.w3.org/2000/svg\" height=\"24px\"viewBox=\"0 0 24 24\"\n",
              "       width=\"24px\">\n",
              "    <path d=\"M0 0h24v24H0V0z\" fill=\"none\"/>\n",
              "    <path d=\"M18.56 5.44l.94 2.06.94-2.06 2.06-.94-2.06-.94-.94-2.06-.94 2.06-2.06.94zm-11 1L8.5 8.5l.94-2.06 2.06-.94-2.06-.94L8.5 2.5l-.94 2.06-2.06.94zm10 10l.94 2.06.94-2.06 2.06-.94-2.06-.94-.94-2.06-.94 2.06-2.06.94z\"/><path d=\"M17.41 7.96l-1.37-1.37c-.4-.4-.92-.59-1.43-.59-.52 0-1.04.2-1.43.59L10.3 9.45l-7.72 7.72c-.78.78-.78 2.05 0 2.83L4 21.41c.39.39.9.59 1.41.59.51 0 1.02-.2 1.41-.59l7.78-7.78 2.81-2.81c.8-.78.8-2.07 0-2.86zM5.41 20L4 18.59l7.72-7.72 1.47 1.35L5.41 20z\"/>\n",
              "  </svg>\n",
              "      </button>\n",
              "      \n",
              "  <style>\n",
              "    .colab-df-container {\n",
              "      display:flex;\n",
              "      flex-wrap:wrap;\n",
              "      gap: 12px;\n",
              "    }\n",
              "\n",
              "    .colab-df-convert {\n",
              "      background-color: #E8F0FE;\n",
              "      border: none;\n",
              "      border-radius: 50%;\n",
              "      cursor: pointer;\n",
              "      display: none;\n",
              "      fill: #1967D2;\n",
              "      height: 32px;\n",
              "      padding: 0 0 0 0;\n",
              "      width: 32px;\n",
              "    }\n",
              "\n",
              "    .colab-df-convert:hover {\n",
              "      background-color: #E2EBFA;\n",
              "      box-shadow: 0px 1px 2px rgba(60, 64, 67, 0.3), 0px 1px 3px 1px rgba(60, 64, 67, 0.15);\n",
              "      fill: #174EA6;\n",
              "    }\n",
              "\n",
              "    [theme=dark] .colab-df-convert {\n",
              "      background-color: #3B4455;\n",
              "      fill: #D2E3FC;\n",
              "    }\n",
              "\n",
              "    [theme=dark] .colab-df-convert:hover {\n",
              "      background-color: #434B5C;\n",
              "      box-shadow: 0px 1px 3px 1px rgba(0, 0, 0, 0.15);\n",
              "      filter: drop-shadow(0px 1px 2px rgba(0, 0, 0, 0.3));\n",
              "      fill: #FFFFFF;\n",
              "    }\n",
              "  </style>\n",
              "\n",
              "      <script>\n",
              "        const buttonEl =\n",
              "          document.querySelector('#df-3b0d22a0-6cfa-498f-bbcb-4781d7719f60 button.colab-df-convert');\n",
              "        buttonEl.style.display =\n",
              "          google.colab.kernel.accessAllowed ? 'block' : 'none';\n",
              "\n",
              "        async function convertToInteractive(key) {\n",
              "          const element = document.querySelector('#df-3b0d22a0-6cfa-498f-bbcb-4781d7719f60');\n",
              "          const dataTable =\n",
              "            await google.colab.kernel.invokeFunction('convertToInteractive',\n",
              "                                                     [key], {});\n",
              "          if (!dataTable) return;\n",
              "\n",
              "          const docLinkHtml = 'Like what you see? Visit the ' +\n",
              "            '<a target=\"_blank\" href=https://colab.research.google.com/notebooks/data_table.ipynb>data table notebook</a>'\n",
              "            + ' to learn more about interactive tables.';\n",
              "          element.innerHTML = '';\n",
              "          dataTable['output_type'] = 'display_data';\n",
              "          await google.colab.output.renderOutput(dataTable, element);\n",
              "          const docLink = document.createElement('div');\n",
              "          docLink.innerHTML = docLinkHtml;\n",
              "          element.appendChild(docLink);\n",
              "        }\n",
              "      </script>\n",
              "    </div>\n",
              "  </div>\n",
              "  "
            ]
          },
          "metadata": {},
          "execution_count": 103
        }
      ]
    },
    {
      "cell_type": "markdown",
      "source": [
        "### Распределение классов"
      ],
      "metadata": {
        "id": "2FsczMgR1AXi"
      }
    },
    {
      "cell_type": "code",
      "source": [
        "set(df['Fe'])"
      ],
      "metadata": {
        "colab": {
          "base_uri": "https://localhost:8080/"
        },
        "id": "vtXdKqLNtJty",
        "outputId": "6e9a7cb8-a79d-4048-e021-0db76828a351"
      },
      "execution_count": null,
      "outputs": [
        {
          "output_type": "execute_result",
          "data": {
            "text/plain": [
              "{0, 1, 2, 3, 4, 5, 6, 7}"
            ]
          },
          "metadata": {},
          "execution_count": 66
        }
      ]
    },
    {
      "cell_type": "code",
      "source": [
        "from collections import Counter"
      ],
      "metadata": {
        "id": "jt9NWmHm0P1u"
      },
      "execution_count": null,
      "outputs": []
    },
    {
      "cell_type": "code",
      "source": [
        "x = df[df.columns[:-1]].values\n",
        "y = df[df.columns[-1]].values"
      ],
      "metadata": {
        "id": "F08FXBKayoXU"
      },
      "execution_count": null,
      "outputs": []
    },
    {
      "cell_type": "code",
      "source": [
        "unique, counts = np.unique(y, return_counts=True)\n",
        "data = dict(zip(unique, counts))"
      ],
      "metadata": {
        "id": "xq4UhahbyKKu"
      },
      "execution_count": null,
      "outputs": []
    },
    {
      "cell_type": "code",
      "source": [
        "fig, ax = plt.subplots(figsize=(10,8))\n",
        "ind = np.arange(len(data))\n",
        "palette = sns.color_palette(\"husl\", len(data))\n",
        "\n",
        "plt.bar(ind, list(data.values()), color=palette)\n",
        "plt.xticks(ind, list(data.keys()))\n",
        "ax.set(xlabel='class', ylabel='count')\n",
        "plt.show()"
      ],
      "metadata": {
        "colab": {
          "base_uri": "https://localhost:8080/",
          "height": 497
        },
        "id": "qhxoO6UKwQSF",
        "outputId": "02f05170-3ad7-4177-868a-0a21780e5dc7"
      },
      "execution_count": null,
      "outputs": [
        {
          "output_type": "display_data",
          "data": {
            "text/plain": [
              "<Figure size 720x576 with 1 Axes>"
            ],
            "image/png": "[encoded data removed]"
          },
          "metadata": {}
        }
      ]
    },
    {
      "cell_type": "markdown",
      "source": [
        "### Разделение на выборки"
      ],
      "metadata": {
        "id": "MTO8eSoE1kkO"
      }
    },
    {
      "cell_type": "code",
      "source": [
        "from sklearn.model_selection import train_test_split\n",
        "X_train, X_test, y_train, y_test = train_test_split(x, y, test_size=0.25, random_state=SEED)"
      ],
      "metadata": {
        "id": "urh0-wSW0PTv"
      },
      "execution_count": null,
      "outputs": []
    },
    {
      "cell_type": "markdown",
      "source": [
        "### Балансировка выборки SMOTE\n",
        "ВАЖНО проводить балансировку только для обучающей выборки"
      ],
      "metadata": {
        "id": "_K1YDbPV1GuB"
      }
    },
    {
      "cell_type": "code",
      "source": [
        "from imblearn.over_sampling import SMOTE"
      ],
      "metadata": {
        "id": "UMAuE4A20Psn"
      },
      "execution_count": null,
      "outputs": []
    },
    {
      "cell_type": "code",
      "source": [
        "sm = SMOTE(random_state=SEED)\n",
        "X_res, y_res = sm.fit_resample(df.iloc[:,:-1], df.iloc[:,-1:])"
      ],
      "metadata": {
        "id": "NwSA99Gf0PdG"
      },
      "execution_count": null,
      "outputs": []
    },
    {
      "cell_type": "code",
      "source": [
        "sm = SMOTE(random_state=SEED)\n",
        "X_train, y_train = sm.fit_resample(X_train, y_train)"
      ],
      "metadata": {
        "id": "j_BQWf6c-GVL"
      },
      "execution_count": null,
      "outputs": []
    },
    {
      "cell_type": "code",
      "source": [
        "dist = dict(Counter(y_res))"
      ],
      "metadata": {
        "id": "AHsx7ZiC0PZ2"
      },
      "execution_count": null,
      "outputs": []
    },
    {
      "cell_type": "code",
      "source": [
        "fig, ax = plt.subplots(figsize=(10,8))\n",
        "ind = np.arange(len(dist))\n",
        "palette = sns.color_palette(\"husl\", len(dist))\n",
        "\n",
        "plt.bar(ind, list(dist.values()), color=palette)\n",
        "plt.xticks(ind, list(dist.keys()))\n",
        "ax.set(xlabel='class', ylabel='count')\n",
        "plt.show()"
      ],
      "metadata": {
        "colab": {
          "base_uri": "https://localhost:8080/",
          "height": 497
        },
        "id": "6hYcM8aU-rRy",
        "outputId": "0b91afec-e7d5-4fc0-9ddc-034f78793a3a"
      },
      "execution_count": null,
      "outputs": [
        {
          "output_type": "display_data",
          "data": {
            "text/plain": [
              "<Figure size 720x576 with 1 Axes>"
            ],
            "image/png": "[encoded data removed]"
          },
          "metadata": {}
        }
      ]
    },
    {
      "cell_type": "markdown",
      "source": [
        "### Вычисление метрик"
      ],
      "metadata": {
        "id": "TpX8TlO01y2I"
      }
    },
    {
      "cell_type": "code",
      "source": [
        "from sklearn.metrics import classification_report  \n",
        "from sklearn.metrics import confusion_matrix  \n",
        "from sklearn.metrics import accuracy_score\n",
        "\n",
        "from sklearn.metrics import plot_confusion_matrix\n",
        "from sklearn.metrics import ConfusionMatrixDisplay\n",
        "from matplotlib.pyplot import figure\n",
        "\n",
        "\n",
        "def metricsCalc(model):\n",
        "  y_pred = model.predict(X_test)\n",
        "  predictions = [round(value) for value in y_pred]\n",
        "  accuracy = accuracy_score(y_test, predictions)\n",
        "  print(\"Accuracy: %.2f%%\" % (accuracy * 100.0))\n",
        "  print(classification_report(y_test, predictions))\n",
        "  figure(figsize=(10, 8), dpi=80)\n",
        "  sns.heatmap(confusion_matrix(y_test, y_pred), annot=True, fmt='d')\n",
        "  plt.show()"
      ],
      "metadata": {
        "id": "L3Yo_wDP0PO8"
      },
      "execution_count": null,
      "outputs": []
    },
    {
      "cell_type": "code",
      "source": [
        "def metricsCalc(model,X_test,y_test):\n",
        "  y_pred = model.predict(X_test)\n",
        "  predictions = [round(value) for value in y_pred]\n",
        "  accuracy = accuracy_score(y_test, predictions)\n",
        "  print(\"Accuracy: %.2f%%\" % (accuracy * 100.0))\n",
        "  print(classification_report(y_test, predictions))\n",
        "  figure(figsize=(10, 8), dpi=80)\n",
        "  sns.heatmap(confusion_matrix(y_test, y_pred), annot=True, fmt='d')\n",
        "  plt.show()"
      ],
      "metadata": {
        "id": "O0LZUYQHOKZO"
      },
      "execution_count": null,
      "outputs": []
    },
    {
      "cell_type": "code",
      "source": [
        "from sklearn.ensemble import GradientBoostingClassifier\n",
        "\n",
        "# лучшая подоранная модель\n",
        "gb_clf2 = GradientBoostingClassifier(n_estimators=300, learning_rate=0.075, max_features=3, max_depth=12, random_state=0)"
      ],
      "metadata": {
        "id": "JZk6dmht0PKj"
      },
      "execution_count": null,
      "outputs": []
    },
    {
      "cell_type": "code",
      "source": [
        "gb_clf2.fit(X_train, y_train)"
      ],
      "metadata": {
        "colab": {
          "base_uri": "https://localhost:8080/"
        },
        "id": "UiO2wqAM2CSM",
        "outputId": "b7d73b12-3f6f-4295-c396-00e2e02210bd"
      },
      "execution_count": null,
      "outputs": [
        {
          "output_type": "stream",
          "name": "stderr",
          "text": [
            "/usr/local/lib/python3.7/dist-packages/sklearn/ensemble/_gb.py:494: DataConversionWarning:\n",
            "\n",
            "A column-vector y was passed when a 1d array was expected. Please change the shape of y to (n_samples, ), for example using ravel().\n",
            "\n"
          ]
        },
        {
          "output_type": "execute_result",
          "data": {
            "text/plain": [
              "GradientBoostingClassifier(learning_rate=0.075, max_depth=12, max_features=3,\n",
              "                           n_estimators=300, random_state=0)"
            ]
          },
          "metadata": {},
          "execution_count": 107
        }
      ]
    },
    {
      "cell_type": "code",
      "source": [
        "metricsCalc(gb_clf2)"
      ],
      "metadata": {
        "colab": {
          "base_uri": "https://localhost:8080/",
          "height": 811
        },
        "id": "80IT8M9i2CL2",
        "outputId": "513cca25-dc19-460e-fd5b-6631fa4be578"
      },
      "execution_count": null,
      "outputs": [
        {
          "output_type": "stream",
          "name": "stdout",
          "text": [
            "Accuracy: 81.09%\n",
            "              precision    recall  f1-score   support\n",
            "\n",
            "           0       0.70      0.67      0.68       404\n",
            "           1       0.62      0.66      0.64       389\n",
            "           2       0.69      0.70      0.70       409\n",
            "           3       0.85      0.90      0.87       348\n",
            "           4       0.91      0.93      0.92       380\n",
            "           5       0.95      0.87      0.91       413\n",
            "           6       0.94      0.96      0.95       387\n",
            "           7       0.83      0.83      0.83       400\n",
            "\n",
            "    accuracy                           0.81      3130\n",
            "   macro avg       0.81      0.81      0.81      3130\n",
            "weighted avg       0.81      0.81      0.81      3130\n",
            "\n"
          ]
        },
        {
          "output_type": "display_data",
          "data": {
            "text/plain": [
              "<Figure size 800x640 with 2 Axes>"
            ],
            "image/png": "[encoded data removed]"
          },
          "metadata": {}
        }
      ]
    },
    {
      "cell_type": "code",
      "source": [
        "from scipy.stats import uniform as sp_randFloat\n",
        "from scipy.stats import randint as sp_randInt\n",
        "from sklearn.model_selection import RandomizedSearchCV"
      ],
      "metadata": {
        "id": "XHuL2b4bBfMo"
      },
      "execution_count": null,
      "outputs": []
    },
    {
      "cell_type": "code",
      "source": [
        "parameters = {\"learning_rate\": [0.01,0.05,0.075],\n",
        "              \"max_depth\"    : range(5,15),\n",
        "              \"n_estimators\" : [100,200,300,400],\n",
        "              \"max_features\" : range(2,10)\n",
        "              }\n",
        "\n",
        "model = GradientBoostingClassifier()\n",
        "randm = RandomizedSearchCV(estimator=model, param_distributions = parameters, cv = 5, n_iter = 10)\n",
        "randm.fit(X_train, y_train)"
      ],
      "metadata": {
        "id": "ABtZlLAu2Jo5"
      },
      "execution_count": null,
      "outputs": []
    },
    {
      "cell_type": "code",
      "source": [
        "randm = RandomizedSearchCV(estimator=model, param_distributions = parameters,\n",
        "                               cv = 5, n_iter = 10, n_jobs=-1)\n",
        "randm.fit(X_train, y_train)"
      ],
      "metadata": {
        "id": "kKz-7NAaA6p0"
      },
      "execution_count": null,
      "outputs": []
    },
    {
      "cell_type": "code",
      "source": [
        "gb_clf2"
      ],
      "metadata": {
        "colab": {
          "base_uri": "https://localhost:8080/"
        },
        "id": "8ezRLUyPDlMn",
        "outputId": "156f8bf2-ed7c-4864-fab7-1c18180ffb09"
      },
      "execution_count": null,
      "outputs": [
        {
          "output_type": "execute_result",
          "data": {
            "text/plain": [
              "GradientBoostingClassifier(learning_rate=0.075, max_depth=12, max_features=3,\n",
              "                           n_estimators=300, random_state=0)"
            ]
          },
          "metadata": {},
          "execution_count": 132
        }
      ]
    },
    {
      "cell_type": "markdown",
      "source": [
        "### NN classifier"
      ],
      "metadata": {
        "id": "0NAB3bE8VTOj"
      }
    },
    {
      "cell_type": "code",
      "source": [
        "from keras.wrappers.scikit_learn import KerasClassifier\n",
        "from keras.models import Sequential\n",
        "from keras.layers import Dense\n",
        "from keras.layers import Dropout\n",
        "from keras.utils.np_utils import to_categorical\n",
        "import keras.backend as K"
      ],
      "metadata": {
        "id": "uh0AMDDTL6LB"
      },
      "execution_count": null,
      "outputs": []
    },
    {
      "cell_type": "code",
      "source": [
        "from sklearn.model_selection import train_test_split\n",
        "X_train, X_test, y_train, y_test = train_test_split(X_res, y_res, test_size=0.25)"
      ],
      "metadata": {
        "id": "PTLG-bISVYbz"
      },
      "execution_count": null,
      "outputs": []
    },
    {
      "cell_type": "code",
      "source": [
        "from sklearn.preprocessing import StandardScaler\n",
        "scaler = StandardScaler()"
      ],
      "metadata": {
        "id": "5cWZfxSvX22I"
      },
      "execution_count": null,
      "outputs": []
    },
    {
      "cell_type": "code",
      "source": [
        "# y_test = to_categorical(y_test)\n",
        "\n",
        "scaler.fit(X_train)\n",
        "X_train = scaler.transform(X_train)\n",
        "\n",
        "scaler.fit(X_test)\n",
        "X_test = scaler.transform(X_test)"
      ],
      "metadata": {
        "id": "EX2KFlLVViio"
      },
      "execution_count": null,
      "outputs": []
    },
    {
      "cell_type": "code",
      "source": [
        "y_train = pd.get_dummies(y_train)\n",
        "y_test = pd.get_dummies(y_test)"
      ],
      "metadata": {
        "id": "GXh9bPoHVkjT"
      },
      "execution_count": null,
      "outputs": []
    },
    {
      "cell_type": "code",
      "source": [
        "y_test"
      ],
      "metadata": {
        "colab": {
          "base_uri": "https://localhost:8080/",
          "height": 424
        },
        "id": "zU-B0_InVxnp",
        "outputId": "a7505aa3-586b-4229-9b0f-3a813d8623a5"
      },
      "execution_count": null,
      "outputs": [
        {
          "output_type": "execute_result",
          "data": {
            "text/plain": [
              "      0  1  2  3  4  5  6  7\n",
              "0     0  1  0  0  0  0  0  0\n",
              "1     0  0  0  1  0  0  0  0\n",
              "2     0  0  0  0  0  1  0  0\n",
              "3     0  0  0  0  1  0  0  0\n",
              "4     0  0  0  0  0  1  0  0\n",
              "...  .. .. .. .. .. .. .. ..\n",
              "2345  0  0  0  0  0  1  0  0\n",
              "2346  1  0  0  0  0  0  0  0\n",
              "2347  0  0  0  1  0  0  0  0\n",
              "2348  0  0  0  0  1  0  0  0\n",
              "2349  0  1  0  0  0  0  0  0\n",
              "\n",
              "[2350 rows x 8 columns]"
            ],
            "text/html": [
              "\n",
              "  <div id=\"df-196d0325-2d22-422e-a0bf-f3404a38f590\">\n",
              "    <div class=\"colab-df-container\">\n",
              "      <div>\n",
              "<style scoped>\n",
              "    .dataframe tbody tr th:only-of-type {\n",
              "        vertical-align: middle;\n",
              "    }\n",
              "\n",
              "    .dataframe tbody tr th {\n",
              "        vertical-align: top;\n",
              "    }\n",
              "\n",
              "    .dataframe thead th {\n",
              "        text-align: right;\n",
              "    }\n",
              "</style>\n",
              "<table border=\"1\" class=\"dataframe\">\n",
              "  <thead>\n",
              "    <tr style=\"text-align: right;\">\n",
              "      <th></th>\n",
              "      <th>0</th>\n",
              "      <th>1</th>\n",
              "      <th>2</th>\n",
              "      <th>3</th>\n",
              "      <th>4</th>\n",
              "      <th>5</th>\n",
              "      <th>6</th>\n",
              "      <th>7</th>\n",
              "    </tr>\n",
              "  </thead>\n",
              "  <tbody>\n",
              "    <tr>\n",
              "      <th>0</th>\n",
              "      <td>0</td>\n",
              "      <td>1</td>\n",
              "      <td>0</td>\n",
              "      <td>0</td>\n",
              "      <td>0</td>\n",
              "      <td>0</td>\n",
              "      <td>0</td>\n",
              "      <td>0</td>\n",
              "    </tr>\n",
              "    <tr>\n",
              "      <th>1</th>\n",
              "      <td>0</td>\n",
              "      <td>0</td>\n",
              "      <td>0</td>\n",
              "      <td>1</td>\n",
              "      <td>0</td>\n",
              "      <td>0</td>\n",
              "      <td>0</td>\n",
              "      <td>0</td>\n",
              "    </tr>\n",
              "    <tr>\n",
              "      <th>2</th>\n",
              "      <td>0</td>\n",
              "      <td>0</td>\n",
              "      <td>0</td>\n",
              "      <td>0</td>\n",
              "      <td>0</td>\n",
              "      <td>1</td>\n",
              "      <td>0</td>\n",
              "      <td>0</td>\n",
              "    </tr>\n",
              "    <tr>\n",
              "      <th>3</th>\n",
              "      <td>0</td>\n",
              "      <td>0</td>\n",
              "      <td>0</td>\n",
              "      <td>0</td>\n",
              "      <td>1</td>\n",
              "      <td>0</td>\n",
              "      <td>0</td>\n",
              "      <td>0</td>\n",
              "    </tr>\n",
              "    <tr>\n",
              "      <th>4</th>\n",
              "      <td>0</td>\n",
              "      <td>0</td>\n",
              "      <td>0</td>\n",
              "      <td>0</td>\n",
              "      <td>0</td>\n",
              "      <td>1</td>\n",
              "      <td>0</td>\n",
              "      <td>0</td>\n",
              "    </tr>\n",
              "    <tr>\n",
              "      <th>...</th>\n",
              "      <td>...</td>\n",
              "      <td>...</td>\n",
              "      <td>...</td>\n",
              "      <td>...</td>\n",
              "      <td>...</td>\n",
              "      <td>...</td>\n",
              "      <td>...</td>\n",
              "      <td>...</td>\n",
              "    </tr>\n",
              "    <tr>\n",
              "      <th>2345</th>\n",
              "      <td>0</td>\n",
              "      <td>0</td>\n",
              "      <td>0</td>\n",
              "      <td>0</td>\n",
              "      <td>0</td>\n",
              "      <td>1</td>\n",
              "      <td>0</td>\n",
              "      <td>0</td>\n",
              "    </tr>\n",
              "    <tr>\n",
              "      <th>2346</th>\n",
              "      <td>1</td>\n",
              "      <td>0</td>\n",
              "      <td>0</td>\n",
              "      <td>0</td>\n",
              "      <td>0</td>\n",
              "      <td>0</td>\n",
              "      <td>0</td>\n",
              "      <td>0</td>\n",
              "    </tr>\n",
              "    <tr>\n",
              "      <th>2347</th>\n",
              "      <td>0</td>\n",
              "      <td>0</td>\n",
              "      <td>0</td>\n",
              "      <td>1</td>\n",
              "      <td>0</td>\n",
              "      <td>0</td>\n",
              "      <td>0</td>\n",
              "      <td>0</td>\n",
              "    </tr>\n",
              "    <tr>\n",
              "      <th>2348</th>\n",
              "      <td>0</td>\n",
              "      <td>0</td>\n",
              "      <td>0</td>\n",
              "      <td>0</td>\n",
              "      <td>1</td>\n",
              "      <td>0</td>\n",
              "      <td>0</td>\n",
              "      <td>0</td>\n",
              "    </tr>\n",
              "    <tr>\n",
              "      <th>2349</th>\n",
              "      <td>0</td>\n",
              "      <td>1</td>\n",
              "      <td>0</td>\n",
              "      <td>0</td>\n",
              "      <td>0</td>\n",
              "      <td>0</td>\n",
              "      <td>0</td>\n",
              "      <td>0</td>\n",
              "    </tr>\n",
              "  </tbody>\n",
              "</table>\n",
              "<p>2350 rows × 8 columns</p>\n",
              "</div>\n",
              "      <button class=\"colab-df-convert\" onclick=\"convertToInteractive('df-196d0325-2d22-422e-a0bf-f3404a38f590')\"\n",
              "              title=\"Convert this dataframe to an interactive table.\"\n",
              "              style=\"display:none;\">\n",
              "        \n",
              "  <svg xmlns=\"http://www.w3.org/2000/svg\" height=\"24px\"viewBox=\"0 0 24 24\"\n",
              "       width=\"24px\">\n",
              "    <path d=\"M0 0h24v24H0V0z\" fill=\"none\"/>\n",
              "    <path d=\"M18.56 5.44l.94 2.06.94-2.06 2.06-.94-2.06-.94-.94-2.06-.94 2.06-2.06.94zm-11 1L8.5 8.5l.94-2.06 2.06-.94-2.06-.94L8.5 2.5l-.94 2.06-2.06.94zm10 10l.94 2.06.94-2.06 2.06-.94-2.06-.94-.94-2.06-.94 2.06-2.06.94z\"/><path d=\"M17.41 7.96l-1.37-1.37c-.4-.4-.92-.59-1.43-.59-.52 0-1.04.2-1.43.59L10.3 9.45l-7.72 7.72c-.78.78-.78 2.05 0 2.83L4 21.41c.39.39.9.59 1.41.59.51 0 1.02-.2 1.41-.59l7.78-7.78 2.81-2.81c.8-.78.8-2.07 0-2.86zM5.41 20L4 18.59l7.72-7.72 1.47 1.35L5.41 20z\"/>\n",
              "  </svg>\n",
              "      </button>\n",
              "      \n",
              "  <style>\n",
              "    .colab-df-container {\n",
              "      display:flex;\n",
              "      flex-wrap:wrap;\n",
              "      gap: 12px;\n",
              "    }\n",
              "\n",
              "    .colab-df-convert {\n",
              "      background-color: #E8F0FE;\n",
              "      border: none;\n",
              "      border-radius: 50%;\n",
              "      cursor: pointer;\n",
              "      display: none;\n",
              "      fill: #1967D2;\n",
              "      height: 32px;\n",
              "      padding: 0 0 0 0;\n",
              "      width: 32px;\n",
              "    }\n",
              "\n",
              "    .colab-df-convert:hover {\n",
              "      background-color: #E2EBFA;\n",
              "      box-shadow: 0px 1px 2px rgba(60, 64, 67, 0.3), 0px 1px 3px 1px rgba(60, 64, 67, 0.15);\n",
              "      fill: #174EA6;\n",
              "    }\n",
              "\n",
              "    [theme=dark] .colab-df-convert {\n",
              "      background-color: #3B4455;\n",
              "      fill: #D2E3FC;\n",
              "    }\n",
              "\n",
              "    [theme=dark] .colab-df-convert:hover {\n",
              "      background-color: #434B5C;\n",
              "      box-shadow: 0px 1px 3px 1px rgba(0, 0, 0, 0.15);\n",
              "      filter: drop-shadow(0px 1px 2px rgba(0, 0, 0, 0.3));\n",
              "      fill: #FFFFFF;\n",
              "    }\n",
              "  </style>\n",
              "\n",
              "      <script>\n",
              "        const buttonEl =\n",
              "          document.querySelector('#df-196d0325-2d22-422e-a0bf-f3404a38f590 button.colab-df-convert');\n",
              "        buttonEl.style.display =\n",
              "          google.colab.kernel.accessAllowed ? 'block' : 'none';\n",
              "\n",
              "        async function convertToInteractive(key) {\n",
              "          const element = document.querySelector('#df-196d0325-2d22-422e-a0bf-f3404a38f590');\n",
              "          const dataTable =\n",
              "            await google.colab.kernel.invokeFunction('convertToInteractive',\n",
              "                                                     [key], {});\n",
              "          if (!dataTable) return;\n",
              "\n",
              "          const docLinkHtml = 'Like what you see? Visit the ' +\n",
              "            '<a target=\"_blank\" href=https://colab.research.google.com/notebooks/data_table.ipynb>data table notebook</a>'\n",
              "            + ' to learn more about interactive tables.';\n",
              "          element.innerHTML = '';\n",
              "          dataTable['output_type'] = 'display_data';\n",
              "          await google.colab.output.renderOutput(dataTable, element);\n",
              "          const docLink = document.createElement('div');\n",
              "          docLink.innerHTML = docLinkHtml;\n",
              "          element.appendChild(docLink);\n",
              "        }\n",
              "      </script>\n",
              "    </div>\n",
              "  </div>\n",
              "  "
            ]
          },
          "metadata": {},
          "execution_count": 187
        }
      ]
    },
    {
      "cell_type": "code",
      "source": [
        "X_train.shape[1]"
      ],
      "metadata": {
        "colab": {
          "base_uri": "https://localhost:8080/"
        },
        "id": "ly1_r7WQhTzc",
        "outputId": "98eb19a6-5bb0-48a0-f865-f92524e176d8"
      },
      "execution_count": null,
      "outputs": [
        {
          "output_type": "execute_result",
          "data": {
            "text/plain": [
              "28"
            ]
          },
          "metadata": {},
          "execution_count": 201
        }
      ]
    },
    {
      "cell_type": "code",
      "source": [
        "# create model\n",
        "model = Sequential()\n",
        "model.add(Dense(512, input_dim=X_train.shape[1], activation='relu'))\n",
        "model.add(Dense(256, activation='relu'))\n",
        "model.add(Dense(128, activation='relu'))\n",
        "model.add(Dense(8, activation='softmax'))\n",
        "\n",
        "model.compile(loss='categorical_crossentropy', optimizer='adam', metrics=[\"accuracy\"])"
      ],
      "metadata": {
        "id": "dzgkneAwYLy-"
      },
      "execution_count": null,
      "outputs": []
    },
    {
      "cell_type": "code",
      "source": [
        "from tensorflow.keras.utils import plot_model\n",
        "plot_model(model, to_file='model.png', show_shapes=True)"
      ],
      "metadata": {
        "colab": {
          "base_uri": "https://localhost:8080/",
          "height": 533
        },
        "id": "skW95rGMi5fc",
        "outputId": "0acf283e-d38d-42d8-b9d7-94eaae96edc5"
      },
      "execution_count": null,
      "outputs": [
        {
          "output_type": "execute_result",
          "data": {
            "text/plain": [
              "<IPython.core.display.Image object>"
            ],
            "image/png": "[encoded data removed]"
          },
          "metadata": {},
          "execution_count": 202
        }
      ]
    },
    {
      "cell_type": "code",
      "source": [
        "epochs = 200\n",
        "batch_size = 64\n",
        "\n",
        "learning_rate_reduction = ReduceLROnPlateau(monitor='val_loss', patience=8, verbose=1, factor=0.25, min_lr=0.00001)\n",
        "early_stopping = EarlyStopping(monitor='val_loss', patience=9, verbose=1, mode='min')\n",
        "\n",
        "history = model.fit(X_train, y_train, verbose=2, epochs=epochs, batch_size=batch_size , validation_data = (X_test,y_test),\n",
        "                    steps_per_epoch=X_train.shape[0] // batch_size,\n",
        "                    callbacks=[early_stopping, learning_rate_reduction])"
      ],
      "metadata": {
        "colab": {
          "base_uri": "https://localhost:8080/"
        },
        "id": "K-F7J9lIYTYN",
        "outputId": "2d4101b4-1f17-40d7-97a4-6b5f9a1ffd00"
      },
      "execution_count": null,
      "outputs": [
        {
          "output_type": "stream",
          "name": "stdout",
          "text": [
            "Epoch 1/200\n",
            "110/110 - 2s - loss: 1.9263 - accuracy: 0.2388 - val_loss: 1.8510 - val_accuracy: 0.2932 - lr: 0.0010 - 2s/epoch - 14ms/step\n",
            "Epoch 2/200\n",
            "110/110 - 1s - loss: 1.8085 - accuracy: 0.3053 - val_loss: 1.7607 - val_accuracy: 0.3285 - lr: 0.0010 - 773ms/epoch - 7ms/step\n",
            "Epoch 3/200\n",
            "110/110 - 1s - loss: 1.7336 - accuracy: 0.3498 - val_loss: 1.7108 - val_accuracy: 0.3711 - lr: 0.0010 - 946ms/epoch - 9ms/step\n",
            "Epoch 4/200\n",
            "110/110 - 1s - loss: 1.6326 - accuracy: 0.3922 - val_loss: 1.6439 - val_accuracy: 0.3911 - lr: 0.0010 - 1s/epoch - 11ms/step\n",
            "Epoch 5/200\n",
            "110/110 - 1s - loss: 1.5490 - accuracy: 0.4313 - val_loss: 1.5357 - val_accuracy: 0.4481 - lr: 0.0010 - 1s/epoch - 10ms/step\n",
            "Epoch 6/200\n",
            "110/110 - 1s - loss: 1.4499 - accuracy: 0.4699 - val_loss: 1.4705 - val_accuracy: 0.4651 - lr: 0.0010 - 1s/epoch - 11ms/step\n",
            "Epoch 7/200\n",
            "110/110 - 1s - loss: 1.3506 - accuracy: 0.5109 - val_loss: 1.3845 - val_accuracy: 0.5034 - lr: 0.0010 - 1s/epoch - 11ms/step\n",
            "Epoch 8/200\n",
            "110/110 - 1s - loss: 1.2475 - accuracy: 0.5583 - val_loss: 1.3608 - val_accuracy: 0.5098 - lr: 0.0010 - 1s/epoch - 12ms/step\n",
            "Epoch 9/200\n",
            "110/110 - 1s - loss: 1.1643 - accuracy: 0.5843 - val_loss: 1.2630 - val_accuracy: 0.5574 - lr: 0.0010 - 1s/epoch - 10ms/step\n",
            "Epoch 10/200\n",
            "110/110 - 1s - loss: 1.0778 - accuracy: 0.6293 - val_loss: 1.2146 - val_accuracy: 0.5787 - lr: 0.0010 - 1s/epoch - 9ms/step\n",
            "Epoch 11/200\n",
            "110/110 - 1s - loss: 0.9800 - accuracy: 0.6628 - val_loss: 1.1724 - val_accuracy: 0.5923 - lr: 0.0010 - 883ms/epoch - 8ms/step\n",
            "Epoch 12/200\n",
            "110/110 - 1s - loss: 0.9020 - accuracy: 0.6897 - val_loss: 1.0785 - val_accuracy: 0.6362 - lr: 0.0010 - 823ms/epoch - 7ms/step\n",
            "Epoch 13/200\n",
            "110/110 - 1s - loss: 0.8377 - accuracy: 0.7127 - val_loss: 1.0197 - val_accuracy: 0.6472 - lr: 0.0010 - 780ms/epoch - 7ms/step\n",
            "Epoch 14/200\n",
            "110/110 - 1s - loss: 0.7546 - accuracy: 0.7402 - val_loss: 1.0096 - val_accuracy: 0.6638 - lr: 0.0010 - 824ms/epoch - 7ms/step\n",
            "Epoch 15/200\n",
            "110/110 - 1s - loss: 0.6792 - accuracy: 0.7704 - val_loss: 0.9807 - val_accuracy: 0.6711 - lr: 0.0010 - 857ms/epoch - 8ms/step\n",
            "Epoch 16/200\n",
            "110/110 - 1s - loss: 0.6542 - accuracy: 0.7730 - val_loss: 0.9976 - val_accuracy: 0.6783 - lr: 0.0010 - 839ms/epoch - 8ms/step\n",
            "Epoch 17/200\n",
            "110/110 - 1s - loss: 0.5918 - accuracy: 0.7954 - val_loss: 0.9237 - val_accuracy: 0.7013 - lr: 0.0010 - 715ms/epoch - 7ms/step\n",
            "Epoch 18/200\n",
            "110/110 - 1s - loss: 0.5612 - accuracy: 0.8076 - val_loss: 0.9345 - val_accuracy: 0.6911 - lr: 0.0010 - 747ms/epoch - 7ms/step\n",
            "Epoch 19/200\n",
            "110/110 - 1s - loss: 0.4877 - accuracy: 0.8384 - val_loss: 0.9017 - val_accuracy: 0.7140 - lr: 0.0010 - 708ms/epoch - 6ms/step\n",
            "Epoch 20/200\n",
            "110/110 - 1s - loss: 0.4550 - accuracy: 0.8468 - val_loss: 0.8757 - val_accuracy: 0.7157 - lr: 0.0010 - 736ms/epoch - 7ms/step\n",
            "Epoch 21/200\n",
            "110/110 - 1s - loss: 0.4282 - accuracy: 0.8559 - val_loss: 0.9341 - val_accuracy: 0.7209 - lr: 0.0010 - 809ms/epoch - 7ms/step\n",
            "Epoch 22/200\n",
            "110/110 - 1s - loss: 0.3953 - accuracy: 0.8696 - val_loss: 0.8796 - val_accuracy: 0.7277 - lr: 0.0010 - 816ms/epoch - 7ms/step\n",
            "Epoch 23/200\n",
            "110/110 - 1s - loss: 0.3572 - accuracy: 0.8828 - val_loss: 0.8831 - val_accuracy: 0.7302 - lr: 0.0010 - 809ms/epoch - 7ms/step\n",
            "Epoch 24/200\n",
            "110/110 - 1s - loss: 0.3451 - accuracy: 0.8813 - val_loss: 0.8297 - val_accuracy: 0.7579 - lr: 0.0010 - 804ms/epoch - 7ms/step\n",
            "Epoch 25/200\n",
            "110/110 - 1s - loss: 0.3248 - accuracy: 0.8914 - val_loss: 0.8762 - val_accuracy: 0.7502 - lr: 0.0010 - 812ms/epoch - 7ms/step\n",
            "Epoch 26/200\n",
            "110/110 - 1s - loss: 0.3060 - accuracy: 0.9041 - val_loss: 0.8252 - val_accuracy: 0.7574 - lr: 0.0010 - 831ms/epoch - 8ms/step\n",
            "Epoch 27/200\n",
            "110/110 - 1s - loss: 0.2530 - accuracy: 0.9197 - val_loss: 0.8424 - val_accuracy: 0.7587 - lr: 0.0010 - 723ms/epoch - 7ms/step\n",
            "Epoch 28/200\n",
            "110/110 - 1s - loss: 0.2261 - accuracy: 0.9324 - val_loss: 0.8551 - val_accuracy: 0.7609 - lr: 0.0010 - 800ms/epoch - 7ms/step\n",
            "Epoch 29/200\n",
            "110/110 - 1s - loss: 0.2369 - accuracy: 0.9260 - val_loss: 0.8569 - val_accuracy: 0.7621 - lr: 0.0010 - 799ms/epoch - 7ms/step\n",
            "Epoch 30/200\n",
            "110/110 - 1s - loss: 0.2169 - accuracy: 0.9313 - val_loss: 0.8339 - val_accuracy: 0.7740 - lr: 0.0010 - 700ms/epoch - 6ms/step\n",
            "Epoch 31/200\n",
            "110/110 - 1s - loss: 0.1864 - accuracy: 0.9429 - val_loss: 0.9149 - val_accuracy: 0.7566 - lr: 0.0010 - 800ms/epoch - 7ms/step\n",
            "Epoch 32/200\n",
            "110/110 - 1s - loss: 0.2215 - accuracy: 0.9294 - val_loss: 0.8814 - val_accuracy: 0.7664 - lr: 0.0010 - 773ms/epoch - 7ms/step\n",
            "Epoch 33/200\n",
            "110/110 - 1s - loss: 0.1692 - accuracy: 0.9480 - val_loss: 0.8947 - val_accuracy: 0.7677 - lr: 0.0010 - 809ms/epoch - 7ms/step\n",
            "Epoch 34/200\n",
            "\n",
            "Epoch 34: ReduceLROnPlateau reducing learning rate to 0.0002500000118743628.\n",
            "110/110 - 1s - loss: 0.1417 - accuracy: 0.9615 - val_loss: 0.8540 - val_accuracy: 0.7813 - lr: 0.0010 - 784ms/epoch - 7ms/step\n",
            "Epoch 35/200\n",
            "110/110 - 1s - loss: 0.0839 - accuracy: 0.9837 - val_loss: 0.8139 - val_accuracy: 0.7962 - lr: 2.5000e-04 - 784ms/epoch - 7ms/step\n",
            "Epoch 36/200\n",
            "110/110 - 1s - loss: 0.0679 - accuracy: 0.9901 - val_loss: 0.8162 - val_accuracy: 0.7979 - lr: 2.5000e-04 - 764ms/epoch - 7ms/step\n",
            "Epoch 37/200\n",
            "110/110 - 1s - loss: 0.0594 - accuracy: 0.9921 - val_loss: 0.8127 - val_accuracy: 0.8030 - lr: 2.5000e-04 - 729ms/epoch - 7ms/step\n",
            "Epoch 38/200\n",
            "110/110 - 1s - loss: 0.0575 - accuracy: 0.9930 - val_loss: 0.8178 - val_accuracy: 0.8017 - lr: 2.5000e-04 - 665ms/epoch - 6ms/step\n",
            "Epoch 39/200\n",
            "110/110 - 1s - loss: 0.0582 - accuracy: 0.9923 - val_loss: 0.8220 - val_accuracy: 0.8017 - lr: 2.5000e-04 - 721ms/epoch - 7ms/step\n",
            "Epoch 40/200\n",
            "110/110 - 1s - loss: 0.0503 - accuracy: 0.9953 - val_loss: 0.8301 - val_accuracy: 0.8009 - lr: 2.5000e-04 - 793ms/epoch - 7ms/step\n",
            "Epoch 41/200\n",
            "110/110 - 1s - loss: 0.0512 - accuracy: 0.9946 - val_loss: 0.8381 - val_accuracy: 0.7991 - lr: 2.5000e-04 - 798ms/epoch - 7ms/step\n",
            "Epoch 42/200\n",
            "110/110 - 1s - loss: 0.0490 - accuracy: 0.9943 - val_loss: 0.8456 - val_accuracy: 0.8000 - lr: 2.5000e-04 - 774ms/epoch - 7ms/step\n",
            "Epoch 43/200\n",
            "110/110 - 1s - loss: 0.0440 - accuracy: 0.9960 - val_loss: 0.8417 - val_accuracy: 0.8047 - lr: 2.5000e-04 - 798ms/epoch - 7ms/step\n",
            "Epoch 44/200\n",
            "110/110 - 1s - loss: 0.0453 - accuracy: 0.9961 - val_loss: 0.8415 - val_accuracy: 0.8000 - lr: 2.5000e-04 - 708ms/epoch - 6ms/step\n",
            "Epoch 45/200\n",
            "\n",
            "Epoch 45: ReduceLROnPlateau reducing learning rate to 6.25000029685907e-05.\n",
            "110/110 - 1s - loss: 0.0434 - accuracy: 0.9958 - val_loss: 0.8640 - val_accuracy: 0.8004 - lr: 2.5000e-04 - 763ms/epoch - 7ms/step\n",
            "Epoch 46/200\n",
            "110/110 - 1s - loss: 0.0374 - accuracy: 0.9977 - val_loss: 0.8558 - val_accuracy: 0.8038 - lr: 6.2500e-05 - 759ms/epoch - 7ms/step\n",
            "Epoch 46: early stopping\n"
          ]
        }
      ]
    },
    {
      "cell_type": "code",
      "source": [
        "from tensorflow.keras.preprocessing.image import ImageDataGenerator\n",
        "from tensorflow.keras.callbacks import ReduceLROnPlateau\n",
        "from tensorflow.keras.callbacks import EarlyStopping, ModelCheckpoint"
      ],
      "metadata": {
        "id": "Wp0HuH9IYZBB"
      },
      "execution_count": null,
      "outputs": []
    },
    {
      "cell_type": "code",
      "source": [
        "prob = model.predict(X_test)\n",
        "predictions = [np.unique(np.argmax(y_test, axis=1))[k.argmax(axis=-1)] for k in prob]"
      ],
      "metadata": {
        "id": "3ArRwUS7Yb6m"
      },
      "execution_count": null,
      "outputs": []
    },
    {
      "cell_type": "code",
      "source": [
        "y_test = to_categorical(y_test)"
      ],
      "metadata": {
        "id": "ILGotdxpZSuX"
      },
      "execution_count": null,
      "outputs": []
    },
    {
      "cell_type": "code",
      "source": [
        "import matplotlib.pyplot as plt\n",
        "\n",
        "\n",
        "# Plot training & validation accuracy values\n",
        "plt.plot(history.history['accuracy'])\n",
        "plt.plot(history.history['val_accuracy'])\n",
        "plt.title('Model accuracy')\n",
        "plt.ylabel('Accuracy')\n",
        "plt.xlabel('Epoch')\n",
        "plt.legend(['Train', 'Test'], loc='upper left')\n",
        "plt.show()\n",
        "\n",
        "# Plot training & validation loss values\n",
        "plt.plot(history.history['loss'])\n",
        "plt.plot(history.history['val_loss'])\n",
        "plt.title('Model loss')\n",
        "plt.ylabel('Loss')\n",
        "plt.xlabel('Epoch')\n",
        "plt.legend(['Train', 'Test'], loc='upper left')\n",
        "plt.show()"
      ],
      "metadata": {
        "colab": {
          "base_uri": "https://localhost:8080/",
          "height": 573
        },
        "id": "Uk0hzSVEasyK",
        "outputId": "d4f128f2-d799-480a-8b21-71ffe90655e5"
      },
      "execution_count": null,
      "outputs": [
        {
          "output_type": "display_data",
          "data": {
            "text/plain": [
              "<Figure size 432x288 with 1 Axes>"
            ],
            "image/png": "[encoded data removed]"
          },
          "metadata": {}
        },
        {
          "output_type": "display_data",
          "data": {
            "text/plain": [
              "<Figure size 432x288 with 1 Axes>"
            ],
            "image/png": "[encoded data removed]"
          },
          "metadata": {}
        }
      ]
    },
    {
      "cell_type": "markdown",
      "source": [
        "# Выводы\n",
        "Лучшей моделью градиентного бустинга для прогнозирования тяжелых металлов в задаче классификации проявил себя XGBoostClassifier, точность (accuracy) для 8 классов при прогнозировании железа (Fe) составила 81%. Точность нейросетевой модели MLP архитектуры составила 80%, при этом, получаемые ошибки находятся в соседних классовых диапазонах.\n",
        "\n",
        "Таких показателей будет достаточно, чтобы производить мониторинг, как при помощи нейронных сетей, так и с помощью градиентного бустинга для деревьев решений. Полученную нейросетевую модель можно использовать в более сложных архитектурах, например в сиамских сетях, в качестве модели извлечения признаков.\n",
        "\n",
        "Необходимо протестировать state of the art (SOTA) решения в области metric learning, для задач прогнозирования, а также апробировать архитектуры глубокого обучения для работы с табличными данными."
      ],
      "metadata": {
        "id": "2qaTYclB4D0z"
      }
    }
  ]
}