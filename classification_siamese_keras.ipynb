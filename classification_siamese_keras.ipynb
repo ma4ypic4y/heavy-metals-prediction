{
  "nbformat": 4,
  "nbformat_minor": 0,
  "metadata": {
    "colab": {
      "name": "classification_siamese_keras.ipynb",
      "provenance": []
    },
    "kernelspec": {
      "name": "python3",
      "display_name": "Python 3"
    },
    "language_info": {
      "name": "python"
    }
  },
  "cells": [
    {
      "cell_type": "markdown",
      "source": [
        " # Прогнозирование с использованием сиамских сетей"
      ],
      "metadata": {
        "id": "kb3GQzTJUpf-"
      }
    },
    {
      "cell_type": "code",
      "execution_count": null,
      "metadata": {
        "id": "E7APM72sS3Vp"
      },
      "outputs": [],
      "source": [
        "import numpy as np\n",
        "import pandas as pd\n",
        "import random\n",
        "import matplotlib.pyplot as plt\n",
        "\n",
        "from keras.layers import Input, Lambda, Dense\n",
        "from keras.models import Model, Sequential\n",
        "from keras.regularizers import l2\n",
        "from keras import backend as K\n",
        "from tensorflow.keras.optimizers import Adam\n",
        "from tensorflow.keras.optimizers import SGD\n",
        "from keras.utils import np_utils\n",
        "\n",
        "from sklearn.preprocessing import MinMaxScaler\n",
        "from sklearn.model_selection import train_test_split\n",
        "from imblearn.over_sampling import RandomOverSampler\n",
        "from collections import Counter\n",
        "from sklearn.preprocessing import LabelEncoder\n",
        "from sklearn.metrics import classification_report, confusion_matrix"
      ]
    },
    {
      "cell_type": "markdown",
      "source": [
        "## Загрузка и обработка данных"
      ],
      "metadata": {
        "id": "D51_atOuSR7A"
      }
    },
    {
      "cell_type": "code",
      "source": [
        "uri = open(\".mongodb_token\").read()\n",
        "\n",
        "client = pymongo.MongoClient(uri)\n",
        "db = client['heavymetals']\n",
        "collection = db['heavymetals']"
      ],
      "metadata": {
        "id": "pIyeP2NmR_AH"
      },
      "execution_count": null,
      "outputs": []
    },
    {
      "cell_type": "code",
      "source": [
        "df = pd.DataFrame(list(db.Fe_cor_indexes.find()))\n",
        "df = df.dropna()"
      ],
      "metadata": {
        "id": "wIqASdSiSJUe"
      },
      "execution_count": null,
      "outputs": []
    },
    {
      "cell_type": "code",
      "source": [
        "Al = [200, 400, 800, 1200, 2500, 4000, 8000]\n",
        "Fe = [250, 500, 1000, 1500, 2000, 3000, 4000]\n",
        "V =  [0.5, 1, 2, 4, 6, 8, 10]\n",
        "Ni = [1, 2, 3, 6, 9, 12, 15]\n",
        "Cr = [1, 2, 3, 4, 6, 10, 15]\n",
        "Pb = [1, 2, 4, 8, 12, 16, 20]\n",
        "As = [0.1, 0.2, 0.4, 0.6, 0.9, 1.2, 1.6]"
      ],
      "metadata": {
        "id": "EIHOT8WAsZi1"
      },
      "execution_count": null,
      "outputs": []
    },
    {
      "cell_type": "code",
      "source": [
        "def classDef(x,metClassRange):\n",
        "  for i in range(len(metClassRange)):\n",
        "    if (x < metClassRange[i]):\n",
        "      return i\n",
        "    elif (x >= metClassRange[len(metClassRange)-1]):\n",
        "      return len(metClassRange)"
      ],
      "metadata": {
        "id": "YBnZOHEAtriC"
      },
      "execution_count": null,
      "outputs": []
    },
    {
      "cell_type": "code",
      "source": [
        "df = df.dropna()\n",
        "df['Fe']=df['Fe'].dropna().map(lambda x: classDef(x,Fe))"
      ],
      "metadata": {
        "id": "nEOm-RNxttRC"
      },
      "execution_count": null,
      "outputs": []
    },
    {
      "cell_type": "code",
      "source": [
        "x = df[df.columns[:-3]].values\n",
        "y = df[df.columns[-3]].values\n",
        "\n",
        "dim_x = x.shape[1]\n",
        "dim_y = len(set(y))"
      ],
      "metadata": {
        "id": "foTKDONuurGb"
      },
      "execution_count": null,
      "outputs": []
    },
    {
      "cell_type": "code",
      "source": [
        "# нормирование данных \n",
        "from sklearn.preprocessing import StandardScaler\n",
        "scaler = StandardScaler()\n",
        "scaler.fit(x)\n",
        "x = scaler.transform(x)"
      ],
      "metadata": {
        "id": "FcuRkwCuWcBY"
      },
      "execution_count": null,
      "outputs": []
    },
    {
      "cell_type": "code",
      "source": [
        "# разделение на выборки\n",
        "(x_train, x_test, y_train, y_test) = train_test_split(x, y, test_size=0.2)"
      ],
      "metadata": {
        "id": "pnTXiDsjQwft"
      },
      "execution_count": null,
      "outputs": []
    },
    {
      "cell_type": "code",
      "source": [
        "from imblearn.over_sampling import SMOTE\n",
        "from collections import Counter\n",
        "\n",
        "sm = SMOTE(random_state=42)\n",
        "x, y = sm.fit_resample(x_train, y_train)"
      ],
      "metadata": {
        "id": "xntzVHPry_vF"
      },
      "execution_count": null,
      "outputs": []
    },
    {
      "cell_type": "markdown",
      "source": [
        "## Проектирование сиамской сети"
      ],
      "metadata": {
        "id": "nJSMPaH5Stoi"
      }
    },
    {
      "cell_type": "code",
      "source": [
        "# определение входов сети\n",
        "left_input = Input(shape=(dim_x,))\n",
        "right_input = Input(shape=(dim_x,))"
      ],
      "metadata": {
        "id": "84XTHP89RrhC"
      },
      "execution_count": null,
      "outputs": []
    },
    {
      "cell_type": "code",
      "source": [
        "convnet = Sequential([\n",
        "    Dense(512,activation='relu',input_dim=dim_x),\n",
        "    Dense(256, activation='relu'),\n",
        "    Dense(128, activation='relu')\n",
        "])"
      ],
      "metadata": {
        "id": "gYR0ROovRraU"
      },
      "execution_count": null,
      "outputs": []
    },
    {
      "cell_type": "code",
      "source": [
        "encoded_l = convnet(left_input)\n",
        "encoded_r = convnet(right_input)"
      ],
      "metadata": {
        "id": "4PIOL-TCSQcI"
      },
      "execution_count": null,
      "outputs": []
    },
    {
      "cell_type": "code",
      "source": [
        "# Получение L1-расстояния между двумя эмбедингами\n",
        "L1_layer = Lambda(lambda tensor:K.abs(tensor[0] - tensor[1]))"
      ],
      "metadata": {
        "id": "2stpT52ASQZo"
      },
      "execution_count": null,
      "outputs": []
    },
    {
      "cell_type": "code",
      "source": [
        "# добавление функции растояния между выходами из сети\n",
        "L1_distance = L1_layer([encoded_l, encoded_r])"
      ],
      "metadata": {
        "id": "F6Rqw55TSQWu"
      },
      "execution_count": null,
      "outputs": []
    },
    {
      "cell_type": "code",
      "source": [
        "prediction = Dense(1,activation='sigmoid')(L1_distance)"
      ],
      "metadata": {
        "id": "7Z-7uxfRSpFr"
      },
      "execution_count": null,
      "outputs": []
    },
    {
      "cell_type": "code",
      "source": [
        "\n",
        "siamese_net = Model(inputs=[left_input,right_input],outputs=prediction)"
      ],
      "metadata": {
        "id": "WHGfC3M8SszK"
      },
      "execution_count": null,
      "outputs": []
    },
    {
      "cell_type": "code",
      "source": [
        "siamese_net.compile(loss=\"binary_crossentropy\",optimizer='adam',metrics=['accuracy'])"
      ],
      "metadata": {
        "id": "Y6hET7xZS5J2"
      },
      "execution_count": null,
      "outputs": []
    },
    {
      "cell_type": "code",
      "source": [
        "from keras.utils.vis_utils import plot_model\n",
        "plot_model(siamese_net, to_file='model_plot.png', show_shapes=True, show_layer_names=True)\n"
      ],
      "metadata": {
        "colab": {
          "base_uri": "https://localhost:8080/",
          "height": 422
        },
        "id": "duCp5xnTDXSC",
        "outputId": "9893bf29-610a-4d79-a557-4fe7526383c6"
      },
      "execution_count": null,
      "outputs": [
        {
          "output_type": "execute_result",
          "data": {
            "image/png": "[encoded data removed]",
            "text/plain": [
              "<IPython.core.display.Image object>"
            ]
          },
          "metadata": {},
          "execution_count": 28
        }
      ]
    },
    {
      "cell_type": "code",
      "source": [
        "# генерация пар (случайным образом)\n",
        "\n",
        "def make_pairs(x, y, pairs):\n",
        "  left_input = []\n",
        "  right_input = []\n",
        "  targets = []\n",
        "\n",
        "  for i in range(y.shape[0]):\n",
        "    pos = 0\n",
        "    neg = 0\n",
        "    while (pos<pairs):\n",
        "      compare_to = random.randint(0,y.shape[0]-1)\n",
        "      if y[i] == y[compare_to]:\n",
        "        left_input.append(x[i])\n",
        "        right_input.append(x[compare_to])\n",
        "        targets.append(1)\n",
        "        pos=pos+1;\n",
        "\n",
        "    while (neg<pairs):\n",
        "      compare_to = random.randint(0,y.shape[0]-1)\n",
        "      if y[i] != y[compare_to]:\n",
        "        left_input.append(x[i])\n",
        "        right_input.append(x[compare_to])\n",
        "        targets.append(0)\n",
        "        neg=neg+1\n",
        "\n",
        "\n",
        "  left_input = np.squeeze(np.array(left_input))\n",
        "  right_input = np.squeeze(np.array(right_input))\n",
        "  targets = np.squeeze(np.array(targets))\n",
        "\n",
        "  return left_input, right_input, targets"
      ],
      "metadata": {
        "id": "U4TkVJi2S7q-"
      },
      "execution_count": null,
      "outputs": []
    },
    {
      "cell_type": "code",
      "source": [
        "left_input, right_input, targets = make_pairs(x_train, y_train, 3)\n",
        "test_left,test_right, test_targets = make_pairs(x_test, y_test, 3)"
      ],
      "metadata": {
        "id": "uRUofwF7VIuQ"
      },
      "execution_count": null,
      "outputs": []
    },
    {
      "cell_type": "code",
      "source": [
        "siamese_net.fit([left_input,right_input], targets,\n",
        "          batch_size=128,\n",
        "          epochs=60,\n",
        "          verbose=1,\n",
        "\t\t  validation_data=([test_left,test_right],test_targets)\n",
        "          )"
      ],
      "metadata": {
        "colab": {
          "base_uri": "https://localhost:8080/"
        },
        "id": "5DreqfMRV-TI",
        "outputId": "f3a5415c-eec3-4b6f-9039-11f98c60de21"
      },
      "execution_count": null,
      "outputs": [
        {
          "output_type": "stream",
          "name": "stdout",
          "text": [
            "Epoch 1/60\n",
            "470/470 [==============================] - 8s 16ms/step - loss: 0.6913 - accuracy: 0.5244 - val_loss: 0.6889 - val_accuracy: 0.5321\n",
            "Epoch 2/60\n",
            "470/470 [==============================] - 7s 15ms/step - loss: 0.6848 - accuracy: 0.5442 - val_loss: 0.6843 - val_accuracy: 0.5427\n",
            "Epoch 3/60\n",
            "470/470 [==============================] - 7s 15ms/step - loss: 0.6819 - accuracy: 0.5520 - val_loss: 0.6826 - val_accuracy: 0.5558\n",
            "Epoch 4/60\n",
            "470/470 [==============================] - 7s 15ms/step - loss: 0.6781 - accuracy: 0.5595 - val_loss: 0.6782 - val_accuracy: 0.5680\n",
            "Epoch 5/60\n",
            "470/470 [==============================] - 7s 15ms/step - loss: 0.6739 - accuracy: 0.5726 - val_loss: 0.6771 - val_accuracy: 0.5686\n",
            "Epoch 6/60\n",
            "470/470 [==============================] - 7s 16ms/step - loss: 0.6693 - accuracy: 0.5796 - val_loss: 0.6742 - val_accuracy: 0.5790\n",
            "Epoch 7/60\n",
            "470/470 [==============================] - 7s 16ms/step - loss: 0.6640 - accuracy: 0.5899 - val_loss: 0.6752 - val_accuracy: 0.5738\n",
            "Epoch 8/60\n",
            "470/470 [==============================] - 7s 15ms/step - loss: 0.6564 - accuracy: 0.5982 - val_loss: 0.6707 - val_accuracy: 0.5849\n",
            "Epoch 9/60\n",
            "470/470 [==============================] - 7s 16ms/step - loss: 0.6480 - accuracy: 0.6129 - val_loss: 0.6658 - val_accuracy: 0.5947\n",
            "Epoch 10/60\n",
            "470/470 [==============================] - 7s 16ms/step - loss: 0.6371 - accuracy: 0.6269 - val_loss: 0.6641 - val_accuracy: 0.5993\n",
            "Epoch 11/60\n",
            "470/470 [==============================] - 7s 15ms/step - loss: 0.6234 - accuracy: 0.6424 - val_loss: 0.6518 - val_accuracy: 0.6166\n",
            "Epoch 12/60\n",
            "470/470 [==============================] - 7s 16ms/step - loss: 0.6085 - accuracy: 0.6576 - val_loss: 0.6522 - val_accuracy: 0.6201\n",
            "Epoch 13/60\n",
            "470/470 [==============================] - 7s 15ms/step - loss: 0.5918 - accuracy: 0.6762 - val_loss: 0.6537 - val_accuracy: 0.6174\n",
            "Epoch 14/60\n",
            "470/470 [==============================] - 7s 15ms/step - loss: 0.5727 - accuracy: 0.6941 - val_loss: 0.6382 - val_accuracy: 0.6347\n",
            "Epoch 15/60\n",
            "470/470 [==============================] - 7s 15ms/step - loss: 0.5530 - accuracy: 0.7095 - val_loss: 0.6258 - val_accuracy: 0.6580\n",
            "Epoch 16/60\n",
            "470/470 [==============================] - 7s 15ms/step - loss: 0.5330 - accuracy: 0.7236 - val_loss: 0.6293 - val_accuracy: 0.6573\n",
            "Epoch 17/60\n",
            "470/470 [==============================] - 7s 15ms/step - loss: 0.5108 - accuracy: 0.7423 - val_loss: 0.6258 - val_accuracy: 0.6687\n",
            "Epoch 18/60\n",
            "470/470 [==============================] - 7s 15ms/step - loss: 0.4875 - accuracy: 0.7595 - val_loss: 0.6135 - val_accuracy: 0.6749\n",
            "Epoch 19/60\n",
            "470/470 [==============================] - 7s 15ms/step - loss: 0.4660 - accuracy: 0.7741 - val_loss: 0.6246 - val_accuracy: 0.6810\n",
            "Epoch 20/60\n",
            "470/470 [==============================] - 7s 15ms/step - loss: 0.4425 - accuracy: 0.7899 - val_loss: 0.5906 - val_accuracy: 0.7037\n",
            "Epoch 21/60\n",
            "470/470 [==============================] - 7s 15ms/step - loss: 0.4191 - accuracy: 0.8049 - val_loss: 0.5948 - val_accuracy: 0.7082\n",
            "Epoch 22/60\n",
            "470/470 [==============================] - 7s 15ms/step - loss: 0.3985 - accuracy: 0.8166 - val_loss: 0.5943 - val_accuracy: 0.7159\n",
            "Epoch 23/60\n",
            "470/470 [==============================] - 7s 15ms/step - loss: 0.3788 - accuracy: 0.8294 - val_loss: 0.6180 - val_accuracy: 0.7082\n",
            "Epoch 24/60\n",
            "470/470 [==============================] - 7s 16ms/step - loss: 0.3563 - accuracy: 0.8406 - val_loss: 0.5972 - val_accuracy: 0.7294\n",
            "Epoch 25/60\n",
            "470/470 [==============================] - 7s 15ms/step - loss: 0.3370 - accuracy: 0.8506 - val_loss: 0.5961 - val_accuracy: 0.7260\n",
            "Epoch 26/60\n",
            "470/470 [==============================] - 7s 16ms/step - loss: 0.3218 - accuracy: 0.8577 - val_loss: 0.6273 - val_accuracy: 0.7310\n",
            "Epoch 27/60\n",
            "470/470 [==============================] - 7s 16ms/step - loss: 0.3041 - accuracy: 0.8687 - val_loss: 0.6125 - val_accuracy: 0.7442\n",
            "Epoch 28/60\n",
            "470/470 [==============================] - 8s 16ms/step - loss: 0.2897 - accuracy: 0.8755 - val_loss: 0.5965 - val_accuracy: 0.7453\n",
            "Epoch 29/60\n",
            "470/470 [==============================] - 8s 16ms/step - loss: 0.2740 - accuracy: 0.8833 - val_loss: 0.6345 - val_accuracy: 0.7466\n",
            "Epoch 30/60\n",
            "470/470 [==============================] - 7s 16ms/step - loss: 0.2597 - accuracy: 0.8901 - val_loss: 0.6037 - val_accuracy: 0.7600\n",
            "Epoch 31/60\n",
            "470/470 [==============================] - 7s 16ms/step - loss: 0.2469 - accuracy: 0.8974 - val_loss: 0.6289 - val_accuracy: 0.7590\n",
            "Epoch 32/60\n",
            "470/470 [==============================] - 7s 16ms/step - loss: 0.2370 - accuracy: 0.9007 - val_loss: 0.6575 - val_accuracy: 0.7536\n",
            "Epoch 33/60\n",
            "470/470 [==============================] - 7s 16ms/step - loss: 0.2245 - accuracy: 0.9073 - val_loss: 0.6536 - val_accuracy: 0.7651\n",
            "Epoch 34/60\n",
            "470/470 [==============================] - 7s 16ms/step - loss: 0.2125 - accuracy: 0.9125 - val_loss: 0.6532 - val_accuracy: 0.7659\n",
            "Epoch 35/60\n",
            "470/470 [==============================] - 8s 16ms/step - loss: 0.2080 - accuracy: 0.9148 - val_loss: 0.6698 - val_accuracy: 0.7666\n",
            "Epoch 36/60\n",
            "470/470 [==============================] - 7s 16ms/step - loss: 0.1980 - accuracy: 0.9191 - val_loss: 0.6164 - val_accuracy: 0.7792\n",
            "Epoch 37/60\n",
            "470/470 [==============================] - 7s 14ms/step - loss: 0.1896 - accuracy: 0.9225 - val_loss: 0.6955 - val_accuracy: 0.7683\n",
            "Epoch 38/60\n",
            "470/470 [==============================] - 7s 14ms/step - loss: 0.1835 - accuracy: 0.9254 - val_loss: 0.6633 - val_accuracy: 0.7719\n",
            "Epoch 39/60\n",
            "470/470 [==============================] - 7s 15ms/step - loss: 0.1762 - accuracy: 0.9277 - val_loss: 0.7079 - val_accuracy: 0.7688\n",
            "Epoch 40/60\n",
            "470/470 [==============================] - 7s 14ms/step - loss: 0.1680 - accuracy: 0.9320 - val_loss: 0.7263 - val_accuracy: 0.7710\n",
            "Epoch 41/60\n",
            "470/470 [==============================] - 6s 14ms/step - loss: 0.1643 - accuracy: 0.9342 - val_loss: 0.7169 - val_accuracy: 0.7792\n",
            "Epoch 42/60\n",
            "470/470 [==============================] - 6s 14ms/step - loss: 0.1556 - accuracy: 0.9379 - val_loss: 0.7330 - val_accuracy: 0.7769\n",
            "Epoch 43/60\n",
            "470/470 [==============================] - 7s 15ms/step - loss: 0.1479 - accuracy: 0.9414 - val_loss: 0.7237 - val_accuracy: 0.7825\n",
            "Epoch 44/60\n",
            "470/470 [==============================] - 6s 14ms/step - loss: 0.1514 - accuracy: 0.9380 - val_loss: 0.7605 - val_accuracy: 0.7810\n",
            "Epoch 45/60\n",
            "470/470 [==============================] - 6s 13ms/step - loss: 0.1433 - accuracy: 0.9425 - val_loss: 0.7425 - val_accuracy: 0.7888\n",
            "Epoch 46/60\n",
            "470/470 [==============================] - 6s 13ms/step - loss: 0.1392 - accuracy: 0.9440 - val_loss: 0.7836 - val_accuracy: 0.7732\n",
            "Epoch 47/60\n",
            "470/470 [==============================] - 6s 13ms/step - loss: 0.1341 - accuracy: 0.9464 - val_loss: 0.7557 - val_accuracy: 0.7811\n",
            "Epoch 48/60\n",
            "470/470 [==============================] - 7s 15ms/step - loss: 0.1315 - accuracy: 0.9476 - val_loss: 0.7771 - val_accuracy: 0.7765\n",
            "Epoch 49/60\n",
            "470/470 [==============================] - 7s 15ms/step - loss: 0.1251 - accuracy: 0.9504 - val_loss: 0.7903 - val_accuracy: 0.7820\n",
            "Epoch 50/60\n",
            "470/470 [==============================] - 7s 14ms/step - loss: 0.1269 - accuracy: 0.9493 - val_loss: 0.8587 - val_accuracy: 0.7766\n",
            "Epoch 51/60\n",
            "470/470 [==============================] - 6s 14ms/step - loss: 0.1147 - accuracy: 0.9552 - val_loss: 0.8215 - val_accuracy: 0.7776\n",
            "Epoch 52/60\n",
            "470/470 [==============================] - 7s 14ms/step - loss: 0.1131 - accuracy: 0.9551 - val_loss: 0.8171 - val_accuracy: 0.7904\n",
            "Epoch 53/60\n",
            "470/470 [==============================] - 7s 16ms/step - loss: 0.1133 - accuracy: 0.9559 - val_loss: 0.8724 - val_accuracy: 0.7808\n",
            "Epoch 54/60\n",
            "470/470 [==============================] - 7s 16ms/step - loss: 0.1082 - accuracy: 0.9577 - val_loss: 0.8477 - val_accuracy: 0.7867\n",
            "Epoch 55/60\n",
            "470/470 [==============================] - 7s 16ms/step - loss: 0.1070 - accuracy: 0.9573 - val_loss: 0.8799 - val_accuracy: 0.7799\n",
            "Epoch 56/60\n",
            "470/470 [==============================] - 7s 15ms/step - loss: 0.1063 - accuracy: 0.9583 - val_loss: 0.8970 - val_accuracy: 0.7732\n",
            "Epoch 57/60\n",
            "470/470 [==============================] - 7s 14ms/step - loss: 0.1022 - accuracy: 0.9599 - val_loss: 0.8908 - val_accuracy: 0.7894\n",
            "Epoch 58/60\n",
            "470/470 [==============================] - 7s 16ms/step - loss: 0.0994 - accuracy: 0.9613 - val_loss: 0.8889 - val_accuracy: 0.7849\n",
            "Epoch 59/60\n",
            "470/470 [==============================] - 8s 16ms/step - loss: 0.0954 - accuracy: 0.9631 - val_loss: 0.9207 - val_accuracy: 0.7837\n",
            "Epoch 60/60\n",
            "470/470 [==============================] - 7s 16ms/step - loss: 0.0894 - accuracy: 0.9650 - val_loss: 0.8774 - val_accuracy: 0.7905\n"
          ]
        },
        {
          "output_type": "execute_result",
          "data": {
            "text/plain": [
              "<keras.callbacks.History at 0x7fcd247c9b10>"
            ]
          },
          "metadata": {},
          "execution_count": 157
        }
      ]
    }
  ]
}