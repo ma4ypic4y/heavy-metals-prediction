{
 "cells": [
  {
   "cell_type": "markdown",
   "metadata": {},
   "source": [
    "# Получение информации (индексов) с космоснимков"
   ]
  },
  {
   "cell_type": "code",
   "execution_count": null,
   "metadata": {},
   "outputs": [],
   "source": [
    "import os\n",
    "import datetime\n",
    "import pandas as pd\n",
    "import numpy as np\n",
    "import matplotlib.pyplot as plt\n",
    "from tqdm import tqdm\n",
    "\n",
    "import ee"
   ]
  },
  {
   "cell_type": "markdown",
   "metadata": {},
   "source": [
    "### Авторизация Google Earth Engine API"
   ]
  },
  {
   "cell_type": "code",
   "execution_count": null,
   "metadata": {},
   "outputs": [],
   "source": [
    "ee.Authenticate()\n",
    "ee.Initialize()"
   ]
  },
  {
   "cell_type": "code",
   "execution_count": null,
   "metadata": {},
   "outputs": [],
   "source": [
    "# coordinates region of interest (lat, lon)\n",
    "df_generated_points = pd.read_csv('generated_points.csv')"
   ]
  },
  {
   "cell_type": "markdown",
   "metadata": {},
   "source": [
    "### Алгоритм получения данных с космоснимков\n",
    "Для получения индексов необходимо: выбрать точки пробоотбора, выбрать косми-ческую программу (коллекцию), определить область (в метрах), по которой будет произ-водиться анализ, выбрать временной промежуток, выбрать необходимый тип Reducer. \n",
    "Из полученных параметров формируется API-запрос на сервис GEE. После обра-ботки, сервис возвращает полученные индексы. В дальнейшем полученные индексы должны быть использованы для обучения моделей. Но перед тем, как обучать модели, нужно их отфильтровать.\n",
    "\n",
    "В качестве примера продемонстрирован алгоритм получения NDVI.\n"
   ]
  },
  {
   "cell_type": "markdown",
   "metadata": {},
   "source": [
    "### NDVI\n",
    "Вегетационный индекс использует свойства красного каналов (кото-рый поглощает растительность) и ближних инфракрасных каналов (которые сильно отражают растительность). Как следует из названия, он используется для мониторинга здоровья и силы растительности. Нормализованный относительный индекс растительности (NDVI) всегда колеблется от -1 до +1. Отрицательные значения указывают на наличие воды и влаги. Но высокие значения NDVI предполагают густой растительный покров. Данный индекс активно примется в сельском хозяйстве для контроля состояния посевов.\n"
   ]
  },
  {
   "cell_type": "code",
   "execution_count": null,
   "metadata": {},
   "outputs": [],
   "source": [
    "def get_ndvi_index(df, image_collection, start_date, end_date):\n",
    "    \"\"\"\n",
    "    Get the index of the generated points.\n",
    "    \"\"\"\n",
    "    ndvi_val = []\n",
    "\n",
    "    for i in tqdm(range(len(df))):\n",
    "        lon = df['Longitude'][i]\n",
    "        lat = df['Latitude'][i]\n",
    "        point = (ee.Geometry.Point(lon, lat))\n",
    "\n",
    "        l8 = ee.ImageCollection(image_collection)\n",
    "    \n",
    "        image = ee.Image(l8.filterBounds(point)\n",
    "            .filterDate(start_date, end_date)\n",
    "            .sort('CLOUD_COVER')\n",
    "            .first())\n",
    "    \n",
    "        nir = image.select('B5')\n",
    "        red = image.select('B4')\n",
    "        ndvi = nir.subtract(red).divide(nir.add(red)).rename('NDVI')\n",
    "        val = (ndvi.reduceRegion(\n",
    "                            reducer=ee.Reducer.mean(),\n",
    "                            geometry=point,\n",
    "                            scale=10))\n",
    "        \n",
    "        try:\n",
    "            ndvi_val.append(val.getInfo().get('NDVI'))\n",
    "        except:\n",
    "            ndvi_val.append(np.nan)\n",
    "            continue\n",
    "        \n",
    "    return pd.Series(ndvi_val, copy=False)"
   ]
  },
  {
   "cell_type": "code",
   "execution_count": null,
   "metadata": {},
   "outputs": [],
   "source": [
    "image_collection = 'LANDSAT/LC08/C01/T1_TOA'\n",
    "start_date = '2015-01-01'\n",
    "end_date = '2015-12-31'"
   ]
  },
  {
   "cell_type": "code",
   "execution_count": null,
   "metadata": {},
   "outputs": [],
   "source": [
    "df_ndvi = get_ndvi_index(df_generated_points, image_collection, start_date, end_date)"
   ]
  }
 ],
 "metadata": {
  "language_info": {
   "name": "python"
  },
  "orig_nbformat": 4
 },
 "nbformat": 4,
 "nbformat_minor": 2
}
