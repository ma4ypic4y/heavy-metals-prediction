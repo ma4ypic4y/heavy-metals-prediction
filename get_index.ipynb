{
 "cells": [
  {
   "cell_type": "markdown",
   "metadata": {},
   "source": [
    "# Получение информации (индексов) с космоснимков"
   ]
  },
  {
   "cell_type": "code",
   "execution_count": null,
   "metadata": {},
   "outputs": [],
   "source": [
    "import os\n",
    "import datetime\n",
    "import pandas as pd\n",
    "import numpy as np\n",
    "import matplotlib.pyplot as plt\n",
    "from tqdm import tqdm\n",
    "\n",
    "import ee"
   ]
  },
  {
   "cell_type": "markdown",
   "metadata": {},
   "source": [
    "### Авторизация Google Earth Engine API"
   ]
  },
  {
   "cell_type": "code",
   "execution_count": null,
   "metadata": {},
   "outputs": [],
   "source": [
    "ee.Authenticate()\n",
    "ee.Initialize()"
   ]
  },
  {
   "cell_type": "code",
   "execution_count": null,
   "metadata": {},
   "outputs": [],
   "source": [
    "# coordinates region of interest (lat, lon)\n",
    "df_generated_points = pd.read_csv('generated_points.csv')"
   ]
  },
  {
   "cell_type": "markdown",
   "metadata": {},
   "source": [
    "### Апробация"
   ]
  },
  {
   "cell_type": "markdown",
   "metadata": {},
   "source": [
    "Чтобы осуществить прогнозирование выбирается металл, по которому оно будет проводится, после чего, необходимо выбрать интересующую область. Важно отметить, концентрация металлов актуальна только для областей на земле, поэтому необходимо отсечь точки, лежащие на воде и заснеженных районах. Поскольку получение индексов — это время затратный процесс, перед получением целевых индексов, необходимо исключить неподходящие точки.\n",
    "Для фильтрации точек используется нормализованный относительный индекс растительности. Простой показатель количества фотосинтетически активной биомассы (NDVI). Его показатели лежат в пределах . Области с густым растительным покровом будет стремиться к положительным значениям (скажем, от 0,3 до 0,8), а облака и снежные поля будут характеризоваться отрицательными значениями этого показателя. Свободно стоящая вода (например, океаны, моря, озера и реки) имеет довольно низкую отражательную способность в обоих спектральных диапазонах (по крайней мере, вдали от берегов), что приводит к очень низким положительным или даже отрицательным значениям NDVI."
   ]
  },
  {
   "cell_type": "markdown",
   "metadata": {},
   "source": [
    "### Алгоритм получения данных с космоснимков\n",
    "Для получения индексов необходимо: выбрать точки пробоотбора, выбрать косми-ческую программу (коллекцию), определить область (в метрах), по которой будет произ-водиться анализ, выбрать временной промежуток, выбрать необходимый тип Reducer. \n",
    "Из полученных параметров формируется API-запрос на сервис GEE. После обра-ботки, сервис возвращает полученные индексы. В дальнейшем полученные индексы должны быть использованы для обучения моделей. Но перед тем, как обучать модели, нужно их отфильтровать.\n",
    "\n",
    "В качестве примера продемонстрирован алгоритм получения NDVI.\n"
   ]
  },
  {
   "cell_type": "markdown",
   "metadata": {},
   "source": [
    "### NDVI\n",
    "Вегетационный индекс использует свойства красного каналов (кото-рый поглощает растительность) и ближних инфракрасных каналов (которые сильно отражают растительность). Как следует из названия, он используется для мониторинга здоровья и силы растительности. Нормализованный относительный индекс растительности (NDVI) всегда колеблется от -1 до +1. Отрицательные значения указывают на наличие воды и влаги. Но высокие значения NDVI предполагают густой растительный покров. Данный индекс активно примется в сельском хозяйстве для контроля состояния посевов.\n"
   ]
  },
  {
   "cell_type": "markdown",
   "metadata": {},
   "source": [
    "![This is a alt text.](image/ndvi.jpg \"This is a sample image.\")"
   ]
  },
  {
   "cell_type": "markdown",
   "metadata": {},
   "source": [
    "С использованием платформы GEE, были интерактивно получены показатели NDVI в различных районах, как можно увидеть на рисунке 61. Подобрано оптимально значение параметра, при котором отсутствуют точки на воде и в заснеженных районах. Точки отфильтрованы по порогу ."
   ]
  },
  {
   "cell_type": "markdown",
   "metadata": {},
   "source": [
    "![This is a alt text.](image/gee_ndvi.png \"This is a sample image.\")"
   ]
  },
  {
   "cell_type": "code",
   "execution_count": null,
   "metadata": {},
   "outputs": [],
   "source": [
    "def get_ndvi_index(df, image_collection, start_date, end_date):\n",
    "    \"\"\"\n",
    "    Get the index of the generated points.\n",
    "    \"\"\"\n",
    "    ndvi_val = []\n",
    "\n",
    "    for i in tqdm(range(len(df))):\n",
    "        lon = df['Longitude'][i]\n",
    "        lat = df['Latitude'][i]\n",
    "        point = (ee.Geometry.Point(lon, lat))\n",
    "\n",
    "        l8 = ee.ImageCollection(image_collection)\n",
    "    \n",
    "        image = ee.Image(l8.filterBounds(point)\n",
    "            .filterDate(start_date, end_date)\n",
    "            .sort('CLOUD_COVER')\n",
    "            .first())\n",
    "    \n",
    "        nir = image.select('B5')\n",
    "        red = image.select('B4')\n",
    "        ndvi = nir.subtract(red).divide(nir.add(red)).rename('NDVI')\n",
    "        val = (ndvi.reduceRegion(\n",
    "                            reducer=ee.Reducer.mean(),\n",
    "                            geometry=point,\n",
    "                            scale=10))\n",
    "        \n",
    "        try:\n",
    "            ndvi_val.append(val.getInfo().get('NDVI'))\n",
    "        except:\n",
    "            ndvi_val.append(np.nan)\n",
    "            continue\n",
    "        \n",
    "    return pd.Series(ndvi_val, copy=False)"
   ]
  },
  {
   "cell_type": "code",
   "execution_count": null,
   "metadata": {},
   "outputs": [],
   "source": [
    "image_collection = 'LANDSAT/LC08/C01/T1_TOA'\n",
    "start_date = '2015-01-01'\n",
    "end_date = '2015-12-31'"
   ]
  },
  {
   "cell_type": "code",
   "execution_count": null,
   "metadata": {},
   "outputs": [],
   "source": [
    "df_ndvi = get_ndvi_index(df_generated_points, image_collection, start_date, end_date)"
   ]
  },
  {
   "cell_type": "markdown",
   "metadata": {},
   "source": [
    "После определения порога, его можно использовать для фильтрации не подходящих точек. Далее выбирается интересующая область, задается количество точек. Для каждой точки вычисляется значение NDVI индекса средствами API, предоставляемыми GEE. После чего точки фильтруются по определенному пороговому значению NDVI, результат фильтрации проиллюстрирован"
   ]
  },
  {
   "cell_type": "markdown",
   "metadata": {},
   "source": [
    "![This is a alt text.](image/ndvi_filter.png \"This is a sample image.\")"
   ]
  }
 ],
 "metadata": {
  "kernelspec": {
   "display_name": "Python 3.8.9 64-bit",
   "language": "python",
   "name": "python3"
  },
  "language_info": {
   "name": "python",
   "version": "3.8.9"
  },
  "orig_nbformat": 4,
  "vscode": {
   "interpreter": {
    "hash": "31f2aee4e71d21fbe5cf8b01ff0e069b9275f58929596ceb00d14d90e3e16cd6"
   }
  }
 },
 "nbformat": 4,
 "nbformat_minor": 2
}
